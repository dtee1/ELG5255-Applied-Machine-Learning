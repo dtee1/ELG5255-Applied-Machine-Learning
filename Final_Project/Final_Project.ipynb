{
  "nbformat": 4,
  "nbformat_minor": 0,
  "metadata": {
    "colab": {
      "provenance": [],
      "authorship_tag": "ABX9TyOzUDY+jQY79ZE9ku7b7nZc",
      "include_colab_link": true
    },
    "kernelspec": {
      "name": "python3",
      "display_name": "Python 3"
    },
    "language_info": {
      "name": "python"
    }
  },
  "cells": [
    {
      "cell_type": "markdown",
      "metadata": {
        "id": "view-in-github",
        "colab_type": "text"
      },
      "source": [
        "<a href=\"https://colab.research.google.com/github/dtee1/ELG5255-Applied-Machine-Learning/blob/dev/Final_Project/Final_Project.ipynb\" target=\"_parent\"><img src=\"https://colab.research.google.com/assets/colab-badge.svg\" alt=\"Open In Colab\"/></a>"
      ]
    },
    {
      "cell_type": "code",
      "execution_count": null,
      "metadata": {
        "colab": {
          "base_uri": "https://localhost:8080/"
        },
        "id": "MVD_UMGFN_Yw",
        "outputId": "a0e04608-aa46-4d79-9b8d-79988090ca75"
      },
      "outputs": [
        {
          "output_type": "stream",
          "name": "stdout",
          "text": [
            "Mounted at /content/gdrive\n"
          ]
        }
      ],
      "source": [
        "import pandas as pd\n",
        "import numpy as np\n",
        "import statistics\n",
        "import matplotlib.pyplot as plt\n",
        "from mpl_toolkits.axisartist.axislines import Subplot\n",
        "from sklearn import svm, datasets\n",
        "from sklearn.linear_model import LogisticRegression\n",
        "from sklearn.model_selection import train_test_split\n",
        "from sklearn.neighbors import KNeighborsClassifier\n",
        "from sklearn.manifold import TSNE\n",
        "from sklearn.metrics import classification_report, ConfusionMatrixDisplay, accuracy_score, confusion_matrix\n",
        "from mlxtend.plotting import plot_decision_regions\n",
        "import seaborn as sns\n",
        "from sklearn.preprocessing import MultiLabelBinarizer\n",
        "from sklearn.cluster import KMeans\n",
        "from sklearn.preprocessing import StandardScaler\n",
        "from sklearn.decomposition import PCA\n",
        "from sklearn.metrics import mean_squared_error, silhouette_score\n",
        "from sklearn.feature_selection import SelectKBest\n",
        "from sklearn.feature_selection import mutual_info_classif, chi2, f_classif, f_regression\n",
        "from sklearn.utils.multiclass import unique_labels\n",
        "from sklearn.tree import DecisionTreeClassifier\n",
        "from sklearn.tree import DecisionTreeRegressor \n",
        "import warnings\n",
        "import os\n",
        "from google.colab import drive\n",
        "MOUNTPOINT = '/content/gdrive'\n",
        "DATADIR = os.path.join(MOUNTPOINT, 'My Drive', 'Applied_Machine_Learning_Final_Project')\n",
        "drive.mount(MOUNTPOINT)"
      ]
    },
    {
      "cell_type": "code",
      "source": [
        "# Load the DUMD test and train dataset \n",
        "def loadDataset(): \n",
        "  path=os.path.join(DATADIR, 'MCSDatasetNEXTCONLab.csv')\n",
        "  dataset = pd.read_csv(path)\n",
        "  return dataset"
      ],
      "metadata": {
        "id": "17wHrDGbONH-"
      },
      "execution_count": null,
      "outputs": []
    },
    {
      "cell_type": "code",
      "source": [
        "# This function prepares the test and train dataset \n",
        "# 75% of the dataset is used for training and 25% is used for testing \n",
        "def prepareDataset(feature,result):\n",
        "  dataset = loadDataset()\n",
        "  x = dataset[feature]\n",
        "  y = dataset[result]\n",
        "  X_train, X_test, y_train, y_test = train_test_split(x,y,random_state=0,test_size=0.1718,shuffle=False)\n",
        "  return X_train,X_test,y_train,y_test,dataset"
      ],
      "metadata": {
        "id": "lj6urbwHOQAd"
      },
      "execution_count": null,
      "outputs": []
    },
    {
      "cell_type": "markdown",
      "source": [
        "**Question 1: Best Baseline Performance Using:\n",
        "            KNN Classifer \n",
        "            Logistic Regression \n",
        "            SVM\n",
        "            Decision Tree Classifier \n",
        "            Naive Bayes Classifier**"
      ],
      "metadata": {
        "id": "jLIH8rSWvFoR"
      }
    },
    {
      "cell_type": "code",
      "source": [
        "def main():\n",
        "  warnings.simplefilter('ignore')\n",
        "  # Dataset features\n",
        "  features = ['ID','Latitude','Longitude','Hour','Minute','Duration','RemainingTime','Resources','Coverage','OnPeakHours','GridNumber']\n",
        "  \n",
        "  # Dataset output\n",
        "  result = ['Ligitimacy']\n",
        "  # Split dataset\n",
        "  X_train,X_test,y_train,y_test,dataset = prepareDataset(features,result)\n",
        "\n",
        "  # Logistic Regression\n",
        "  # Logistic Regression\n",
        "\n",
        "  # Create logistic regression model \n",
        "  model_LR = LogisticRegression()\n",
        "  # Train model\n",
        "  model_LR.fit(X_train,y_train)\n",
        "  # Test model\n",
        "  y_true_LR, y_pred_LR = y_test, model_LR.predict(X_test)\n",
        "  # Model evaluation\n",
        "  print('Accuracy of Logistic Regression model: {:.3f}%'.format(accuracy_score(y_test, y_pred_LR) * 100))\n",
        "  conf_LR = confusion_matrix(y_test, y_pred_LR)\n",
        "  print(conf_LR)\n",
        "  plt.figure(1,figsize=(8,8))\n",
        "  sns.heatmap(conf_LR, annot=True, fmt=\".3f\", linewidths=.5, square = True, cmap = 'Blues_r');\n",
        "  plt.ylabel('Actual Values');\n",
        "  plt.xlabel('Predicted Values');\n",
        "  plt.title('Confusion Matrix of Logistic Regression Model', size = 15);\n",
        "\n",
        "  # KNN \n",
        "  # KNN\n",
        "  # Create KNN Model\n",
        "  model_KNN = KNeighborsClassifier()\n",
        "  # Train model\n",
        "  model_KNN.fit(X_train,y_train)\n",
        "  # Test model\n",
        "  y_true_KNN, y_pred_KNN = y_test, model_KNN.predict(X_test)\n",
        "  # Model evaluation\n",
        "  print('Accuracy of KNN model: {:.3f}%'.format(accuracy_score(y_test, y_pred_KNN) * 100))\n",
        "  conf_KNN = confusion_matrix(y_test, y_pred_KNN)\n",
        "  print(conf_KNN)\n",
        "  plt.figure(2,figsize=(8,8))\n",
        "  sns.heatmap(conf_KNN, annot=True, fmt=\".3f\", linewidths=.5, square = True, cmap = 'Blues_r');\n",
        "  plt.ylabel('Actual Values');\n",
        "  plt.xlabel('Predicted Values');\n",
        "  plt.title('Confusion Matrix of KNN Model', size = 15);\n",
        "\n",
        "  # SVM\n",
        "  # SVM \n",
        "  model_SVM = svm.SVC()\n",
        "  # Train model\n",
        "  model_SVM.fit(X_train,y_train)\n",
        "  # Test model\n",
        "  y_true_SVM, y_pred_SVM = y_test, model_SVM.predict(X_test)\n",
        "  # Model evaluation\n",
        "  print('Accuracy of SVM model: {:.3f}%'.format(accuracy_score(y_test, y_pred_SVM) * 100))\n",
        "  conf_SVM = confusion_matrix(y_test, y_pred_SVM)\n",
        "  print(conf_SVM)\n",
        "  plt.figure(3,figsize=(8,8))\n",
        "  sns.heatmap(conf_SVM, annot=True, fmt=\".3f\", linewidths=.5, square = True, cmap = 'Blues_r');\n",
        "  plt.ylabel('Actual Values');\n",
        "  plt.xlabel('Predicted Values');\n",
        "  plt.title('Confusion Matrix of SVM Model', size = 15);\n",
        "\n",
        "  # Decision Tree Classifier\n",
        "  model_DT=DecisionTreeClassifier(max_depth=2)\n",
        "  # Train model\n",
        "  model_DT.fit(X_train,y_train)\n",
        "  # Test model\n",
        "  y_true_DT, y_pred_DT = y_test, model_DT.predict(X_test)\n",
        "  # Model evaluation\n",
        "  print('Accuracy of SVM model: {:.3f}%'.format(accuracy_score(y_test, y_pred_DT) * 100))\n",
        "  conf_DT = confusion_matrix(y_test, y_pred_DT)\n",
        "  print(conf_DT)\n",
        "  plt.figure(4,figsize=(8,8))\n",
        "  sns.heatmap(conf_DT, annot=True, fmt=\".3f\", linewidths=.5, square = True, cmap = 'Blues_r');\n",
        "  plt.ylabel('Actual Values');\n",
        "  plt.xlabel('Predicted Values');\n",
        "  plt.title('Confusion Matrix of Decision Tree Model', size = 15);\n",
        "\n",
        "if __name__ == '__main__':\n",
        "  main()"
      ],
      "metadata": {
        "id": "kSplIz3GOTFu"
      },
      "execution_count": null,
      "outputs": []
    },
    {
      "cell_type": "markdown",
      "source": [
        "**Question 2: Dimensionality Reduction Techniques **"
      ],
      "metadata": {
        "id": "XJia0-kJv4WX"
      }
    },
    {
      "cell_type": "code",
      "source": [
        "def main():\n",
        "  warnings.simplefilter('ignore')\n",
        "  # Dataset features\n",
        "  features = ['ID','Latitude','Longitude','Hour','Minute','Duration','RemainingTime','Resources','Coverage','OnPeakHours','GridNumber']\n",
        "  \n",
        "  # Dataset output\n",
        "  result = ['Ligitimacy']\n",
        "  # Split dataset\n",
        "  X_train,X_test,y_train,y_test,dataset = prepareDataset(features,result)\n",
        "\n",
        "  # Logistic Regression\n",
        "  # Logistic Regression\n",
        "\n",
        "  # Create logistic regression model \n",
        "  model_LR = LogisticRegression()\n",
        "  # Train model\n",
        "  model_LR.fit(X_train,y_train)\n",
        "  # Test model\n",
        "  y_true_LR, y_pred_LR = y_test, model_LR.predict(X_test)\n",
        "  # Model evaluation\n",
        "  print('Accuracy of Logistic Regression model: {:.3f}%'.format(accuracy_score(y_test, y_pred_LR) * 100))\n",
        "  conf_LR = confusion_matrix(y_test, y_pred_LR)\n",
        "  print(conf_LR)\n",
        "  plt.figure(1,figsize=(8,8))\n",
        "  sns.heatmap(conf_LR, annot=True, fmt=\".3f\", linewidths=.5, square = True, cmap = 'Blues_r');\n",
        "  plt.ylabel('Actual Values');\n",
        "  plt.xlabel('Predicted Values');\n",
        "  plt.title('Confusion Matrix of Logistic Regression Model', size = 15);\n",
        "\n",
        "  # KNN \n",
        "  # KNN\n",
        "  # Create KNN Model\n",
        "  model_KNN = KNeighborsClassifier()\n",
        "  # Train model\n",
        "  model_KNN.fit(X_train,y_train)\n",
        "  # Test model\n",
        "  y_true_KNN, y_pred_KNN = y_test, model_KNN.predict(X_test)\n",
        "  # Model evaluation\n",
        "  print('Accuracy of KNN model: {:.3f}%'.format(accuracy_score(y_test, y_pred_KNN) * 100))\n",
        "  conf_KNN = confusion_matrix(y_test, y_pred_KNN)\n",
        "  print(conf_KNN)\n",
        "  plt.figure(2,figsize=(8,8))\n",
        "  sns.heatmap(conf_KNN, annot=True, fmt=\".3f\", linewidths=.5, square = True, cmap = 'Blues_r');\n",
        "  plt.ylabel('Actual Values');\n",
        "  plt.xlabel('Predicted Values');\n",
        "  plt.title('Confusion Matrix of KNN Model', size = 15);\n",
        "\n",
        "  # SVM\n",
        "  # SVM \n",
        "  model_SVM = svm.SVC()\n",
        "  # Train model\n",
        "  model_SVM.fit(X_train,y_train)\n",
        "  # Test model\n",
        "  y_true_SVM, y_pred_SVM = y_test, model_SVM.predict(X_test)\n",
        "  # Model evaluation\n",
        "  print('Accuracy of SVM model: {:.3f}%'.format(accuracy_score(y_test, y_pred_SVM) * 100))\n",
        "  conf_SVM = confusion_matrix(y_test, y_pred_SVM)\n",
        "  print(conf_SVM)\n",
        "  plt.figure(3,figsize=(8,8))\n",
        "  sns.heatmap(conf_SVM, annot=True, fmt=\".3f\", linewidths=.5, square = True, cmap = 'Blues_r');\n",
        "  plt.ylabel('Actual Values');\n",
        "  plt.xlabel('Predicted Values');\n",
        "  plt.title('Confusion Matrix of SVM Model', size = 15);\n",
        "\n",
        "  # Decision Tree Classifier\n",
        "  model_DT=DecisionTreeClassifier(max_depth=2)\n",
        "  # Train model\n",
        "  model_DT.fit(X_train,y_train)\n",
        "  # Test model\n",
        "  y_true_DT, y_pred_DT = y_test, model_DT.predict(X_test)\n",
        "  # Model evaluation\n",
        "  print('Accuracy of SVM model: {:.3f}%'.format(accuracy_score(y_test, y_pred_DT) * 100))\n",
        "  conf_DT = confusion_matrix(y_test, y_pred_DT)\n",
        "  print(conf_DT)\n",
        "  plt.figure(4,figsize=(8,8))\n",
        "  sns.heatmap(conf_DT, annot=True, fmt=\".3f\", linewidths=.5, square = True, cmap = 'Blues_r');\n",
        "  plt.ylabel('Actual Values');\n",
        "  plt.xlabel('Predicted Values');\n",
        "  plt.title('Confusion Matrix of Decision Tree Model', size = 15);\n",
        "\n",
        "if __name__ == '__main__':\n",
        "  main()"
      ],
      "metadata": {
        "id": "LRj84Xt5v3dI"
      },
      "execution_count": null,
      "outputs": []
    }
  ]
}