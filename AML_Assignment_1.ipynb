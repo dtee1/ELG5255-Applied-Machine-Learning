{
  "cells": [
    {
      "cell_type": "markdown",
      "id": "743584f5",
      "metadata": {
        "id": "743584f5"
      },
      "source": [
        "# Question 1(a) :"
      ]
    },
    {
      "cell_type": "markdown",
      "id": "56f5319f",
      "metadata": {
        "id": "56f5319f"
      },
      "source": [
        "References:\n",
        "\n",
        "https://www.mygreatlearning.com/blog/label-encoding-in-python/ \n",
        "\n",
        "https://www.adamsmith.haus/python/answers/how-to-read-specific-column-from-csv-file-in-python#:~:text=Use%20pandas.,read%20from%20the%20CSV%20file."
      ]
    },
    {
      "cell_type": "code",
      "execution_count": null,
      "id": "0f55ee1f",
      "metadata": {
        "id": "0f55ee1f",
        "outputId": "95ba91ed-db81-437b-d0db-e402560e91af"
      },
      "outputs": [
        {
          "data": {
            "text/html": [
              "<div>\n",
              "<style scoped>\n",
              "    .dataframe tbody tr th:only-of-type {\n",
              "        vertical-align: middle;\n",
              "    }\n",
              "\n",
              "    .dataframe tbody tr th {\n",
              "        vertical-align: top;\n",
              "    }\n",
              "\n",
              "    .dataframe thead th {\n",
              "        text-align: right;\n",
              "    }\n",
              "</style>\n",
              "<table border=\"1\" class=\"dataframe\">\n",
              "  <thead>\n",
              "    <tr style=\"text-align: right;\">\n",
              "      <th></th>\n",
              "      <th>STG</th>\n",
              "      <th>SCG</th>\n",
              "      <th>STR</th>\n",
              "      <th>LPR</th>\n",
              "      <th>PEG</th>\n",
              "      <th>UNS</th>\n",
              "    </tr>\n",
              "  </thead>\n",
              "  <tbody>\n",
              "    <tr>\n",
              "      <th>0</th>\n",
              "      <td>0.00</td>\n",
              "      <td>0.00</td>\n",
              "      <td>0.00</td>\n",
              "      <td>0.00</td>\n",
              "      <td>0.00</td>\n",
              "      <td>Very Low</td>\n",
              "    </tr>\n",
              "    <tr>\n",
              "      <th>1</th>\n",
              "      <td>0.08</td>\n",
              "      <td>0.08</td>\n",
              "      <td>0.10</td>\n",
              "      <td>0.24</td>\n",
              "      <td>0.90</td>\n",
              "      <td>High</td>\n",
              "    </tr>\n",
              "    <tr>\n",
              "      <th>2</th>\n",
              "      <td>0.10</td>\n",
              "      <td>0.10</td>\n",
              "      <td>0.15</td>\n",
              "      <td>0.65</td>\n",
              "      <td>0.30</td>\n",
              "      <td>Medium</td>\n",
              "    </tr>\n",
              "    <tr>\n",
              "      <th>3</th>\n",
              "      <td>0.08</td>\n",
              "      <td>0.08</td>\n",
              "      <td>0.08</td>\n",
              "      <td>0.98</td>\n",
              "      <td>0.24</td>\n",
              "      <td>Low</td>\n",
              "    </tr>\n",
              "    <tr>\n",
              "      <th>4</th>\n",
              "      <td>0.09</td>\n",
              "      <td>0.15</td>\n",
              "      <td>0.40</td>\n",
              "      <td>0.10</td>\n",
              "      <td>0.66</td>\n",
              "      <td>Medium</td>\n",
              "    </tr>\n",
              "    <tr>\n",
              "      <th>...</th>\n",
              "      <td>...</td>\n",
              "      <td>...</td>\n",
              "      <td>...</td>\n",
              "      <td>...</td>\n",
              "      <td>...</td>\n",
              "      <td>...</td>\n",
              "    </tr>\n",
              "    <tr>\n",
              "      <th>318</th>\n",
              "      <td>0.90</td>\n",
              "      <td>0.78</td>\n",
              "      <td>0.62</td>\n",
              "      <td>0.32</td>\n",
              "      <td>0.89</td>\n",
              "      <td>High</td>\n",
              "    </tr>\n",
              "    <tr>\n",
              "      <th>319</th>\n",
              "      <td>0.85</td>\n",
              "      <td>0.82</td>\n",
              "      <td>0.66</td>\n",
              "      <td>0.83</td>\n",
              "      <td>0.83</td>\n",
              "      <td>High</td>\n",
              "    </tr>\n",
              "    <tr>\n",
              "      <th>320</th>\n",
              "      <td>0.56</td>\n",
              "      <td>0.60</td>\n",
              "      <td>0.77</td>\n",
              "      <td>0.13</td>\n",
              "      <td>0.32</td>\n",
              "      <td>Low</td>\n",
              "    </tr>\n",
              "    <tr>\n",
              "      <th>321</th>\n",
              "      <td>0.66</td>\n",
              "      <td>0.68</td>\n",
              "      <td>0.81</td>\n",
              "      <td>0.57</td>\n",
              "      <td>0.57</td>\n",
              "      <td>Medium</td>\n",
              "    </tr>\n",
              "    <tr>\n",
              "      <th>322</th>\n",
              "      <td>0.68</td>\n",
              "      <td>0.64</td>\n",
              "      <td>0.79</td>\n",
              "      <td>0.97</td>\n",
              "      <td>0.24</td>\n",
              "      <td>Medium</td>\n",
              "    </tr>\n",
              "  </tbody>\n",
              "</table>\n",
              "<p>323 rows × 6 columns</p>\n",
              "</div>"
            ],
            "text/plain": [
              "      STG   SCG   STR   LPR   PEG       UNS\n",
              "0    0.00  0.00  0.00  0.00  0.00  Very Low\n",
              "1    0.08  0.08  0.10  0.24  0.90      High\n",
              "2    0.10  0.10  0.15  0.65  0.30    Medium\n",
              "3    0.08  0.08  0.08  0.98  0.24       Low\n",
              "4    0.09  0.15  0.40  0.10  0.66    Medium\n",
              "..    ...   ...   ...   ...   ...       ...\n",
              "318  0.90  0.78  0.62  0.32  0.89      High\n",
              "319  0.85  0.82  0.66  0.83  0.83      High\n",
              "320  0.56  0.60  0.77  0.13  0.32       Low\n",
              "321  0.66  0.68  0.81  0.57  0.57    Medium\n",
              "322  0.68  0.64  0.79  0.97  0.24    Medium\n",
              "\n",
              "[323 rows x 6 columns]"
            ]
          },
          "execution_count": 1,
          "metadata": {},
          "output_type": "execute_result"
        }
      ],
      "source": [
        "import numpy as np\n",
        "import pandas as pd\n",
        "from sklearn.preprocessing import LabelEncoder\n",
        "\n",
        "data_train = pd.read_csv(\"DUMD_train.csv\")\n",
        "\n",
        "data_train"
      ]
    },
    {
      "cell_type": "code",
      "execution_count": null,
      "id": "a4ffbc9e",
      "metadata": {
        "id": "a4ffbc9e",
        "outputId": "c2051ee1-d862-465a-e7f2-1ed0f8f2eb73"
      },
      "outputs": [
        {
          "data": {
            "text/html": [
              "<div>\n",
              "<style scoped>\n",
              "    .dataframe tbody tr th:only-of-type {\n",
              "        vertical-align: middle;\n",
              "    }\n",
              "\n",
              "    .dataframe tbody tr th {\n",
              "        vertical-align: top;\n",
              "    }\n",
              "\n",
              "    .dataframe thead th {\n",
              "        text-align: right;\n",
              "    }\n",
              "</style>\n",
              "<table border=\"1\" class=\"dataframe\">\n",
              "  <thead>\n",
              "    <tr style=\"text-align: right;\">\n",
              "      <th></th>\n",
              "      <th>STG</th>\n",
              "      <th>SCG</th>\n",
              "      <th>STR</th>\n",
              "      <th>LPR</th>\n",
              "      <th>PEG</th>\n",
              "      <th>UNS</th>\n",
              "      <th>UNS_N</th>\n",
              "    </tr>\n",
              "  </thead>\n",
              "  <tbody>\n",
              "    <tr>\n",
              "      <th>0</th>\n",
              "      <td>0.00</td>\n",
              "      <td>0.00</td>\n",
              "      <td>0.00</td>\n",
              "      <td>0.00</td>\n",
              "      <td>0.00</td>\n",
              "      <td>Very Low</td>\n",
              "      <td>3</td>\n",
              "    </tr>\n",
              "    <tr>\n",
              "      <th>1</th>\n",
              "      <td>0.08</td>\n",
              "      <td>0.08</td>\n",
              "      <td>0.10</td>\n",
              "      <td>0.24</td>\n",
              "      <td>0.90</td>\n",
              "      <td>High</td>\n",
              "      <td>0</td>\n",
              "    </tr>\n",
              "    <tr>\n",
              "      <th>2</th>\n",
              "      <td>0.10</td>\n",
              "      <td>0.10</td>\n",
              "      <td>0.15</td>\n",
              "      <td>0.65</td>\n",
              "      <td>0.30</td>\n",
              "      <td>Medium</td>\n",
              "      <td>2</td>\n",
              "    </tr>\n",
              "    <tr>\n",
              "      <th>3</th>\n",
              "      <td>0.08</td>\n",
              "      <td>0.08</td>\n",
              "      <td>0.08</td>\n",
              "      <td>0.98</td>\n",
              "      <td>0.24</td>\n",
              "      <td>Low</td>\n",
              "      <td>1</td>\n",
              "    </tr>\n",
              "    <tr>\n",
              "      <th>4</th>\n",
              "      <td>0.09</td>\n",
              "      <td>0.15</td>\n",
              "      <td>0.40</td>\n",
              "      <td>0.10</td>\n",
              "      <td>0.66</td>\n",
              "      <td>Medium</td>\n",
              "      <td>2</td>\n",
              "    </tr>\n",
              "    <tr>\n",
              "      <th>...</th>\n",
              "      <td>...</td>\n",
              "      <td>...</td>\n",
              "      <td>...</td>\n",
              "      <td>...</td>\n",
              "      <td>...</td>\n",
              "      <td>...</td>\n",
              "      <td>...</td>\n",
              "    </tr>\n",
              "    <tr>\n",
              "      <th>318</th>\n",
              "      <td>0.90</td>\n",
              "      <td>0.78</td>\n",
              "      <td>0.62</td>\n",
              "      <td>0.32</td>\n",
              "      <td>0.89</td>\n",
              "      <td>High</td>\n",
              "      <td>0</td>\n",
              "    </tr>\n",
              "    <tr>\n",
              "      <th>319</th>\n",
              "      <td>0.85</td>\n",
              "      <td>0.82</td>\n",
              "      <td>0.66</td>\n",
              "      <td>0.83</td>\n",
              "      <td>0.83</td>\n",
              "      <td>High</td>\n",
              "      <td>0</td>\n",
              "    </tr>\n",
              "    <tr>\n",
              "      <th>320</th>\n",
              "      <td>0.56</td>\n",
              "      <td>0.60</td>\n",
              "      <td>0.77</td>\n",
              "      <td>0.13</td>\n",
              "      <td>0.32</td>\n",
              "      <td>Low</td>\n",
              "      <td>1</td>\n",
              "    </tr>\n",
              "    <tr>\n",
              "      <th>321</th>\n",
              "      <td>0.66</td>\n",
              "      <td>0.68</td>\n",
              "      <td>0.81</td>\n",
              "      <td>0.57</td>\n",
              "      <td>0.57</td>\n",
              "      <td>Medium</td>\n",
              "      <td>2</td>\n",
              "    </tr>\n",
              "    <tr>\n",
              "      <th>322</th>\n",
              "      <td>0.68</td>\n",
              "      <td>0.64</td>\n",
              "      <td>0.79</td>\n",
              "      <td>0.97</td>\n",
              "      <td>0.24</td>\n",
              "      <td>Medium</td>\n",
              "      <td>2</td>\n",
              "    </tr>\n",
              "  </tbody>\n",
              "</table>\n",
              "<p>323 rows × 7 columns</p>\n",
              "</div>"
            ],
            "text/plain": [
              "      STG   SCG   STR   LPR   PEG       UNS  UNS_N\n",
              "0    0.00  0.00  0.00  0.00  0.00  Very Low      3\n",
              "1    0.08  0.08  0.10  0.24  0.90      High      0\n",
              "2    0.10  0.10  0.15  0.65  0.30    Medium      2\n",
              "3    0.08  0.08  0.08  0.98  0.24       Low      1\n",
              "4    0.09  0.15  0.40  0.10  0.66    Medium      2\n",
              "..    ...   ...   ...   ...   ...       ...    ...\n",
              "318  0.90  0.78  0.62  0.32  0.89      High      0\n",
              "319  0.85  0.82  0.66  0.83  0.83      High      0\n",
              "320  0.56  0.60  0.77  0.13  0.32       Low      1\n",
              "321  0.66  0.68  0.81  0.57  0.57    Medium      2\n",
              "322  0.68  0.64  0.79  0.97  0.24    Medium      2\n",
              "\n",
              "[323 rows x 7 columns]"
            ]
          },
          "execution_count": 2,
          "metadata": {},
          "output_type": "execute_result"
        }
      ],
      "source": [
        "labelencoder = LabelEncoder()\n",
        "\n",
        "data_train[\"UNS_N\"] = labelencoder.fit_transform(data_train[\"UNS\"])\n",
        "\n",
        "data_train.to_csv(r'D:\\Applied Machine Learning\\DUMD_train_New.csv', index = False)\n",
        "\n",
        "data_train"
      ]
    },
    {
      "cell_type": "code",
      "execution_count": null,
      "id": "3a3053cc",
      "metadata": {
        "id": "3a3053cc",
        "outputId": "f2b6d0f4-8b21-4439-8a81-727090e3977a"
      },
      "outputs": [
        {
          "data": {
            "text/html": [
              "<div>\n",
              "<style scoped>\n",
              "    .dataframe tbody tr th:only-of-type {\n",
              "        vertical-align: middle;\n",
              "    }\n",
              "\n",
              "    .dataframe tbody tr th {\n",
              "        vertical-align: top;\n",
              "    }\n",
              "\n",
              "    .dataframe thead th {\n",
              "        text-align: right;\n",
              "    }\n",
              "</style>\n",
              "<table border=\"1\" class=\"dataframe\">\n",
              "  <thead>\n",
              "    <tr style=\"text-align: right;\">\n",
              "      <th></th>\n",
              "      <th>STG</th>\n",
              "      <th>SCG</th>\n",
              "      <th>STR</th>\n",
              "      <th>LPR</th>\n",
              "      <th>PEG</th>\n",
              "      <th>UNS</th>\n",
              "    </tr>\n",
              "  </thead>\n",
              "  <tbody>\n",
              "    <tr>\n",
              "      <th>0</th>\n",
              "      <td>0.420</td>\n",
              "      <td>0.290</td>\n",
              "      <td>0.140</td>\n",
              "      <td>0.03</td>\n",
              "      <td>0.68</td>\n",
              "      <td>Medium</td>\n",
              "    </tr>\n",
              "    <tr>\n",
              "      <th>1</th>\n",
              "      <td>0.100</td>\n",
              "      <td>0.100</td>\n",
              "      <td>0.520</td>\n",
              "      <td>0.78</td>\n",
              "      <td>0.34</td>\n",
              "      <td>Medium</td>\n",
              "    </tr>\n",
              "    <tr>\n",
              "      <th>2</th>\n",
              "      <td>0.510</td>\n",
              "      <td>0.255</td>\n",
              "      <td>0.550</td>\n",
              "      <td>0.17</td>\n",
              "      <td>0.64</td>\n",
              "      <td>Medium</td>\n",
              "    </tr>\n",
              "    <tr>\n",
              "      <th>3</th>\n",
              "      <td>0.250</td>\n",
              "      <td>0.540</td>\n",
              "      <td>0.310</td>\n",
              "      <td>0.25</td>\n",
              "      <td>0.08</td>\n",
              "      <td>Very Low</td>\n",
              "    </tr>\n",
              "    <tr>\n",
              "      <th>4</th>\n",
              "      <td>0.258</td>\n",
              "      <td>0.250</td>\n",
              "      <td>0.295</td>\n",
              "      <td>0.33</td>\n",
              "      <td>0.77</td>\n",
              "      <td>High</td>\n",
              "    </tr>\n",
              "    <tr>\n",
              "      <th>...</th>\n",
              "      <td>...</td>\n",
              "      <td>...</td>\n",
              "      <td>...</td>\n",
              "      <td>...</td>\n",
              "      <td>...</td>\n",
              "      <td>...</td>\n",
              "    </tr>\n",
              "    <tr>\n",
              "      <th>75</th>\n",
              "      <td>0.520</td>\n",
              "      <td>0.440</td>\n",
              "      <td>0.820</td>\n",
              "      <td>0.30</td>\n",
              "      <td>0.52</td>\n",
              "      <td>Medium</td>\n",
              "    </tr>\n",
              "    <tr>\n",
              "      <th>76</th>\n",
              "      <td>0.288</td>\n",
              "      <td>0.310</td>\n",
              "      <td>0.790</td>\n",
              "      <td>0.23</td>\n",
              "      <td>0.24</td>\n",
              "      <td>Low</td>\n",
              "    </tr>\n",
              "    <tr>\n",
              "      <th>77</th>\n",
              "      <td>0.260</td>\n",
              "      <td>0.260</td>\n",
              "      <td>0.310</td>\n",
              "      <td>0.26</td>\n",
              "      <td>0.13</td>\n",
              "      <td>Very Low</td>\n",
              "    </tr>\n",
              "    <tr>\n",
              "      <th>78</th>\n",
              "      <td>0.990</td>\n",
              "      <td>0.490</td>\n",
              "      <td>0.070</td>\n",
              "      <td>0.70</td>\n",
              "      <td>0.69</td>\n",
              "      <td>High</td>\n",
              "    </tr>\n",
              "    <tr>\n",
              "      <th>79</th>\n",
              "      <td>0.080</td>\n",
              "      <td>0.580</td>\n",
              "      <td>0.600</td>\n",
              "      <td>0.64</td>\n",
              "      <td>0.10</td>\n",
              "      <td>Low</td>\n",
              "    </tr>\n",
              "  </tbody>\n",
              "</table>\n",
              "<p>80 rows × 6 columns</p>\n",
              "</div>"
            ],
            "text/plain": [
              "      STG    SCG    STR   LPR   PEG       UNS\n",
              "0   0.420  0.290  0.140  0.03  0.68    Medium\n",
              "1   0.100  0.100  0.520  0.78  0.34    Medium\n",
              "2   0.510  0.255  0.550  0.17  0.64    Medium\n",
              "3   0.250  0.540  0.310  0.25  0.08  Very Low\n",
              "4   0.258  0.250  0.295  0.33  0.77      High\n",
              "..    ...    ...    ...   ...   ...       ...\n",
              "75  0.520  0.440  0.820  0.30  0.52    Medium\n",
              "76  0.288  0.310  0.790  0.23  0.24       Low\n",
              "77  0.260  0.260  0.310  0.26  0.13  Very Low\n",
              "78  0.990  0.490  0.070  0.70  0.69      High\n",
              "79  0.080  0.580  0.600  0.64  0.10       Low\n",
              "\n",
              "[80 rows x 6 columns]"
            ]
          },
          "execution_count": 4,
          "metadata": {},
          "output_type": "execute_result"
        }
      ],
      "source": [
        "data_test = pd.read_csv(\"DUMD_test.csv\")\n",
        "\n",
        "\n",
        "data_test"
      ]
    },
    {
      "cell_type": "code",
      "execution_count": null,
      "id": "bf2eb4c4",
      "metadata": {
        "id": "bf2eb4c4",
        "outputId": "57b070a4-ae95-47c2-8d86-8b33bf3f7455"
      },
      "outputs": [
        {
          "data": {
            "text/html": [
              "<div>\n",
              "<style scoped>\n",
              "    .dataframe tbody tr th:only-of-type {\n",
              "        vertical-align: middle;\n",
              "    }\n",
              "\n",
              "    .dataframe tbody tr th {\n",
              "        vertical-align: top;\n",
              "    }\n",
              "\n",
              "    .dataframe thead th {\n",
              "        text-align: right;\n",
              "    }\n",
              "</style>\n",
              "<table border=\"1\" class=\"dataframe\">\n",
              "  <thead>\n",
              "    <tr style=\"text-align: right;\">\n",
              "      <th></th>\n",
              "      <th>STG</th>\n",
              "      <th>SCG</th>\n",
              "      <th>STR</th>\n",
              "      <th>LPR</th>\n",
              "      <th>PEG</th>\n",
              "      <th>UNS</th>\n",
              "      <th>UNS_N</th>\n",
              "    </tr>\n",
              "  </thead>\n",
              "  <tbody>\n",
              "    <tr>\n",
              "      <th>0</th>\n",
              "      <td>0.420</td>\n",
              "      <td>0.290</td>\n",
              "      <td>0.140</td>\n",
              "      <td>0.03</td>\n",
              "      <td>0.68</td>\n",
              "      <td>Medium</td>\n",
              "      <td>2</td>\n",
              "    </tr>\n",
              "    <tr>\n",
              "      <th>1</th>\n",
              "      <td>0.100</td>\n",
              "      <td>0.100</td>\n",
              "      <td>0.520</td>\n",
              "      <td>0.78</td>\n",
              "      <td>0.34</td>\n",
              "      <td>Medium</td>\n",
              "      <td>2</td>\n",
              "    </tr>\n",
              "    <tr>\n",
              "      <th>2</th>\n",
              "      <td>0.510</td>\n",
              "      <td>0.255</td>\n",
              "      <td>0.550</td>\n",
              "      <td>0.17</td>\n",
              "      <td>0.64</td>\n",
              "      <td>Medium</td>\n",
              "      <td>2</td>\n",
              "    </tr>\n",
              "    <tr>\n",
              "      <th>3</th>\n",
              "      <td>0.250</td>\n",
              "      <td>0.540</td>\n",
              "      <td>0.310</td>\n",
              "      <td>0.25</td>\n",
              "      <td>0.08</td>\n",
              "      <td>Very Low</td>\n",
              "      <td>3</td>\n",
              "    </tr>\n",
              "    <tr>\n",
              "      <th>4</th>\n",
              "      <td>0.258</td>\n",
              "      <td>0.250</td>\n",
              "      <td>0.295</td>\n",
              "      <td>0.33</td>\n",
              "      <td>0.77</td>\n",
              "      <td>High</td>\n",
              "      <td>0</td>\n",
              "    </tr>\n",
              "    <tr>\n",
              "      <th>...</th>\n",
              "      <td>...</td>\n",
              "      <td>...</td>\n",
              "      <td>...</td>\n",
              "      <td>...</td>\n",
              "      <td>...</td>\n",
              "      <td>...</td>\n",
              "      <td>...</td>\n",
              "    </tr>\n",
              "    <tr>\n",
              "      <th>75</th>\n",
              "      <td>0.520</td>\n",
              "      <td>0.440</td>\n",
              "      <td>0.820</td>\n",
              "      <td>0.30</td>\n",
              "      <td>0.52</td>\n",
              "      <td>Medium</td>\n",
              "      <td>2</td>\n",
              "    </tr>\n",
              "    <tr>\n",
              "      <th>76</th>\n",
              "      <td>0.288</td>\n",
              "      <td>0.310</td>\n",
              "      <td>0.790</td>\n",
              "      <td>0.23</td>\n",
              "      <td>0.24</td>\n",
              "      <td>Low</td>\n",
              "      <td>1</td>\n",
              "    </tr>\n",
              "    <tr>\n",
              "      <th>77</th>\n",
              "      <td>0.260</td>\n",
              "      <td>0.260</td>\n",
              "      <td>0.310</td>\n",
              "      <td>0.26</td>\n",
              "      <td>0.13</td>\n",
              "      <td>Very Low</td>\n",
              "      <td>3</td>\n",
              "    </tr>\n",
              "    <tr>\n",
              "      <th>78</th>\n",
              "      <td>0.990</td>\n",
              "      <td>0.490</td>\n",
              "      <td>0.070</td>\n",
              "      <td>0.70</td>\n",
              "      <td>0.69</td>\n",
              "      <td>High</td>\n",
              "      <td>0</td>\n",
              "    </tr>\n",
              "    <tr>\n",
              "      <th>79</th>\n",
              "      <td>0.080</td>\n",
              "      <td>0.580</td>\n",
              "      <td>0.600</td>\n",
              "      <td>0.64</td>\n",
              "      <td>0.10</td>\n",
              "      <td>Low</td>\n",
              "      <td>1</td>\n",
              "    </tr>\n",
              "  </tbody>\n",
              "</table>\n",
              "<p>80 rows × 7 columns</p>\n",
              "</div>"
            ],
            "text/plain": [
              "      STG    SCG    STR   LPR   PEG       UNS  UNS_N\n",
              "0   0.420  0.290  0.140  0.03  0.68    Medium      2\n",
              "1   0.100  0.100  0.520  0.78  0.34    Medium      2\n",
              "2   0.510  0.255  0.550  0.17  0.64    Medium      2\n",
              "3   0.250  0.540  0.310  0.25  0.08  Very Low      3\n",
              "4   0.258  0.250  0.295  0.33  0.77      High      0\n",
              "..    ...    ...    ...   ...   ...       ...    ...\n",
              "75  0.520  0.440  0.820  0.30  0.52    Medium      2\n",
              "76  0.288  0.310  0.790  0.23  0.24       Low      1\n",
              "77  0.260  0.260  0.310  0.26  0.13  Very Low      3\n",
              "78  0.990  0.490  0.070  0.70  0.69      High      0\n",
              "79  0.080  0.580  0.600  0.64  0.10       Low      1\n",
              "\n",
              "[80 rows x 7 columns]"
            ]
          },
          "execution_count": 5,
          "metadata": {},
          "output_type": "execute_result"
        }
      ],
      "source": [
        "data_test[\"UNS_N\"] = labelencoder.fit_transform(data_test[\"UNS\"])\n",
        "\n",
        "data_test.to_csv(r'D:\\Applied Machine Learning\\DUMD_test_New.csv', index = False)\n",
        "\n",
        "data_test"
      ]
    },
    {
      "cell_type": "markdown",
      "id": "15df26e8",
      "metadata": {
        "id": "15df26e8"
      },
      "source": [
        "# Question 1(b) :"
      ]
    },
    {
      "cell_type": "markdown",
      "id": "f3207057",
      "metadata": {
        "id": "f3207057"
      },
      "source": [
        "References:\n",
        "\n",
        "https://vitalflux.com/python-scatter-plot-different-classes/"
      ]
    },
    {
      "cell_type": "code",
      "execution_count": 2,
      "id": "451bd750",
      "metadata": {
        "colab": {
          "base_uri": "https://localhost:8080/",
          "height": 206
        },
        "id": "451bd750",
        "outputId": "c2dd48f3-62e5-4bd1-f509-a64a8031b19f"
      },
      "outputs": [
        {
          "output_type": "execute_result",
          "data": {
            "text/plain": [
              "    STG   SCG   STR   LPR   PEG       UNS  UNS_N\n",
              "0  0.00  0.00  0.00  0.00  0.00  Very Low      3\n",
              "1  0.08  0.08  0.10  0.24  0.90      High      0\n",
              "2  0.10  0.10  0.15  0.65  0.30    Medium      2\n",
              "3  0.08  0.08  0.08  0.98  0.24       Low      1\n",
              "4  0.09  0.15  0.40  0.10  0.66    Medium      2"
            ],
            "text/html": [
              "\n",
              "  <div id=\"df-02d9e6da-e789-4ccd-a713-54ec56d6e6ac\">\n",
              "    <div class=\"colab-df-container\">\n",
              "      <div>\n",
              "<style scoped>\n",
              "    .dataframe tbody tr th:only-of-type {\n",
              "        vertical-align: middle;\n",
              "    }\n",
              "\n",
              "    .dataframe tbody tr th {\n",
              "        vertical-align: top;\n",
              "    }\n",
              "\n",
              "    .dataframe thead th {\n",
              "        text-align: right;\n",
              "    }\n",
              "</style>\n",
              "<table border=\"1\" class=\"dataframe\">\n",
              "  <thead>\n",
              "    <tr style=\"text-align: right;\">\n",
              "      <th></th>\n",
              "      <th>STG</th>\n",
              "      <th>SCG</th>\n",
              "      <th>STR</th>\n",
              "      <th>LPR</th>\n",
              "      <th>PEG</th>\n",
              "      <th>UNS</th>\n",
              "      <th>UNS_N</th>\n",
              "    </tr>\n",
              "  </thead>\n",
              "  <tbody>\n",
              "    <tr>\n",
              "      <th>0</th>\n",
              "      <td>0.00</td>\n",
              "      <td>0.00</td>\n",
              "      <td>0.00</td>\n",
              "      <td>0.00</td>\n",
              "      <td>0.00</td>\n",
              "      <td>Very Low</td>\n",
              "      <td>3</td>\n",
              "    </tr>\n",
              "    <tr>\n",
              "      <th>1</th>\n",
              "      <td>0.08</td>\n",
              "      <td>0.08</td>\n",
              "      <td>0.10</td>\n",
              "      <td>0.24</td>\n",
              "      <td>0.90</td>\n",
              "      <td>High</td>\n",
              "      <td>0</td>\n",
              "    </tr>\n",
              "    <tr>\n",
              "      <th>2</th>\n",
              "      <td>0.10</td>\n",
              "      <td>0.10</td>\n",
              "      <td>0.15</td>\n",
              "      <td>0.65</td>\n",
              "      <td>0.30</td>\n",
              "      <td>Medium</td>\n",
              "      <td>2</td>\n",
              "    </tr>\n",
              "    <tr>\n",
              "      <th>3</th>\n",
              "      <td>0.08</td>\n",
              "      <td>0.08</td>\n",
              "      <td>0.08</td>\n",
              "      <td>0.98</td>\n",
              "      <td>0.24</td>\n",
              "      <td>Low</td>\n",
              "      <td>1</td>\n",
              "    </tr>\n",
              "    <tr>\n",
              "      <th>4</th>\n",
              "      <td>0.09</td>\n",
              "      <td>0.15</td>\n",
              "      <td>0.40</td>\n",
              "      <td>0.10</td>\n",
              "      <td>0.66</td>\n",
              "      <td>Medium</td>\n",
              "      <td>2</td>\n",
              "    </tr>\n",
              "  </tbody>\n",
              "</table>\n",
              "</div>\n",
              "      <button class=\"colab-df-convert\" onclick=\"convertToInteractive('df-02d9e6da-e789-4ccd-a713-54ec56d6e6ac')\"\n",
              "              title=\"Convert this dataframe to an interactive table.\"\n",
              "              style=\"display:none;\">\n",
              "        \n",
              "  <svg xmlns=\"http://www.w3.org/2000/svg\" height=\"24px\"viewBox=\"0 0 24 24\"\n",
              "       width=\"24px\">\n",
              "    <path d=\"M0 0h24v24H0V0z\" fill=\"none\"/>\n",
              "    <path d=\"M18.56 5.44l.94 2.06.94-2.06 2.06-.94-2.06-.94-.94-2.06-.94 2.06-2.06.94zm-11 1L8.5 8.5l.94-2.06 2.06-.94-2.06-.94L8.5 2.5l-.94 2.06-2.06.94zm10 10l.94 2.06.94-2.06 2.06-.94-2.06-.94-.94-2.06-.94 2.06-2.06.94z\"/><path d=\"M17.41 7.96l-1.37-1.37c-.4-.4-.92-.59-1.43-.59-.52 0-1.04.2-1.43.59L10.3 9.45l-7.72 7.72c-.78.78-.78 2.05 0 2.83L4 21.41c.39.39.9.59 1.41.59.51 0 1.02-.2 1.41-.59l7.78-7.78 2.81-2.81c.8-.78.8-2.07 0-2.86zM5.41 20L4 18.59l7.72-7.72 1.47 1.35L5.41 20z\"/>\n",
              "  </svg>\n",
              "      </button>\n",
              "      \n",
              "  <style>\n",
              "    .colab-df-container {\n",
              "      display:flex;\n",
              "      flex-wrap:wrap;\n",
              "      gap: 12px;\n",
              "    }\n",
              "\n",
              "    .colab-df-convert {\n",
              "      background-color: #E8F0FE;\n",
              "      border: none;\n",
              "      border-radius: 50%;\n",
              "      cursor: pointer;\n",
              "      display: none;\n",
              "      fill: #1967D2;\n",
              "      height: 32px;\n",
              "      padding: 0 0 0 0;\n",
              "      width: 32px;\n",
              "    }\n",
              "\n",
              "    .colab-df-convert:hover {\n",
              "      background-color: #E2EBFA;\n",
              "      box-shadow: 0px 1px 2px rgba(60, 64, 67, 0.3), 0px 1px 3px 1px rgba(60, 64, 67, 0.15);\n",
              "      fill: #174EA6;\n",
              "    }\n",
              "\n",
              "    [theme=dark] .colab-df-convert {\n",
              "      background-color: #3B4455;\n",
              "      fill: #D2E3FC;\n",
              "    }\n",
              "\n",
              "    [theme=dark] .colab-df-convert:hover {\n",
              "      background-color: #434B5C;\n",
              "      box-shadow: 0px 1px 3px 1px rgba(0, 0, 0, 0.15);\n",
              "      filter: drop-shadow(0px 1px 2px rgba(0, 0, 0, 0.3));\n",
              "      fill: #FFFFFF;\n",
              "    }\n",
              "  </style>\n",
              "\n",
              "      <script>\n",
              "        const buttonEl =\n",
              "          document.querySelector('#df-02d9e6da-e789-4ccd-a713-54ec56d6e6ac button.colab-df-convert');\n",
              "        buttonEl.style.display =\n",
              "          google.colab.kernel.accessAllowed ? 'block' : 'none';\n",
              "\n",
              "        async function convertToInteractive(key) {\n",
              "          const element = document.querySelector('#df-02d9e6da-e789-4ccd-a713-54ec56d6e6ac');\n",
              "          const dataTable =\n",
              "            await google.colab.kernel.invokeFunction('convertToInteractive',\n",
              "                                                     [key], {});\n",
              "          if (!dataTable) return;\n",
              "\n",
              "          const docLinkHtml = 'Like what you see? Visit the ' +\n",
              "            '<a target=\"_blank\" href=https://colab.research.google.com/notebooks/data_table.ipynb>data table notebook</a>'\n",
              "            + ' to learn more about interactive tables.';\n",
              "          element.innerHTML = '';\n",
              "          dataTable['output_type'] = 'display_data';\n",
              "          await google.colab.output.renderOutput(dataTable, element);\n",
              "          const docLink = document.createElement('div');\n",
              "          docLink.innerHTML = docLinkHtml;\n",
              "          element.appendChild(docLink);\n",
              "        }\n",
              "      </script>\n",
              "    </div>\n",
              "  </div>\n",
              "  "
            ]
          },
          "metadata": {},
          "execution_count": 2
        }
      ],
      "source": [
        "import pandas as pd\n",
        "import matplotlib.pyplot as plt\n",
        " \n",
        "data_plot = pd.read_csv('/content/DUMD_train_New.csv')\n",
        "data_plot.head()"
      ]
    },
    {
      "cell_type": "code",
      "execution_count": 47,
      "id": "b5d1086a",
      "metadata": {
        "scrolled": true,
        "colab": {
          "base_uri": "https://localhost:8080/",
          "height": 279
        },
        "id": "b5d1086a",
        "outputId": "dabde83c-6c48-4030-f72d-c664aa1f8e35"
      },
      "outputs": [
        {
          "output_type": "display_data",
          "data": {
            "text/plain": [
              "<Figure size 432x288 with 1 Axes>"
            ],
            "image/png": "[encoded data removed]"
          },
          "metadata": {
            "needs_background": "light"
          }
        }
      ],
      "source": [
        "plt.scatter(data_plot['LPR'][ data_plot.UNS_N == 0],\n",
        "            data_plot['PEG'][ data_plot.UNS_N == 0],\n",
        "           marker='.',\n",
        "           color='red',\n",
        "           label='High')\n",
        "plt.scatter(data_plot['LPR'][data_plot.UNS_N == 1],\n",
        "            data_plot['PEG'][data_plot.UNS_N == 1],\n",
        "           marker='.',\n",
        "           color='green',\n",
        "           label='Low')\n",
        "plt.scatter(data_plot['LPR'][data_plot.UNS_N == 2],\n",
        "            data_plot['PEG'][data_plot.UNS_N == 2],\n",
        "           marker='.',\n",
        "           color='blue',\n",
        "           label='Medium')\n",
        "plt.scatter(data_plot['LPR'][data_plot.UNS_N == 3],\n",
        "            data_plot['PEG'][data_plot.UNS_N == 3],\n",
        "           marker='.',\n",
        "           color='orange',\n",
        "           label='Very Low')\n",
        "plt.xlabel('LPR')\n",
        "plt.ylabel('PEG')\n",
        "plt.legend()\n",
        "plt.show()"
      ]
    },
    {
      "cell_type": "markdown",
      "id": "a670b9af",
      "metadata": {
        "id": "a670b9af"
      },
      "source": [
        "# Question 1(c): "
      ]
    },
    {
      "cell_type": "markdown",
      "id": "d229eb79",
      "metadata": {
        "id": "d229eb79"
      },
      "source": [
        "References:\n",
        "   \n",
        "https://pub.towardsai.net/support-vector-machine-svm-for-binary-and-multiclass-classification-hands-on-with-scikit-learn-29cdbe5cb90e\n",
        "\n",
        "https://www.quantstart.com/articles/training-the-perceptron-with-scikit-learn-and-tensorflow/\n",
        "\n",
        "https://chrisalbon.com/code/machine_learning/basics/perceptron_in_scikit-learn/\n"
      ]
    },
    {
      "cell_type": "markdown",
      "source": [
        "### SVM"
      ],
      "metadata": {
        "id": "YazOPusGA5VH"
      },
      "id": "YazOPusGA5VH"
    },
    {
      "cell_type": "code",
      "execution_count": 4,
      "id": "96cc90d8",
      "metadata": {
        "id": "96cc90d8"
      },
      "outputs": [],
      "source": [
        "import pandas as pd\n",
        "import numpy as np\n",
        "import matplotlib.pyplot as plt"
      ]
    },
    {
      "cell_type": "code",
      "execution_count": 217,
      "id": "239d27b5",
      "metadata": {
        "colab": {
          "base_uri": "https://localhost:8080/",
          "height": 206
        },
        "id": "239d27b5",
        "outputId": "93fdc9b2-8842-4ad0-d512-0ec6407b26e8"
      },
      "outputs": [
        {
          "output_type": "execute_result",
          "data": {
            "text/plain": [
              "    STG   SCG   STR   LPR   PEG       UNS  UNS_N\n",
              "0  0.00  0.00  0.00  0.00  0.00  Very Low      3\n",
              "1  0.08  0.08  0.10  0.24  0.90      High      0\n",
              "2  0.10  0.10  0.15  0.65  0.30    Medium      2\n",
              "3  0.08  0.08  0.08  0.98  0.24       Low      1\n",
              "4  0.09  0.15  0.40  0.10  0.66    Medium      2"
            ],
            "text/html": [
              "\n",
              "  <div id=\"df-22d2cc07-0def-4941-8f86-c706bace7aa6\">\n",
              "    <div class=\"colab-df-container\">\n",
              "      <div>\n",
              "<style scoped>\n",
              "    .dataframe tbody tr th:only-of-type {\n",
              "        vertical-align: middle;\n",
              "    }\n",
              "\n",
              "    .dataframe tbody tr th {\n",
              "        vertical-align: top;\n",
              "    }\n",
              "\n",
              "    .dataframe thead th {\n",
              "        text-align: right;\n",
              "    }\n",
              "</style>\n",
              "<table border=\"1\" class=\"dataframe\">\n",
              "  <thead>\n",
              "    <tr style=\"text-align: right;\">\n",
              "      <th></th>\n",
              "      <th>STG</th>\n",
              "      <th>SCG</th>\n",
              "      <th>STR</th>\n",
              "      <th>LPR</th>\n",
              "      <th>PEG</th>\n",
              "      <th>UNS</th>\n",
              "      <th>UNS_N</th>\n",
              "    </tr>\n",
              "  </thead>\n",
              "  <tbody>\n",
              "    <tr>\n",
              "      <th>0</th>\n",
              "      <td>0.00</td>\n",
              "      <td>0.00</td>\n",
              "      <td>0.00</td>\n",
              "      <td>0.00</td>\n",
              "      <td>0.00</td>\n",
              "      <td>Very Low</td>\n",
              "      <td>3</td>\n",
              "    </tr>\n",
              "    <tr>\n",
              "      <th>1</th>\n",
              "      <td>0.08</td>\n",
              "      <td>0.08</td>\n",
              "      <td>0.10</td>\n",
              "      <td>0.24</td>\n",
              "      <td>0.90</td>\n",
              "      <td>High</td>\n",
              "      <td>0</td>\n",
              "    </tr>\n",
              "    <tr>\n",
              "      <th>2</th>\n",
              "      <td>0.10</td>\n",
              "      <td>0.10</td>\n",
              "      <td>0.15</td>\n",
              "      <td>0.65</td>\n",
              "      <td>0.30</td>\n",
              "      <td>Medium</td>\n",
              "      <td>2</td>\n",
              "    </tr>\n",
              "    <tr>\n",
              "      <th>3</th>\n",
              "      <td>0.08</td>\n",
              "      <td>0.08</td>\n",
              "      <td>0.08</td>\n",
              "      <td>0.98</td>\n",
              "      <td>0.24</td>\n",
              "      <td>Low</td>\n",
              "      <td>1</td>\n",
              "    </tr>\n",
              "    <tr>\n",
              "      <th>4</th>\n",
              "      <td>0.09</td>\n",
              "      <td>0.15</td>\n",
              "      <td>0.40</td>\n",
              "      <td>0.10</td>\n",
              "      <td>0.66</td>\n",
              "      <td>Medium</td>\n",
              "      <td>2</td>\n",
              "    </tr>\n",
              "  </tbody>\n",
              "</table>\n",
              "</div>\n",
              "      <button class=\"colab-df-convert\" onclick=\"convertToInteractive('df-22d2cc07-0def-4941-8f86-c706bace7aa6')\"\n",
              "              title=\"Convert this dataframe to an interactive table.\"\n",
              "              style=\"display:none;\">\n",
              "        \n",
              "  <svg xmlns=\"http://www.w3.org/2000/svg\" height=\"24px\"viewBox=\"0 0 24 24\"\n",
              "       width=\"24px\">\n",
              "    <path d=\"M0 0h24v24H0V0z\" fill=\"none\"/>\n",
              "    <path d=\"M18.56 5.44l.94 2.06.94-2.06 2.06-.94-2.06-.94-.94-2.06-.94 2.06-2.06.94zm-11 1L8.5 8.5l.94-2.06 2.06-.94-2.06-.94L8.5 2.5l-.94 2.06-2.06.94zm10 10l.94 2.06.94-2.06 2.06-.94-2.06-.94-.94-2.06-.94 2.06-2.06.94z\"/><path d=\"M17.41 7.96l-1.37-1.37c-.4-.4-.92-.59-1.43-.59-.52 0-1.04.2-1.43.59L10.3 9.45l-7.72 7.72c-.78.78-.78 2.05 0 2.83L4 21.41c.39.39.9.59 1.41.59.51 0 1.02-.2 1.41-.59l7.78-7.78 2.81-2.81c.8-.78.8-2.07 0-2.86zM5.41 20L4 18.59l7.72-7.72 1.47 1.35L5.41 20z\"/>\n",
              "  </svg>\n",
              "      </button>\n",
              "      \n",
              "  <style>\n",
              "    .colab-df-container {\n",
              "      display:flex;\n",
              "      flex-wrap:wrap;\n",
              "      gap: 12px;\n",
              "    }\n",
              "\n",
              "    .colab-df-convert {\n",
              "      background-color: #E8F0FE;\n",
              "      border: none;\n",
              "      border-radius: 50%;\n",
              "      cursor: pointer;\n",
              "      display: none;\n",
              "      fill: #1967D2;\n",
              "      height: 32px;\n",
              "      padding: 0 0 0 0;\n",
              "      width: 32px;\n",
              "    }\n",
              "\n",
              "    .colab-df-convert:hover {\n",
              "      background-color: #E2EBFA;\n",
              "      box-shadow: 0px 1px 2px rgba(60, 64, 67, 0.3), 0px 1px 3px 1px rgba(60, 64, 67, 0.15);\n",
              "      fill: #174EA6;\n",
              "    }\n",
              "\n",
              "    [theme=dark] .colab-df-convert {\n",
              "      background-color: #3B4455;\n",
              "      fill: #D2E3FC;\n",
              "    }\n",
              "\n",
              "    [theme=dark] .colab-df-convert:hover {\n",
              "      background-color: #434B5C;\n",
              "      box-shadow: 0px 1px 3px 1px rgba(0, 0, 0, 0.15);\n",
              "      filter: drop-shadow(0px 1px 2px rgba(0, 0, 0, 0.3));\n",
              "      fill: #FFFFFF;\n",
              "    }\n",
              "  </style>\n",
              "\n",
              "      <script>\n",
              "        const buttonEl =\n",
              "          document.querySelector('#df-22d2cc07-0def-4941-8f86-c706bace7aa6 button.colab-df-convert');\n",
              "        buttonEl.style.display =\n",
              "          google.colab.kernel.accessAllowed ? 'block' : 'none';\n",
              "\n",
              "        async function convertToInteractive(key) {\n",
              "          const element = document.querySelector('#df-22d2cc07-0def-4941-8f86-c706bace7aa6');\n",
              "          const dataTable =\n",
              "            await google.colab.kernel.invokeFunction('convertToInteractive',\n",
              "                                                     [key], {});\n",
              "          if (!dataTable) return;\n",
              "\n",
              "          const docLinkHtml = 'Like what you see? Visit the ' +\n",
              "            '<a target=\"_blank\" href=https://colab.research.google.com/notebooks/data_table.ipynb>data table notebook</a>'\n",
              "            + ' to learn more about interactive tables.';\n",
              "          element.innerHTML = '';\n",
              "          dataTable['output_type'] = 'display_data';\n",
              "          await google.colab.output.renderOutput(dataTable, element);\n",
              "          const docLink = document.createElement('div');\n",
              "          docLink.innerHTML = docLinkHtml;\n",
              "          element.appendChild(docLink);\n",
              "        }\n",
              "      </script>\n",
              "    </div>\n",
              "  </div>\n",
              "  "
            ]
          },
          "metadata": {},
          "execution_count": 217
        }
      ],
      "source": [
        "svm_train_data = pd.read_csv(\"/content/DUMD_train_New.csv\")\n",
        "svm_train_data.head()"
      ]
    },
    {
      "cell_type": "code",
      "execution_count": 6,
      "id": "cc759005",
      "metadata": {
        "colab": {
          "base_uri": "https://localhost:8080/",
          "height": 206
        },
        "id": "cc759005",
        "outputId": "5b2b8e99-db6f-4b52-8b35-fc289babbf69"
      },
      "outputs": [
        {
          "output_type": "execute_result",
          "data": {
            "text/plain": [
              "     STG    SCG    STR   LPR   PEG       UNS  UNS_N\n",
              "0  0.420  0.290  0.140  0.03  0.68    Medium      2\n",
              "1  0.100  0.100  0.520  0.78  0.34    Medium      2\n",
              "2  0.510  0.255  0.550  0.17  0.64    Medium      2\n",
              "3  0.250  0.540  0.310  0.25  0.08  Very Low      3\n",
              "4  0.258  0.250  0.295  0.33  0.77      High      0"
            ],
            "text/html": [
              "\n",
              "  <div id=\"df-1e2788d3-1da2-47a5-b7dc-e548059435e8\">\n",
              "    <div class=\"colab-df-container\">\n",
              "      <div>\n",
              "<style scoped>\n",
              "    .dataframe tbody tr th:only-of-type {\n",
              "        vertical-align: middle;\n",
              "    }\n",
              "\n",
              "    .dataframe tbody tr th {\n",
              "        vertical-align: top;\n",
              "    }\n",
              "\n",
              "    .dataframe thead th {\n",
              "        text-align: right;\n",
              "    }\n",
              "</style>\n",
              "<table border=\"1\" class=\"dataframe\">\n",
              "  <thead>\n",
              "    <tr style=\"text-align: right;\">\n",
              "      <th></th>\n",
              "      <th>STG</th>\n",
              "      <th>SCG</th>\n",
              "      <th>STR</th>\n",
              "      <th>LPR</th>\n",
              "      <th>PEG</th>\n",
              "      <th>UNS</th>\n",
              "      <th>UNS_N</th>\n",
              "    </tr>\n",
              "  </thead>\n",
              "  <tbody>\n",
              "    <tr>\n",
              "      <th>0</th>\n",
              "      <td>0.420</td>\n",
              "      <td>0.290</td>\n",
              "      <td>0.140</td>\n",
              "      <td>0.03</td>\n",
              "      <td>0.68</td>\n",
              "      <td>Medium</td>\n",
              "      <td>2</td>\n",
              "    </tr>\n",
              "    <tr>\n",
              "      <th>1</th>\n",
              "      <td>0.100</td>\n",
              "      <td>0.100</td>\n",
              "      <td>0.520</td>\n",
              "      <td>0.78</td>\n",
              "      <td>0.34</td>\n",
              "      <td>Medium</td>\n",
              "      <td>2</td>\n",
              "    </tr>\n",
              "    <tr>\n",
              "      <th>2</th>\n",
              "      <td>0.510</td>\n",
              "      <td>0.255</td>\n",
              "      <td>0.550</td>\n",
              "      <td>0.17</td>\n",
              "      <td>0.64</td>\n",
              "      <td>Medium</td>\n",
              "      <td>2</td>\n",
              "    </tr>\n",
              "    <tr>\n",
              "      <th>3</th>\n",
              "      <td>0.250</td>\n",
              "      <td>0.540</td>\n",
              "      <td>0.310</td>\n",
              "      <td>0.25</td>\n",
              "      <td>0.08</td>\n",
              "      <td>Very Low</td>\n",
              "      <td>3</td>\n",
              "    </tr>\n",
              "    <tr>\n",
              "      <th>4</th>\n",
              "      <td>0.258</td>\n",
              "      <td>0.250</td>\n",
              "      <td>0.295</td>\n",
              "      <td>0.33</td>\n",
              "      <td>0.77</td>\n",
              "      <td>High</td>\n",
              "      <td>0</td>\n",
              "    </tr>\n",
              "  </tbody>\n",
              "</table>\n",
              "</div>\n",
              "      <button class=\"colab-df-convert\" onclick=\"convertToInteractive('df-1e2788d3-1da2-47a5-b7dc-e548059435e8')\"\n",
              "              title=\"Convert this dataframe to an interactive table.\"\n",
              "              style=\"display:none;\">\n",
              "        \n",
              "  <svg xmlns=\"http://www.w3.org/2000/svg\" height=\"24px\"viewBox=\"0 0 24 24\"\n",
              "       width=\"24px\">\n",
              "    <path d=\"M0 0h24v24H0V0z\" fill=\"none\"/>\n",
              "    <path d=\"M18.56 5.44l.94 2.06.94-2.06 2.06-.94-2.06-.94-.94-2.06-.94 2.06-2.06.94zm-11 1L8.5 8.5l.94-2.06 2.06-.94-2.06-.94L8.5 2.5l-.94 2.06-2.06.94zm10 10l.94 2.06.94-2.06 2.06-.94-2.06-.94-.94-2.06-.94 2.06-2.06.94z\"/><path d=\"M17.41 7.96l-1.37-1.37c-.4-.4-.92-.59-1.43-.59-.52 0-1.04.2-1.43.59L10.3 9.45l-7.72 7.72c-.78.78-.78 2.05 0 2.83L4 21.41c.39.39.9.59 1.41.59.51 0 1.02-.2 1.41-.59l7.78-7.78 2.81-2.81c.8-.78.8-2.07 0-2.86zM5.41 20L4 18.59l7.72-7.72 1.47 1.35L5.41 20z\"/>\n",
              "  </svg>\n",
              "      </button>\n",
              "      \n",
              "  <style>\n",
              "    .colab-df-container {\n",
              "      display:flex;\n",
              "      flex-wrap:wrap;\n",
              "      gap: 12px;\n",
              "    }\n",
              "\n",
              "    .colab-df-convert {\n",
              "      background-color: #E8F0FE;\n",
              "      border: none;\n",
              "      border-radius: 50%;\n",
              "      cursor: pointer;\n",
              "      display: none;\n",
              "      fill: #1967D2;\n",
              "      height: 32px;\n",
              "      padding: 0 0 0 0;\n",
              "      width: 32px;\n",
              "    }\n",
              "\n",
              "    .colab-df-convert:hover {\n",
              "      background-color: #E2EBFA;\n",
              "      box-shadow: 0px 1px 2px rgba(60, 64, 67, 0.3), 0px 1px 3px 1px rgba(60, 64, 67, 0.15);\n",
              "      fill: #174EA6;\n",
              "    }\n",
              "\n",
              "    [theme=dark] .colab-df-convert {\n",
              "      background-color: #3B4455;\n",
              "      fill: #D2E3FC;\n",
              "    }\n",
              "\n",
              "    [theme=dark] .colab-df-convert:hover {\n",
              "      background-color: #434B5C;\n",
              "      box-shadow: 0px 1px 3px 1px rgba(0, 0, 0, 0.15);\n",
              "      filter: drop-shadow(0px 1px 2px rgba(0, 0, 0, 0.3));\n",
              "      fill: #FFFFFF;\n",
              "    }\n",
              "  </style>\n",
              "\n",
              "      <script>\n",
              "        const buttonEl =\n",
              "          document.querySelector('#df-1e2788d3-1da2-47a5-b7dc-e548059435e8 button.colab-df-convert');\n",
              "        buttonEl.style.display =\n",
              "          google.colab.kernel.accessAllowed ? 'block' : 'none';\n",
              "\n",
              "        async function convertToInteractive(key) {\n",
              "          const element = document.querySelector('#df-1e2788d3-1da2-47a5-b7dc-e548059435e8');\n",
              "          const dataTable =\n",
              "            await google.colab.kernel.invokeFunction('convertToInteractive',\n",
              "                                                     [key], {});\n",
              "          if (!dataTable) return;\n",
              "\n",
              "          const docLinkHtml = 'Like what you see? Visit the ' +\n",
              "            '<a target=\"_blank\" href=https://colab.research.google.com/notebooks/data_table.ipynb>data table notebook</a>'\n",
              "            + ' to learn more about interactive tables.';\n",
              "          element.innerHTML = '';\n",
              "          dataTable['output_type'] = 'display_data';\n",
              "          await google.colab.output.renderOutput(dataTable, element);\n",
              "          const docLink = document.createElement('div');\n",
              "          docLink.innerHTML = docLinkHtml;\n",
              "          element.appendChild(docLink);\n",
              "        }\n",
              "      </script>\n",
              "    </div>\n",
              "  </div>\n",
              "  "
            ]
          },
          "metadata": {},
          "execution_count": 6
        }
      ],
      "source": [
        "svm_test_data = pd.read_csv(\"/content/DUMD_test_New.csv\")\n",
        "svm_test_data.head()"
      ]
    },
    {
      "cell_type": "code",
      "execution_count": 7,
      "id": "5e0a2b25",
      "metadata": {
        "colab": {
          "base_uri": "https://localhost:8080/"
        },
        "id": "5e0a2b25",
        "outputId": "77b50665-d508-4490-fbd9-2133cab5e0b3"
      },
      "outputs": [
        {
          "output_type": "execute_result",
          "data": {
            "text/plain": [
              "1    103\n",
              "2    100\n",
              "0     81\n",
              "3     39\n",
              "Name: UNS_N, dtype: int64"
            ]
          },
          "metadata": {},
          "execution_count": 7
        }
      ],
      "source": [
        "svm_train_data['UNS_N'].value_counts()"
      ]
    },
    {
      "cell_type": "code",
      "execution_count": 8,
      "id": "be7114fd",
      "metadata": {
        "id": "be7114fd"
      },
      "outputs": [],
      "source": [
        "high_df = svm_train_data[svm_train_data['UNS_N']==0][0:200]\n",
        "low_df = svm_train_data[svm_train_data['UNS_N']==1][0:200]\n",
        "medium_df = svm_train_data[svm_train_data['UNS_N']==2][0:200]\n",
        "verylow_df = svm_train_data[svm_train_data['UNS_N']==3][0:200]"
      ]
    },
    {
      "cell_type": "code",
      "execution_count": 9,
      "id": "f9cc2d35",
      "metadata": {
        "colab": {
          "base_uri": "https://localhost:8080/",
          "height": 297
        },
        "id": "f9cc2d35",
        "outputId": "a9b52a4a-1be0-49b3-b5f1-6396e76123a4"
      },
      "outputs": [
        {
          "output_type": "execute_result",
          "data": {
            "text/plain": [
              "<matplotlib.axes._subplots.AxesSubplot at 0x7fe33234bfd0>"
            ]
          },
          "metadata": {},
          "execution_count": 9
        },
        {
          "output_type": "display_data",
          "data": {
            "text/plain": [
              "<Figure size 432x288 with 1 Axes>"
            ],
            "image/png": "[encoded data removed]"
          },
          "metadata": {
            "needs_background": "light"
          }
        }
      ],
      "source": [
        "axes = high_df.plot(kind='scatter', x = 'LPR', y = 'PEG', color='red', label='high')\n",
        "low_df.plot(kind='scatter', x = 'LPR', y = 'PEG', color='green', label='low', ax = axes)\n",
        "medium_df.plot(kind='scatter', x = 'LPR', y = 'PEG', color='yellow', label='medium', ax = axes)\n",
        "verylow_df.plot(kind='scatter', x = 'LPR', y = 'PEG', color='blue', label='verylow', ax = axes)"
      ]
    },
    {
      "cell_type": "code",
      "execution_count": 10,
      "id": "acb36058",
      "metadata": {
        "id": "acb36058"
      },
      "outputs": [],
      "source": [
        "feature_df_train = svm_train_data[['LPR', 'PEG']]\n",
        "\n",
        "svm_train_x = np.array(feature_df_train)\n",
        "svm_train_y = np.array(svm_train_data['UNS_N'])\n",
        "\n",
        "feature_df_test = svm_test_data[['LPR', 'PEG']]\n",
        "\n",
        "svm_test_x = np.array(feature_df_test)\n",
        "svm_test_y = np.array(svm_test_data['UNS_N'])"
      ]
    },
    {
      "cell_type": "code",
      "execution_count": 218,
      "id": "b4445e02",
      "metadata": {
        "id": "b4445e02"
      },
      "outputs": [],
      "source": [
        "from sklearn import svm\n",
        "\n",
        "classifier = svm.SVC(kernel='linear', C=100)\n",
        "classifier.fit(svm_train_x, svm_train_y)\n",
        "svm_y_predict = classifier.predict(svm_test_x)\n"
      ]
    },
    {
      "cell_type": "code",
      "execution_count": 219,
      "id": "552d6351",
      "metadata": {
        "colab": {
          "base_uri": "https://localhost:8080/",
          "height": 495
        },
        "id": "552d6351",
        "outputId": "bae1709f-fb65-430e-ca35-c26352ae2d9f"
      },
      "outputs": [
        {
          "output_type": "stream",
          "name": "stdout",
          "text": [
            "              precision    recall  f1-score   support\n",
            "\n",
            "           0       1.00      1.00      1.00        21\n",
            "           1       1.00      1.00      1.00        26\n",
            "           2       1.00      1.00      1.00        22\n",
            "           3       1.00      1.00      1.00        11\n",
            "\n",
            "    accuracy                           1.00        80\n",
            "   macro avg       1.00      1.00      1.00        80\n",
            "weighted avg       1.00      1.00      1.00        80\n",
            "\n"
          ]
        },
        {
          "output_type": "display_data",
          "data": {
            "text/plain": [
              "<Figure size 432x288 with 2 Axes>"
            ],
            "image/png": "[encoded data removed]"
          },
          "metadata": {
            "needs_background": "light"
          }
        }
      ],
      "source": [
        "from sklearn.metrics import classification_report, ConfusionMatrixDisplay, accuracy_score, confusion_matrix\n",
        "import seaborn as sns # for plotting.\n",
        "\n",
        "print(classification_report(svm_test_y, svm_y_predict))\n",
        "# print(confusion_matrix(svm_test_y, svm_y_predict))\n",
        "\n",
        "ax= plt.subplot()\n",
        "# predict_results = model.predict(normed_test_data)\n",
        "\n",
        "cm = confusion_matrix(svm_test_y, svm_y_predict)\n",
        "\n",
        "sns.heatmap(cm, annot=True, ax = ax); #annot=True to annotate cells\n",
        "\n",
        "# labels, title and ticks\n",
        "ax.set_xlabel('Predicted labels');ax.set_ylabel('True labels'); \n",
        "ax.set_title('Confusion Matrix'); \n",
        "# ax.xaxis.set_ticklabels(['Positive', 'Negative']); ax.yaxis.set_ticklabels(['Positive', 'Negative']);"
      ]
    },
    {
      "cell_type": "code",
      "execution_count": 220,
      "id": "2e77a287",
      "metadata": {
        "colab": {
          "base_uri": "https://localhost:8080/"
        },
        "id": "2e77a287",
        "outputId": "2e3a3aea-0803-43cb-9d47-36388d8a61a0"
      },
      "outputs": [
        {
          "output_type": "stream",
          "name": "stdout",
          "text": [
            "Accuracy of model: 100.00%\n"
          ]
        }
      ],
      "source": [
        "def getAccuracy(model, x, y):\n",
        "    return model.score(x,y)*100\n",
        "\n",
        "print('Accuracy of model: {:.2f}%'.format(getAccuracy(classifier, svm_test_x, svm_test_y)))"
      ]
    },
    {
      "cell_type": "code",
      "execution_count": 221,
      "id": "6635b569",
      "metadata": {
        "colab": {
          "base_uri": "https://localhost:8080/",
          "height": 339
        },
        "id": "6635b569",
        "outputId": "18c10396-b6c3-4d8e-c325-d05495d5c376"
      },
      "outputs": [
        {
          "output_type": "stream",
          "name": "stderr",
          "text": [
            "/usr/local/lib/python3.7/dist-packages/mlxtend/plotting/decision_regions.py:244: MatplotlibDeprecationWarning: Passing unsupported keyword arguments to axis() will raise a TypeError in 3.3.\n",
            "  ax.axis(xmin=xx.min(), xmax=xx.max(), y_min=yy.min(), y_max=yy.max())\n"
          ]
        },
        {
          "output_type": "execute_result",
          "data": {
            "text/plain": [
              "<matplotlib.axes._subplots.AxesSubplot at 0x7fe320158750>"
            ]
          },
          "metadata": {},
          "execution_count": 221
        },
        {
          "output_type": "display_data",
          "data": {
            "text/plain": [
              "<Figure size 432x288 with 1 Axes>"
            ],
            "image/png": "[encoded data removed]"
          },
          "metadata": {
            "needs_background": "light"
          }
        }
      ],
      "source": [
        "from mlxtend.plotting import plot_decision_regions\n",
        "\n",
        "#0 = high\n",
        "#1 = low\n",
        "#2 = medium\n",
        "#3 = verylow\n",
        "\n",
        "plot_decision_regions(svm_test_x, svm_test_y, classifier)"
      ]
    },
    {
      "cell_type": "markdown",
      "source": [
        "### Perceptron"
      ],
      "metadata": {
        "id": "J7BX7sYyBP_R"
      },
      "id": "J7BX7sYyBP_R"
    },
    {
      "cell_type": "code",
      "execution_count": 224,
      "id": "59a8252d",
      "metadata": {
        "id": "59a8252d"
      },
      "outputs": [],
      "source": [
        "from sklearn.linear_model import Perceptron\n",
        "p = Perceptron(random_state=1)\n",
        "p.fit(svm_train_x, svm_train_y)\n",
        "\n",
        "per_y_predict = p.predict(svm_test_x)"
      ]
    },
    {
      "cell_type": "code",
      "source": [
        "print(classification_report(svm_test_y, per_y_predict))\n",
        "# print(confusion_matrix(svm_test_y, per_y_predict))\n",
        "\n",
        "axp = plt.subplot()\n",
        "# predict_results = model.predict(normed_test_data)\n",
        "\n",
        "cm_p = confusion_matrix(svm_test_y, per_y_predict)\n",
        "\n",
        "sns.heatmap(cm_p, annot=True, ax = axp); #annot=True to annotate cells\n",
        "\n",
        "# labels, title and ticks\n",
        "axp.set_xlabel('Predicted labels');axp.set_ylabel('True labels'); \n",
        "axp.set_title('Confusion Matrix Perceptron'); \n",
        "# ax.xaxis.set_ticklabels(['Positive', 'Negative']); ax.yaxis.set_ticklabels(['Positive', 'Negative']);"
      ],
      "metadata": {
        "colab": {
          "base_uri": "https://localhost:8080/",
          "height": 495
        },
        "id": "4Qnc0KOT_nB6",
        "outputId": "be10b056-5c0b-4b04-a2ce-c9be7183d5fd"
      },
      "id": "4Qnc0KOT_nB6",
      "execution_count": 225,
      "outputs": [
        {
          "output_type": "stream",
          "name": "stdout",
          "text": [
            "              precision    recall  f1-score   support\n",
            "\n",
            "           0       0.84      1.00      0.91        21\n",
            "           1       0.71      0.58      0.64        26\n",
            "           2       0.80      0.55      0.65        22\n",
            "           3       0.58      1.00      0.73        11\n",
            "\n",
            "    accuracy                           0.74        80\n",
            "   macro avg       0.73      0.78      0.73        80\n",
            "weighted avg       0.75      0.74      0.73        80\n",
            "\n"
          ]
        },
        {
          "output_type": "display_data",
          "data": {
            "text/plain": [
              "<Figure size 432x288 with 2 Axes>"
            ],
            "image/png": "[encoded data removed]"
          },
          "metadata": {
            "needs_background": "light"
          }
        }
      ]
    },
    {
      "cell_type": "code",
      "source": [
        "print('Accuracy of model: {:.2f}%'.format(getAccuracy(p, svm_test_x, svm_test_y)))"
      ],
      "metadata": {
        "colab": {
          "base_uri": "https://localhost:8080/"
        },
        "id": "qie1d0U8_oG1",
        "outputId": "dcacf5e7-783e-4f19-fa2f-5f1f7f29c015"
      },
      "id": "qie1d0U8_oG1",
      "execution_count": 226,
      "outputs": [
        {
          "output_type": "stream",
          "name": "stdout",
          "text": [
            "Accuracy of model: 73.75%\n"
          ]
        }
      ]
    },
    {
      "cell_type": "code",
      "source": [
        "from mlxtend.plotting import plot_decision_regions\n",
        "plot_decision_regions(svm_test_x, svm_test_y, p)\n",
        "\n",
        "#0 = high\n",
        "#1 = low\n",
        "#2 = medium\n",
        "#3 = verylow"
      ],
      "metadata": {
        "colab": {
          "base_uri": "https://localhost:8080/",
          "height": 339
        },
        "id": "hfCVoMZf_vyo",
        "outputId": "ce3b305b-ecf8-4097-aa4e-cd4cc519176d"
      },
      "id": "hfCVoMZf_vyo",
      "execution_count": 227,
      "outputs": [
        {
          "output_type": "stream",
          "name": "stderr",
          "text": [
            "/usr/local/lib/python3.7/dist-packages/mlxtend/plotting/decision_regions.py:244: MatplotlibDeprecationWarning: Passing unsupported keyword arguments to axis() will raise a TypeError in 3.3.\n",
            "  ax.axis(xmin=xx.min(), xmax=xx.max(), y_min=yy.min(), y_max=yy.max())\n"
          ]
        },
        {
          "output_type": "execute_result",
          "data": {
            "text/plain": [
              "<matplotlib.axes._subplots.AxesSubplot at 0x7fe31ef46050>"
            ]
          },
          "metadata": {},
          "execution_count": 227
        },
        {
          "output_type": "display_data",
          "data": {
            "text/plain": [
              "<Figure size 432x288 with 1 Axes>"
            ],
            "image/png": "[encoded data removed]"
          },
          "metadata": {
            "needs_background": "light"
          }
        }
      ]
    },
    {
      "cell_type": "markdown",
      "source": [
        "# Question 2(a):"
      ],
      "metadata": {
        "id": "TffW-2MRCiUb"
      },
      "id": "TffW-2MRCiUb"
    },
    {
      "cell_type": "code",
      "source": [
        "import numpy as np\n",
        "import matplotlib.pyplot as plt\n",
        "from sklearn import svm\n",
        "from sklearn.preprocessing import MultiLabelBinarizer"
      ],
      "metadata": {
        "id": "3hGmO9XSDK5A"
      },
      "id": "3hGmO9XSDK5A",
      "execution_count": 59,
      "outputs": []
    },
    {
      "cell_type": "code",
      "source": [
        "svm_train_data = pd.read_csv(\"/content/DUMD_train_New.csv\")\n",
        "svm_test_data = pd.read_csv(\"/content/DUMD_test_New.csv\")\n",
        "\n",
        "feature_df_train = svm_train_data[['LPR', 'PEG']]\n",
        "\n",
        "svm_train_x = np.array(feature_df_train)\n",
        "svm_train_y = np.array(svm_train_data['UNS_N'])\n",
        "\n",
        "feature_df_test = svm_test_data[['LPR', 'PEG']]\n",
        "\n",
        "svm_test_x = np.array(feature_df_test)\n",
        "svm_test_y = np.array(svm_test_data['UNS_N'])"
      ],
      "metadata": {
        "id": "3SPrh5zTeU4Z"
      },
      "id": "3SPrh5zTeU4Z",
      "execution_count": 60,
      "outputs": []
    },
    {
      "cell_type": "code",
      "source": [
        "svm_test_y"
      ],
      "metadata": {
        "colab": {
          "base_uri": "https://localhost:8080/"
        },
        "id": "0-6SfOkDewmx",
        "outputId": "a72cd3f0-26d9-402f-aa98-eed5659bfcb3"
      },
      "id": "0-6SfOkDewmx",
      "execution_count": 79,
      "outputs": [
        {
          "output_type": "execute_result",
          "data": {
            "text/plain": [
              "array([2, 2, 2, 3, 0, 0, 2, 0, 1, 2, 2, 1, 0, 3, 0, 1, 2, 0, 1, 2, 1, 1,\n",
              "       2, 2, 2, 1, 2, 0, 2, 0, 0, 0, 2, 0, 1, 0, 1, 3, 1, 1, 2, 0, 1, 2,\n",
              "       1, 0, 1, 0, 3, 1, 2, 0, 1, 0, 1, 3, 1, 1, 2, 0, 0, 1, 3, 2, 3, 3,\n",
              "       3, 3, 0, 1, 1, 1, 1, 2, 2, 2, 1, 3, 0, 1])"
            ]
          },
          "metadata": {},
          "execution_count": 79
        }
      ]
    },
    {
      "cell_type": "code",
      "source": [
        "yb = svm_test_y.reshape((-1,1))\n",
        "mlb = MultiLabelBinarizer()\n",
        "yb = mlb.fit_transform(yb)"
      ],
      "metadata": {
        "id": "sGfCBySAfG5x"
      },
      "id": "sGfCBySAfG5x",
      "execution_count": 144,
      "outputs": []
    },
    {
      "cell_type": "code",
      "source": [
        "yb1 = yb[:,0] #class=high\n",
        "yb2 = yb[:,1] #class=low\n",
        "yb3 = yb[:,2] #class=medium\n",
        "yb4 = yb[:,3] #class=verylow"
      ],
      "metadata": {
        "id": "otytqjn7frLm"
      },
      "id": "otytqjn7frLm",
      "execution_count": 81,
      "outputs": []
    },
    {
      "cell_type": "markdown",
      "source": [
        "## class = high binary classifier\n",
        "\n"
      ],
      "metadata": {
        "id": "qFkwRBeLklQ6"
      },
      "id": "qFkwRBeLklQ6"
    },
    {
      "cell_type": "code",
      "source": [
        "#binarized labels \n",
        "yb1"
      ],
      "metadata": {
        "colab": {
          "base_uri": "https://localhost:8080/"
        },
        "id": "FGIvePf1kzmY",
        "outputId": "d84d5378-cdc7-4181-8eab-16e0ec163575"
      },
      "id": "FGIvePf1kzmY",
      "execution_count": 82,
      "outputs": [
        {
          "output_type": "execute_result",
          "data": {
            "text/plain": [
              "array([0, 0, 0, 0, 1, 1, 0, 1, 0, 0, 0, 0, 1, 0, 1, 0, 0, 1, 0, 0, 0, 0,\n",
              "       0, 0, 0, 0, 0, 1, 0, 1, 1, 1, 0, 1, 0, 1, 0, 0, 0, 0, 0, 1, 0, 0,\n",
              "       0, 1, 0, 1, 0, 0, 0, 1, 0, 1, 0, 0, 0, 0, 0, 1, 1, 0, 0, 0, 0, 0,\n",
              "       0, 0, 1, 0, 0, 0, 0, 0, 0, 0, 0, 0, 1, 0])"
            ]
          },
          "metadata": {},
          "execution_count": 82
        }
      ]
    },
    {
      "cell_type": "code",
      "source": [
        "#SVM's Accuracy\n",
        "clf_1 = svm.SVC(kernel='rbf', probability=True)\n",
        "clf_1.fit(svm_test_x, yb1)\n",
        "print('Accuracy of clf_1: {:.2f}%'.format(getAccuracy(clf_1, svm_test_x, yb1)))\n",
        "yb1_pred = clf_1.predict_proba(svm_test_x)[:,1].reshape(-1,1)"
      ],
      "metadata": {
        "colab": {
          "base_uri": "https://localhost:8080/"
        },
        "id": "OQ6aHkIChwyD",
        "outputId": "c4f48d42-0c71-434e-ac20-37115708a89e"
      },
      "id": "OQ6aHkIChwyD",
      "execution_count": 244,
      "outputs": [
        {
          "output_type": "stream",
          "name": "stdout",
          "text": [
            "Accuracy of clf_1: 100.00%\n"
          ]
        }
      ]
    },
    {
      "cell_type": "code",
      "source": [
        "#Decision Boundary\n",
        "plot_decision_regions(svm_test_x, yb1, clf_1)"
      ],
      "metadata": {
        "colab": {
          "base_uri": "https://localhost:8080/",
          "height": 339
        },
        "id": "LvvQuUd6ky49",
        "outputId": "7403f874-a884-4a19-ac6b-585e1597b7a1"
      },
      "id": "LvvQuUd6ky49",
      "execution_count": 245,
      "outputs": [
        {
          "output_type": "stream",
          "name": "stderr",
          "text": [
            "/usr/local/lib/python3.7/dist-packages/mlxtend/plotting/decision_regions.py:244: MatplotlibDeprecationWarning: Passing unsupported keyword arguments to axis() will raise a TypeError in 3.3.\n",
            "  ax.axis(xmin=xx.min(), xmax=xx.max(), y_min=yy.min(), y_max=yy.max())\n"
          ]
        },
        {
          "output_type": "execute_result",
          "data": {
            "text/plain": [
              "<matplotlib.axes._subplots.AxesSubplot at 0x7fe31e9aedd0>"
            ]
          },
          "metadata": {},
          "execution_count": 245
        },
        {
          "output_type": "display_data",
          "data": {
            "text/plain": [
              "<Figure size 432x288 with 1 Axes>"
            ],
            "image/png": "[encoded data removed]"
          },
          "metadata": {
            "needs_background": "light"
          }
        }
      ]
    },
    {
      "cell_type": "markdown",
      "source": [
        "## class = low binary classifier"
      ],
      "metadata": {
        "id": "S7beQQljl5yn"
      },
      "id": "S7beQQljl5yn"
    },
    {
      "cell_type": "code",
      "source": [
        "#binarized labels \n",
        "yb2"
      ],
      "metadata": {
        "colab": {
          "base_uri": "https://localhost:8080/"
        },
        "id": "hNHo09e0mHbf",
        "outputId": "fc0f6c50-a9a6-4ba6-8014-5c674307943e"
      },
      "id": "hNHo09e0mHbf",
      "execution_count": 98,
      "outputs": [
        {
          "output_type": "execute_result",
          "data": {
            "text/plain": [
              "array([0, 0, 0, 0, 0, 0, 0, 0, 1, 0, 0, 1, 0, 0, 0, 1, 0, 0, 1, 0, 1, 1,\n",
              "       0, 0, 0, 1, 0, 0, 0, 0, 0, 0, 0, 0, 1, 0, 1, 0, 1, 1, 0, 0, 1, 0,\n",
              "       1, 0, 1, 0, 0, 1, 0, 0, 1, 0, 1, 0, 1, 1, 0, 0, 0, 1, 0, 0, 0, 0,\n",
              "       0, 0, 0, 1, 1, 1, 1, 0, 0, 0, 1, 0, 0, 1])"
            ]
          },
          "metadata": {},
          "execution_count": 98
        }
      ]
    },
    {
      "cell_type": "code",
      "source": [
        "#class - low binary classifier\n",
        "clf_2 = svm.SVC(kernel='rbf', probability=True)\n",
        "clf_2.fit(svm_test_x, yb2)\n",
        "print('Accuracy of clf_2: {:.2f}%'.format(getAccuracy(clf_2, svm_test_x, yb2)))\n",
        "yb2_pred = clf_2.predict_proba(svm_test_x)[:,1].reshape(-1,1)"
      ],
      "metadata": {
        "colab": {
          "base_uri": "https://localhost:8080/"
        },
        "id": "JtvWO2xrhw0R",
        "outputId": "af15793a-40d1-43d3-f3ed-f20aaee92fbd"
      },
      "id": "JtvWO2xrhw0R",
      "execution_count": 246,
      "outputs": [
        {
          "output_type": "stream",
          "name": "stdout",
          "text": [
            "Accuracy of clf_2: 93.75%\n"
          ]
        }
      ]
    },
    {
      "cell_type": "code",
      "source": [
        "#Decision Boundary\n",
        "plot_decision_regions(svm_test_x, yb2, clf_2)"
      ],
      "metadata": {
        "colab": {
          "base_uri": "https://localhost:8080/",
          "height": 339
        },
        "id": "kRPQd_XSmQkE",
        "outputId": "19a8d629-76ce-4247-e65f-095976726428"
      },
      "id": "kRPQd_XSmQkE",
      "execution_count": 247,
      "outputs": [
        {
          "output_type": "stream",
          "name": "stderr",
          "text": [
            "/usr/local/lib/python3.7/dist-packages/mlxtend/plotting/decision_regions.py:244: MatplotlibDeprecationWarning: Passing unsupported keyword arguments to axis() will raise a TypeError in 3.3.\n",
            "  ax.axis(xmin=xx.min(), xmax=xx.max(), y_min=yy.min(), y_max=yy.max())\n"
          ]
        },
        {
          "output_type": "execute_result",
          "data": {
            "text/plain": [
              "<matplotlib.axes._subplots.AxesSubplot at 0x7fe31e912f90>"
            ]
          },
          "metadata": {},
          "execution_count": 247
        },
        {
          "output_type": "display_data",
          "data": {
            "text/plain": [
              "<Figure size 432x288 with 1 Axes>"
            ],
            "image/png": "[encoded data removed]"
          },
          "metadata": {
            "needs_background": "light"
          }
        }
      ]
    },
    {
      "cell_type": "markdown",
      "source": [
        "## class = medium binary classifier"
      ],
      "metadata": {
        "id": "aqJse3WNmAAu"
      },
      "id": "aqJse3WNmAAu"
    },
    {
      "cell_type": "code",
      "source": [
        "#binarized labels \n",
        "yb3"
      ],
      "metadata": {
        "colab": {
          "base_uri": "https://localhost:8080/"
        },
        "id": "SYYk9BfcmKR7",
        "outputId": "7077f510-2344-4a0f-e567-3b538783c7f3"
      },
      "id": "SYYk9BfcmKR7",
      "execution_count": 99,
      "outputs": [
        {
          "output_type": "execute_result",
          "data": {
            "text/plain": [
              "array([1, 1, 1, 0, 0, 0, 1, 0, 0, 1, 1, 0, 0, 0, 0, 0, 1, 0, 0, 1, 0, 0,\n",
              "       1, 1, 1, 0, 1, 0, 1, 0, 0, 0, 1, 0, 0, 0, 0, 0, 0, 0, 1, 0, 0, 1,\n",
              "       0, 0, 0, 0, 0, 0, 1, 0, 0, 0, 0, 0, 0, 0, 1, 0, 0, 0, 0, 1, 0, 0,\n",
              "       0, 0, 0, 0, 0, 0, 0, 1, 1, 1, 0, 0, 0, 0])"
            ]
          },
          "metadata": {},
          "execution_count": 99
        }
      ]
    },
    {
      "cell_type": "code",
      "source": [
        "#class - medium binary classifier\n",
        "clf_3 = svm.SVC(kernel='rbf', probability=True)\n",
        "clf_3.fit(svm_test_x, yb3)\n",
        "print('Accuracy of clf_3: {:.2f}%'.format(getAccuracy(clf_3, svm_test_x, yb3)))\n",
        "yb3_pred = clf_3.predict_proba(svm_test_x)[:,1].reshape(-1,1)"
      ],
      "metadata": {
        "colab": {
          "base_uri": "https://localhost:8080/"
        },
        "id": "iMmze7OiiXn0",
        "outputId": "9e79c7c0-6fa3-48ef-84ee-9454b82118b9"
      },
      "id": "iMmze7OiiXn0",
      "execution_count": 248,
      "outputs": [
        {
          "output_type": "stream",
          "name": "stdout",
          "text": [
            "Accuracy of clf_3: 97.50%\n"
          ]
        }
      ]
    },
    {
      "cell_type": "code",
      "source": [
        "#Decision Boundary\n",
        "plot_decision_regions(svm_test_x, yb3, clf_3)"
      ],
      "metadata": {
        "colab": {
          "base_uri": "https://localhost:8080/",
          "height": 339
        },
        "id": "iMeBcH7Um5jh",
        "outputId": "a564460b-f5ae-42f4-cb5b-8765be0e04c5"
      },
      "id": "iMeBcH7Um5jh",
      "execution_count": 249,
      "outputs": [
        {
          "output_type": "stream",
          "name": "stderr",
          "text": [
            "/usr/local/lib/python3.7/dist-packages/mlxtend/plotting/decision_regions.py:244: MatplotlibDeprecationWarning: Passing unsupported keyword arguments to axis() will raise a TypeError in 3.3.\n",
            "  ax.axis(xmin=xx.min(), xmax=xx.max(), y_min=yy.min(), y_max=yy.max())\n"
          ]
        },
        {
          "output_type": "execute_result",
          "data": {
            "text/plain": [
              "<matplotlib.axes._subplots.AxesSubplot at 0x7fe31e8f3f90>"
            ]
          },
          "metadata": {},
          "execution_count": 249
        },
        {
          "output_type": "display_data",
          "data": {
            "text/plain": [
              "<Figure size 432x288 with 1 Axes>"
            ],
            "image/png": "[encoded data removed]"
          },
          "metadata": {
            "needs_background": "light"
          }
        }
      ]
    },
    {
      "cell_type": "markdown",
      "source": [
        "## class = verylow binary classifier"
      ],
      "metadata": {
        "id": "l1YZLG-0mCi2"
      },
      "id": "l1YZLG-0mCi2"
    },
    {
      "cell_type": "code",
      "source": [
        "#binarized labels \n",
        "yb4"
      ],
      "metadata": {
        "colab": {
          "base_uri": "https://localhost:8080/"
        },
        "id": "RL_3Te_UmL8n",
        "outputId": "08a0ca86-bacd-42bc-fb8e-b954c20c1257"
      },
      "id": "RL_3Te_UmL8n",
      "execution_count": 100,
      "outputs": [
        {
          "output_type": "execute_result",
          "data": {
            "text/plain": [
              "array([0, 0, 0, 1, 0, 0, 0, 0, 0, 0, 0, 0, 0, 1, 0, 0, 0, 0, 0, 0, 0, 0,\n",
              "       0, 0, 0, 0, 0, 0, 0, 0, 0, 0, 0, 0, 0, 0, 0, 1, 0, 0, 0, 0, 0, 0,\n",
              "       0, 0, 0, 0, 1, 0, 0, 0, 0, 0, 0, 1, 0, 0, 0, 0, 0, 0, 1, 0, 1, 1,\n",
              "       1, 1, 0, 0, 0, 0, 0, 0, 0, 0, 0, 1, 0, 0])"
            ]
          },
          "metadata": {},
          "execution_count": 100
        }
      ]
    },
    {
      "cell_type": "code",
      "source": [
        "#class - verylow binary classifier\n",
        "clf_4 = svm.SVC(kernel='rbf', probability=True)\n",
        "clf_4.fit(svm_test_x, yb4)\n",
        "print('Accuracy of clf_4: {:.2f}%'.format(getAccuracy(clf_4, svm_test_x, yb4)))\n",
        "yb4_pred = clf_4.predict_proba(svm_test_x)[:,1].reshape(-1,1)"
      ],
      "metadata": {
        "colab": {
          "base_uri": "https://localhost:8080/"
        },
        "id": "Q6P8aB22iaYU",
        "outputId": "d630ebf2-4389-46e4-cd0a-3fd90b7348e1"
      },
      "id": "Q6P8aB22iaYU",
      "execution_count": 250,
      "outputs": [
        {
          "output_type": "stream",
          "name": "stdout",
          "text": [
            "Accuracy of clf_4: 100.00%\n"
          ]
        }
      ]
    },
    {
      "cell_type": "code",
      "source": [
        "#Decision Boundary\n",
        "plot_decision_regions(svm_test_x, yb4, clf_4)"
      ],
      "metadata": {
        "colab": {
          "base_uri": "https://localhost:8080/",
          "height": 339
        },
        "id": "zBVAgIp8m9sG",
        "outputId": "f91b160e-6d79-46cd-dcc4-fde89884e25d"
      },
      "id": "zBVAgIp8m9sG",
      "execution_count": 251,
      "outputs": [
        {
          "output_type": "stream",
          "name": "stderr",
          "text": [
            "/usr/local/lib/python3.7/dist-packages/mlxtend/plotting/decision_regions.py:244: MatplotlibDeprecationWarning: Passing unsupported keyword arguments to axis() will raise a TypeError in 3.3.\n",
            "  ax.axis(xmin=xx.min(), xmax=xx.max(), y_min=yy.min(), y_max=yy.max())\n"
          ]
        },
        {
          "output_type": "execute_result",
          "data": {
            "text/plain": [
              "<matplotlib.axes._subplots.AxesSubplot at 0x7fe31e802790>"
            ]
          },
          "metadata": {},
          "execution_count": 251
        },
        {
          "output_type": "display_data",
          "data": {
            "text/plain": [
              "<Figure size 432x288 with 1 Axes>"
            ],
            "image/png": "[encoded data removed]"
          },
          "metadata": {
            "needs_background": "light"
          }
        }
      ]
    },
    {
      "cell_type": "markdown",
      "source": [
        "# Question 2(b):"
      ],
      "metadata": {
        "id": "KL9wTMU1oGg7"
      },
      "id": "KL9wTMU1oGg7"
    },
    {
      "cell_type": "code",
      "source": [
        "yb_all = np.hstack((yb1_pred, yb2_pred, yb3_pred, yb4_pred))\n",
        "m = mlb.classes_[np.argmax(yb_all, axis=1)]"
      ],
      "metadata": {
        "id": "FhTH5kCLoFc9"
      },
      "id": "FhTH5kCLoFc9",
      "execution_count": 252,
      "outputs": []
    },
    {
      "cell_type": "code",
      "source": [
        "m = m.astype(str).astype(int)"
      ],
      "metadata": {
        "id": "cPPEKcaJqlkq"
      },
      "id": "cPPEKcaJqlkq",
      "execution_count": 253,
      "outputs": []
    },
    {
      "cell_type": "code",
      "source": [
        "print(classification_report(svm_test_y, m))\n",
        "# print(confusion_matrix(svm_test_y, svm_y_predict))\n",
        "\n",
        "ax_ovr = plt.subplot()\n",
        "# predict_results = model.predict(normed_test_data)\n",
        "\n",
        "cm_ovr = confusion_matrix(svm_test_y, m)\n",
        "\n",
        "sns.heatmap(cm_ovr, annot=True, ax = ax_ovr); #annot=True to annotate cells\n",
        "\n",
        "# labels, title and ticks\n",
        "ax_ovr.set_xlabel('Predicted labels');ax_ovr.set_ylabel('True labels'); \n",
        "ax_ovr.set_title('Confusion Matrix'); \n",
        "# ax.xaxis.set_ticklabels(['Positive', 'Negative']); ax.yaxis.set_ticklabels(['Positive', 'Negative']);"
      ],
      "metadata": {
        "colab": {
          "base_uri": "https://localhost:8080/",
          "height": 495
        },
        "id": "nCxWJMGYpKmx",
        "outputId": "b8f6a3a7-f473-4709-8128-20552d01a116"
      },
      "id": "nCxWJMGYpKmx",
      "execution_count": 254,
      "outputs": [
        {
          "output_type": "stream",
          "name": "stdout",
          "text": [
            "              precision    recall  f1-score   support\n",
            "\n",
            "           0       1.00      1.00      1.00        21\n",
            "           1       1.00      0.96      0.98        26\n",
            "           2       0.96      1.00      0.98        22\n",
            "           3       1.00      1.00      1.00        11\n",
            "\n",
            "    accuracy                           0.99        80\n",
            "   macro avg       0.99      0.99      0.99        80\n",
            "weighted avg       0.99      0.99      0.99        80\n",
            "\n"
          ]
        },
        {
          "output_type": "display_data",
          "data": {
            "text/plain": [
              "<Figure size 432x288 with 2 Axes>"
            ],
            "image/png": "[encoded data removed]"
          },
          "metadata": {
            "needs_background": "light"
          }
        }
      ]
    },
    {
      "cell_type": "code",
      "source": [
        "axis = plot_decision_regions(svm_test_x, m, clf_1, legend=1)\n",
        "plot_decision_regions(svm_test_x, m, clf_2, ax = axis, legend=0)\n",
        "plot_decision_regions(svm_test_x, m, clf_3, ax = axis, legend=0)\n",
        "plot_decision_regions(svm_test_x, m, clf_4, ax = axis, legend=0)"
      ],
      "metadata": {
        "colab": {
          "base_uri": "https://localhost:8080/",
          "height": 448
        },
        "id": "W0wa55YYtXzd",
        "outputId": "d5179d0d-b897-41d0-bd16-dea637a98c84"
      },
      "id": "W0wa55YYtXzd",
      "execution_count": 255,
      "outputs": [
        {
          "output_type": "stream",
          "name": "stderr",
          "text": [
            "/usr/local/lib/python3.7/dist-packages/mlxtend/plotting/decision_regions.py:244: MatplotlibDeprecationWarning: Passing unsupported keyword arguments to axis() will raise a TypeError in 3.3.\n",
            "  ax.axis(xmin=xx.min(), xmax=xx.max(), y_min=yy.min(), y_max=yy.max())\n",
            "/usr/local/lib/python3.7/dist-packages/mlxtend/plotting/decision_regions.py:244: MatplotlibDeprecationWarning: Passing unsupported keyword arguments to axis() will raise a TypeError in 3.3.\n",
            "  ax.axis(xmin=xx.min(), xmax=xx.max(), y_min=yy.min(), y_max=yy.max())\n",
            "/usr/local/lib/python3.7/dist-packages/mlxtend/plotting/decision_regions.py:244: MatplotlibDeprecationWarning: Passing unsupported keyword arguments to axis() will raise a TypeError in 3.3.\n",
            "  ax.axis(xmin=xx.min(), xmax=xx.max(), y_min=yy.min(), y_max=yy.max())\n",
            "/usr/local/lib/python3.7/dist-packages/mlxtend/plotting/decision_regions.py:244: MatplotlibDeprecationWarning: Passing unsupported keyword arguments to axis() will raise a TypeError in 3.3.\n",
            "  ax.axis(xmin=xx.min(), xmax=xx.max(), y_min=yy.min(), y_max=yy.max())\n"
          ]
        },
        {
          "output_type": "execute_result",
          "data": {
            "text/plain": [
              "<matplotlib.axes._subplots.AxesSubplot at 0x7fe31e719d90>"
            ]
          },
          "metadata": {},
          "execution_count": 255
        },
        {
          "output_type": "display_data",
          "data": {
            "text/plain": [
              "<Figure size 432x288 with 1 Axes>"
            ],
            "image/png": "[encoded data removed]"
          },
          "metadata": {
            "needs_background": "light"
          }
        }
      ]
    },
    {
      "cell_type": "markdown",
      "source": [
        "# Question 3(a):"
      ],
      "metadata": {
        "id": "uYCBP-cI5OVx"
      },
      "id": "uYCBP-cI5OVx"
    },
    {
      "cell_type": "code",
      "source": [
        "# libraries\n",
        "import numpy as np # used for handling numbers\n",
        "import pandas as pd # used for handling the dataset\n",
        "from sklearn.impute import SimpleImputer # used for handling missing data\n",
        "from sklearn.preprocessing import LabelEncoder, OneHotEncoder # used for encoding categorical data\n",
        "from sklearn.model_selection import train_test_split # used for splitting training and testing data\n",
        "from sklearn.preprocessing import StandardScaler # used for feature scaling"
      ],
      "metadata": {
        "id": "3cY2u9iP5Z4g"
      },
      "id": "3cY2u9iP5Z4g",
      "execution_count": 12,
      "outputs": []
    },
    {
      "cell_type": "code",
      "source": [
        "knn_data = pd.read_csv(\"/content/car_evaluation_new.csv\")\n",
        "\n",
        "knn_data.head()"
      ],
      "metadata": {
        "colab": {
          "base_uri": "https://localhost:8080/",
          "height": 206
        },
        "id": "qbKwdaUt7TDL",
        "outputId": "d4ec1e97-4739-4045-9401-c59baf60064b"
      },
      "id": "qbKwdaUt7TDL",
      "execution_count": 14,
      "outputs": [
        {
          "output_type": "execute_result",
          "data": {
            "text/plain": [
              "  buying price maintenance cost number of doors number of persons lug_boot  \\\n",
              "0        vhigh            vhigh               2                 2    small   \n",
              "1        vhigh            vhigh               2                 2    small   \n",
              "2        vhigh            vhigh               2                 2    small   \n",
              "3        vhigh            vhigh               2                 2      med   \n",
              "4        vhigh            vhigh               2                 2      med   \n",
              "\n",
              "  safety  class  \n",
              "0    low  unacc  \n",
              "1    med  unacc  \n",
              "2   high  unacc  \n",
              "3    low  unacc  \n",
              "4    med  unacc  "
            ],
            "text/html": [
              "\n",
              "  <div id=\"df-10dd099c-eced-4d4e-b43b-3a8414c602b0\">\n",
              "    <div class=\"colab-df-container\">\n",
              "      <div>\n",
              "<style scoped>\n",
              "    .dataframe tbody tr th:only-of-type {\n",
              "        vertical-align: middle;\n",
              "    }\n",
              "\n",
              "    .dataframe tbody tr th {\n",
              "        vertical-align: top;\n",
              "    }\n",
              "\n",
              "    .dataframe thead th {\n",
              "        text-align: right;\n",
              "    }\n",
              "</style>\n",
              "<table border=\"1\" class=\"dataframe\">\n",
              "  <thead>\n",
              "    <tr style=\"text-align: right;\">\n",
              "      <th></th>\n",
              "      <th>buying price</th>\n",
              "      <th>maintenance cost</th>\n",
              "      <th>number of doors</th>\n",
              "      <th>number of persons</th>\n",
              "      <th>lug_boot</th>\n",
              "      <th>safety</th>\n",
              "      <th>class</th>\n",
              "    </tr>\n",
              "  </thead>\n",
              "  <tbody>\n",
              "    <tr>\n",
              "      <th>0</th>\n",
              "      <td>vhigh</td>\n",
              "      <td>vhigh</td>\n",
              "      <td>2</td>\n",
              "      <td>2</td>\n",
              "      <td>small</td>\n",
              "      <td>low</td>\n",
              "      <td>unacc</td>\n",
              "    </tr>\n",
              "    <tr>\n",
              "      <th>1</th>\n",
              "      <td>vhigh</td>\n",
              "      <td>vhigh</td>\n",
              "      <td>2</td>\n",
              "      <td>2</td>\n",
              "      <td>small</td>\n",
              "      <td>med</td>\n",
              "      <td>unacc</td>\n",
              "    </tr>\n",
              "    <tr>\n",
              "      <th>2</th>\n",
              "      <td>vhigh</td>\n",
              "      <td>vhigh</td>\n",
              "      <td>2</td>\n",
              "      <td>2</td>\n",
              "      <td>small</td>\n",
              "      <td>high</td>\n",
              "      <td>unacc</td>\n",
              "    </tr>\n",
              "    <tr>\n",
              "      <th>3</th>\n",
              "      <td>vhigh</td>\n",
              "      <td>vhigh</td>\n",
              "      <td>2</td>\n",
              "      <td>2</td>\n",
              "      <td>med</td>\n",
              "      <td>low</td>\n",
              "      <td>unacc</td>\n",
              "    </tr>\n",
              "    <tr>\n",
              "      <th>4</th>\n",
              "      <td>vhigh</td>\n",
              "      <td>vhigh</td>\n",
              "      <td>2</td>\n",
              "      <td>2</td>\n",
              "      <td>med</td>\n",
              "      <td>med</td>\n",
              "      <td>unacc</td>\n",
              "    </tr>\n",
              "  </tbody>\n",
              "</table>\n",
              "</div>\n",
              "      <button class=\"colab-df-convert\" onclick=\"convertToInteractive('df-10dd099c-eced-4d4e-b43b-3a8414c602b0')\"\n",
              "              title=\"Convert this dataframe to an interactive table.\"\n",
              "              style=\"display:none;\">\n",
              "        \n",
              "  <svg xmlns=\"http://www.w3.org/2000/svg\" height=\"24px\"viewBox=\"0 0 24 24\"\n",
              "       width=\"24px\">\n",
              "    <path d=\"M0 0h24v24H0V0z\" fill=\"none\"/>\n",
              "    <path d=\"M18.56 5.44l.94 2.06.94-2.06 2.06-.94-2.06-.94-.94-2.06-.94 2.06-2.06.94zm-11 1L8.5 8.5l.94-2.06 2.06-.94-2.06-.94L8.5 2.5l-.94 2.06-2.06.94zm10 10l.94 2.06.94-2.06 2.06-.94-2.06-.94-.94-2.06-.94 2.06-2.06.94z\"/><path d=\"M17.41 7.96l-1.37-1.37c-.4-.4-.92-.59-1.43-.59-.52 0-1.04.2-1.43.59L10.3 9.45l-7.72 7.72c-.78.78-.78 2.05 0 2.83L4 21.41c.39.39.9.59 1.41.59.51 0 1.02-.2 1.41-.59l7.78-7.78 2.81-2.81c.8-.78.8-2.07 0-2.86zM5.41 20L4 18.59l7.72-7.72 1.47 1.35L5.41 20z\"/>\n",
              "  </svg>\n",
              "      </button>\n",
              "      \n",
              "  <style>\n",
              "    .colab-df-container {\n",
              "      display:flex;\n",
              "      flex-wrap:wrap;\n",
              "      gap: 12px;\n",
              "    }\n",
              "\n",
              "    .colab-df-convert {\n",
              "      background-color: #E8F0FE;\n",
              "      border: none;\n",
              "      border-radius: 50%;\n",
              "      cursor: pointer;\n",
              "      display: none;\n",
              "      fill: #1967D2;\n",
              "      height: 32px;\n",
              "      padding: 0 0 0 0;\n",
              "      width: 32px;\n",
              "    }\n",
              "\n",
              "    .colab-df-convert:hover {\n",
              "      background-color: #E2EBFA;\n",
              "      box-shadow: 0px 1px 2px rgba(60, 64, 67, 0.3), 0px 1px 3px 1px rgba(60, 64, 67, 0.15);\n",
              "      fill: #174EA6;\n",
              "    }\n",
              "\n",
              "    [theme=dark] .colab-df-convert {\n",
              "      background-color: #3B4455;\n",
              "      fill: #D2E3FC;\n",
              "    }\n",
              "\n",
              "    [theme=dark] .colab-df-convert:hover {\n",
              "      background-color: #434B5C;\n",
              "      box-shadow: 0px 1px 3px 1px rgba(0, 0, 0, 0.15);\n",
              "      filter: drop-shadow(0px 1px 2px rgba(0, 0, 0, 0.3));\n",
              "      fill: #FFFFFF;\n",
              "    }\n",
              "  </style>\n",
              "\n",
              "      <script>\n",
              "        const buttonEl =\n",
              "          document.querySelector('#df-10dd099c-eced-4d4e-b43b-3a8414c602b0 button.colab-df-convert');\n",
              "        buttonEl.style.display =\n",
              "          google.colab.kernel.accessAllowed ? 'block' : 'none';\n",
              "\n",
              "        async function convertToInteractive(key) {\n",
              "          const element = document.querySelector('#df-10dd099c-eced-4d4e-b43b-3a8414c602b0');\n",
              "          const dataTable =\n",
              "            await google.colab.kernel.invokeFunction('convertToInteractive',\n",
              "                                                     [key], {});\n",
              "          if (!dataTable) return;\n",
              "\n",
              "          const docLinkHtml = 'Like what you see? Visit the ' +\n",
              "            '<a target=\"_blank\" href=https://colab.research.google.com/notebooks/data_table.ipynb>data table notebook</a>'\n",
              "            + ' to learn more about interactive tables.';\n",
              "          element.innerHTML = '';\n",
              "          dataTable['output_type'] = 'display_data';\n",
              "          await google.colab.output.renderOutput(dataTable, element);\n",
              "          const docLink = document.createElement('div');\n",
              "          docLink.innerHTML = docLinkHtml;\n",
              "          element.appendChild(docLink);\n",
              "        }\n",
              "      </script>\n",
              "    </div>\n",
              "  </div>\n",
              "  "
            ]
          },
          "metadata": {},
          "execution_count": 14
        }
      ]
    },
    {
      "cell_type": "code",
      "source": [
        "feature_df = knn_data[['buying price', 'maintenance cost','number of doors', 'number of persons','lug_boot', 'safety']]\n",
        "\n",
        "knn_x = np.array(feature_df)\n",
        "knn_y = np.array(knn_data['class'])"
      ],
      "metadata": {
        "id": "GV1vSG0T8GcG"
      },
      "id": "GV1vSG0T8GcG",
      "execution_count": 15,
      "outputs": []
    },
    {
      "cell_type": "code",
      "source": [
        "# We want to split the data in 57.87:17.36:24.77 for train:valid:test dataset\n",
        "train_size=0.5788\n",
        "\n",
        "X = knn_data.drop(columns = ['class']).copy()\n",
        "y = knn_data['class']\n",
        "\n",
        "# In the first step we will split the data in training and remaining dataset\n",
        "X_train, X_rem, y_train, y_rem = train_test_split(X,y, train_size=0.5788)\n",
        "\n",
        "# Now since we want the valid and test size to be 17.36:24.77. \n",
        "# we have to define valid_size=0.4121 (that is 41.21% of remaining data)\n",
        "test_size = 0.5879\n",
        "X_valid, X_test, y_valid, y_test = train_test_split(X_rem,y_rem, test_size=0.5879)\n",
        "\n",
        "print(X_train.shape), print(y_train.shape)\n",
        "print(X_valid.shape), print(y_valid.shape)\n",
        "print(X_test.shape), print(y_test.shape)"
      ],
      "metadata": {
        "colab": {
          "base_uri": "https://localhost:8080/"
        },
        "id": "c01pcuHd-fqT",
        "outputId": "eac847fc-52b2-4a39-db71-928ae357ff7d"
      },
      "id": "c01pcuHd-fqT",
      "execution_count": 16,
      "outputs": [
        {
          "output_type": "stream",
          "name": "stdout",
          "text": [
            "(1000, 6)\n",
            "(1000,)\n",
            "(300, 6)\n",
            "(300,)\n",
            "(428, 6)\n",
            "(428,)\n"
          ]
        },
        {
          "output_type": "execute_result",
          "data": {
            "text/plain": [
              "(None, None)"
            ]
          },
          "metadata": {},
          "execution_count": 16
        }
      ]
    },
    {
      "cell_type": "markdown",
      "source": [
        "# Question 3(b):"
      ],
      "metadata": {
        "id": "0fl9-tI9AG6V"
      },
      "id": "0fl9-tI9AG6V"
    },
    {
      "cell_type": "code",
      "source": [
        "knn_data.info()"
      ],
      "metadata": {
        "colab": {
          "base_uri": "https://localhost:8080/"
        },
        "id": "-x8xV-NXAIbB",
        "outputId": "cfabbebc-29eb-4fa7-d4e9-f86f24c3bb6a"
      },
      "id": "-x8xV-NXAIbB",
      "execution_count": 18,
      "outputs": [
        {
          "output_type": "stream",
          "name": "stdout",
          "text": [
            "<class 'pandas.core.frame.DataFrame'>\n",
            "RangeIndex: 1728 entries, 0 to 1727\n",
            "Data columns (total 7 columns):\n",
            " #   Column             Non-Null Count  Dtype \n",
            "---  ------             --------------  ----- \n",
            " 0   buying price       1728 non-null   object\n",
            " 1   maintenance cost   1728 non-null   object\n",
            " 2   number of doors    1728 non-null   object\n",
            " 3   number of persons  1728 non-null   object\n",
            " 4   lug_boot           1728 non-null   object\n",
            " 5   safety             1728 non-null   object\n",
            " 6   class              1728 non-null   object\n",
            "dtypes: object(7)\n",
            "memory usage: 94.6+ KB\n"
          ]
        }
      ]
    },
    {
      "cell_type": "code",
      "source": [
        "labelencoder = LabelEncoder()\n",
        "\n",
        "knn_data['buying price'] = labelencoder.fit_transform(knn_data['buying price'])\n",
        "knn_data['maintenance cost'] = labelencoder.fit_transform(knn_data['maintenance cost'])\n",
        "knn_data['number of doors'] = labelencoder.fit_transform(knn_data['number of doors'])\n",
        "knn_data['lug_boot'] = labelencoder.fit_transform(knn_data['lug_boot'])\n",
        "knn_data['safety'] = labelencoder.fit_transform(knn_data['safety'])\n",
        "knn_data['class'] = labelencoder.fit_transform(knn_data['class'])\n",
        "\n",
        "knn_data.to_csv(r'Car_Evaluation_New.csv', index = False)\n",
        "knn_data_new = pd.read_csv(\"/content/Car_Evaluation_data.csv\")\n",
        "knn_data_new.info()"
      ],
      "metadata": {
        "colab": {
          "base_uri": "https://localhost:8080/"
        },
        "id": "gdRIiySwALqL",
        "outputId": "bbfedcd5-8f9a-4eb7-ab60-c5b8dad43202"
      },
      "id": "gdRIiySwALqL",
      "execution_count": 19,
      "outputs": [
        {
          "output_type": "stream",
          "name": "stdout",
          "text": [
            "<class 'pandas.core.frame.DataFrame'>\n",
            "RangeIndex: 1728 entries, 0 to 1727\n",
            "Data columns (total 7 columns):\n",
            " #   Column             Non-Null Count  Dtype\n",
            "---  ------             --------------  -----\n",
            " 0   buying price       1728 non-null   int64\n",
            " 1   maintenance cost   1728 non-null   int64\n",
            " 2   number of doors    1728 non-null   int64\n",
            " 3   number of persons  1728 non-null   int64\n",
            " 4   lug_boot           1728 non-null   int64\n",
            " 5   safety             1728 non-null   int64\n",
            " 6   class              1728 non-null   int64\n",
            "dtypes: int64(7)\n",
            "memory usage: 94.6 KB\n"
          ]
        }
      ]
    },
    {
      "cell_type": "markdown",
      "source": [
        "# Question 3(c):"
      ],
      "metadata": {
        "id": "vuBtlGHHHZdU"
      },
      "id": "vuBtlGHHHZdU"
    },
    {
      "cell_type": "code",
      "source": [
        "knn_data_new = pd.read_csv(\"/content/Car_Evaluation_data.csv\")\n",
        "knn_data_new.info()"
      ],
      "metadata": {
        "colab": {
          "base_uri": "https://localhost:8080/"
        },
        "id": "eUCzk8HkDMBM",
        "outputId": "a457a6f1-7ccd-47d1-c21c-ee1f90c983b2"
      },
      "id": "eUCzk8HkDMBM",
      "execution_count": 32,
      "outputs": [
        {
          "output_type": "stream",
          "name": "stdout",
          "text": [
            "<class 'pandas.core.frame.DataFrame'>\n",
            "RangeIndex: 1728 entries, 0 to 1727\n",
            "Data columns (total 7 columns):\n",
            " #   Column             Non-Null Count  Dtype\n",
            "---  ------             --------------  -----\n",
            " 0   buying price       1728 non-null   int64\n",
            " 1   maintenance cost   1728 non-null   int64\n",
            " 2   number of doors    1728 non-null   int64\n",
            " 3   number of persons  1728 non-null   int64\n",
            " 4   lug_boot           1728 non-null   int64\n",
            " 5   safety             1728 non-null   int64\n",
            " 6   class              1728 non-null   int64\n",
            "dtypes: int64(7)\n",
            "memory usage: 94.6 KB\n"
          ]
        }
      ]
    },
    {
      "cell_type": "code",
      "source": [
        "feature_df_new = knn_data_new[['buying price', 'maintenance cost','number of doors', 'number of persons','lug_boot', 'safety']]\n",
        "\n",
        "knn_x_new = np.array(feature_df_new)\n",
        "knn_y_new = np.array(knn_data_new['class'])"
      ],
      "metadata": {
        "id": "Rgc7H7hTDL_I"
      },
      "id": "Rgc7H7hTDL_I",
      "execution_count": 33,
      "outputs": []
    },
    {
      "cell_type": "code",
      "source": [
        "# We want to split the data in 57.87:17.36:24.77 for train:valid:test dataset\n",
        "train_size=0.5788\n",
        "\n",
        "X_new = knn_data_new.drop(columns = ['class']).copy()\n",
        "y_new = knn_data_new['class']\n",
        "\n",
        "# In the first step we will split the data in training and remaining dataset\n",
        "X_train, X_rem, y_train, y_rem = train_test_split(X_new,y_new, train_size=0.5788)\n",
        "\n",
        "# Now since we want the valid and test size to be 17.36:24.77. \n",
        "# we have to define valid_size=0.4121 (that is 41.21% of remaining data)\n",
        "test_size = 0.5879\n",
        "X_valid, X_test, y_valid, y_test = train_test_split(X_rem,y_rem, test_size=0.5879)\n",
        "\n",
        "print(X_train.shape), print(y_train.shape)\n",
        "print(X_valid.shape), print(y_valid.shape)\n",
        "print(X_test.shape), print(y_test.shape)"
      ],
      "metadata": {
        "colab": {
          "base_uri": "https://localhost:8080/"
        },
        "id": "0drMBsosDYo-",
        "outputId": "2072448b-5e70-4b1b-cf0b-4c88f1ec1f80"
      },
      "id": "0drMBsosDYo-",
      "execution_count": 53,
      "outputs": [
        {
          "output_type": "stream",
          "name": "stdout",
          "text": [
            "(1000, 6)\n",
            "(1000,)\n",
            "(300, 6)\n",
            "(300,)\n",
            "(428, 6)\n",
            "(428,)\n"
          ]
        },
        {
          "output_type": "execute_result",
          "data": {
            "text/plain": [
              "(None, None)"
            ]
          },
          "metadata": {},
          "execution_count": 53
        }
      ]
    },
    {
      "cell_type": "code",
      "source": [
        "samples = [0.1,0.2,0.3,0.4,0.5,0.6,0.7,0.8,0.9]\n",
        "mean_acc_valid = np.zeros((10))\n",
        "std_acc_valid = np.zeros((10))\n",
        "mean_acc_test = np.zeros((10))\n",
        "std_acc_test = np.zeros((10))\n",
        "ConfustionMx = [];\n",
        "for n in range(0,len(samples)):\n",
        "    \n",
        "    #Train Model and Predict  \n",
        "    x = X_train\n",
        "    y = y_train\n",
        "    X_train_loop, X_rem, y_train_loop, y_rem = train_test_split(x,y, train_size=samples[n])\n",
        "    neigh = KNeighborsClassifier(n_neighbors = 2).fit(X_train_loop,y_train_loop)\n",
        "    yhat_valid=neigh.predict(X_valid)\n",
        "    mean_acc_valid[n] = metrics.accuracy_score(y_valid, yhat_valid)\n",
        "    std_acc_valid[n]=np.std(yhat_valid==y_valid)/np.sqrt(yhat_valid.shape[0])\n",
        "\n",
        "    yhat_test=neigh.predict(X_test)\n",
        "    mean_acc_test[n] = metrics.accuracy_score(y_test, yhat_test)\n",
        "    std_acc_test[n]=np.std(yhat_test==y_test)/np.sqrt(yhat_test.shape[0])\n",
        "\n",
        "neigh = KNeighborsClassifier(n_neighbors = 2).fit(X_train,y_train)\n",
        "yhat_valid=neigh.predict(X_valid)\n",
        "mean_acc_valid[9] = metrics.accuracy_score(y_valid, yhat_valid)\n",
        "std_acc_valid[9]=np.std(yhat_valid==y_valid)/np.sqrt(yhat_valid.shape[0])\n",
        "\n",
        "yhat_test=neigh.predict(X_test)\n",
        "mean_acc_test[9] = metrics.accuracy_score(y_test, yhat_test)\n",
        "std_acc_test[9]=np.std(yhat_test==y_test)/np.sqrt(yhat_test.shape[0])\n"
      ],
      "metadata": {
        "id": "5Uf72GCm7eYP"
      },
      "id": "5Uf72GCm7eYP",
      "execution_count": 71,
      "outputs": []
    },
    {
      "cell_type": "code",
      "source": [
        "plt.plot(range(0,10),mean_acc_test,'g')\n",
        "plt.plot(range(0,10),mean_acc_valid,'r')\n",
        "# plt.fill_between(range(0,10),mean_acc_test - 1 * std_acc_test,mean_acc_test + 1 * std_acc_test, alpha=0.10)\n",
        "# plt.fill_between(range(0,10),mean_acc_valid - 1 * std_acc_valid,mean_acc_valid + 1 * std_acc_valid, alpha=0.10)\n",
        "plt.legend(('Test', 'Valid'))\n",
        "plt.ylabel('Accuracy ')\n",
        "plt.xlabel('Number of Samples in Percentage')\n",
        "plt.show()"
      ],
      "metadata": {
        "colab": {
          "base_uri": "https://localhost:8080/",
          "height": 279
        },
        "id": "pzhMH7mlG3Wp",
        "outputId": "cd853439-a0f9-4901-a6b0-73007567261c"
      },
      "id": "pzhMH7mlG3Wp",
      "execution_count": 79,
      "outputs": [
        {
          "output_type": "display_data",
          "data": {
            "text/plain": [
              "<Figure size 432x288 with 1 Axes>"
            ],
            "image/png": "[encoded data removed]"
          },
          "metadata": {
            "needs_background": "light"
          }
        }
      ]
    },
    {
      "cell_type": "markdown",
      "source": [
        "# Question 3(d):"
      ],
      "metadata": {
        "id": "R0yHRYHfDfJr"
      },
      "id": "R0yHRYHfDfJr"
    },
    {
      "cell_type": "code",
      "source": [
        "import itertools\n",
        "import numpy as np\n",
        "import matplotlib.pyplot as plt\n",
        "from matplotlib.ticker import NullFormatter\n",
        "import pandas as pd\n",
        "import numpy as np\n",
        "import matplotlib.ticker as ticker\n",
        "from sklearn import preprocessing\n",
        "from sklearn import datasets, neighbors\n",
        "from sklearn.model_selection import train_test_split\n",
        "from mlxtend.plotting import plot_decision_regions\n",
        "from sklearn.neighbors import KNeighborsClassifier\n",
        "from sklearn import metrics\n",
        "%matplotlib inline"
      ],
      "metadata": {
        "id": "z4kWKmlpGPo1"
      },
      "id": "z4kWKmlpGPo1",
      "execution_count": 1,
      "outputs": []
    },
    {
      "cell_type": "code",
      "source": [
        "knn_data_new = pd.read_csv(\"/content/Car_Evaluation_data.csv\")\n",
        "knn_data_new.info()"
      ],
      "metadata": {
        "colab": {
          "base_uri": "https://localhost:8080/"
        },
        "id": "bKoG7y0sDiOa",
        "outputId": "58f0ebb2-3eee-47f5-9df4-3da3d23033a2"
      },
      "id": "bKoG7y0sDiOa",
      "execution_count": 3,
      "outputs": [
        {
          "output_type": "stream",
          "name": "stdout",
          "text": [
            "<class 'pandas.core.frame.DataFrame'>\n",
            "RangeIndex: 1728 entries, 0 to 1727\n",
            "Data columns (total 7 columns):\n",
            " #   Column             Non-Null Count  Dtype\n",
            "---  ------             --------------  -----\n",
            " 0   buying price       1728 non-null   int64\n",
            " 1   maintenance cost   1728 non-null   int64\n",
            " 2   number of doors    1728 non-null   int64\n",
            " 3   number of persons  1728 non-null   int64\n",
            " 4   lug_boot           1728 non-null   int64\n",
            " 5   safety             1728 non-null   int64\n",
            " 6   class              1728 non-null   int64\n",
            "dtypes: int64(7)\n",
            "memory usage: 94.6 KB\n"
          ]
        }
      ]
    },
    {
      "cell_type": "code",
      "source": [
        "feature_df_new = knn_data_new[['buying price', 'maintenance cost','number of doors', 'number of persons','lug_boot', 'safety']]\n",
        "\n",
        "knn_x_new = np.array(feature_df_new)\n",
        "knn_y_new = np.array(knn_data_new['class'])"
      ],
      "metadata": {
        "id": "0CrlOLHlFqZO"
      },
      "id": "0CrlOLHlFqZO",
      "execution_count": 7,
      "outputs": []
    },
    {
      "cell_type": "code",
      "source": [
        "# We want to split the data in 57.87:17.36:24.77 for train:valid:test dataset\n",
        "train_size=0.5788\n",
        "\n",
        "X_new = knn_data_new.drop(columns = ['class']).copy()\n",
        "y_new = knn_data_new['class']\n",
        "\n",
        "# In the first step we will split the data in training and remaining dataset\n",
        "X_train, X_rem, y_train, y_rem = train_test_split(X_new,y_new, train_size=0.5788)\n",
        "\n",
        "# Now since we want the valid and test size to be 17.36:24.77. \n",
        "# we have to define valid_size=0.4121 (that is 41.21% of remaining data)\n",
        "test_size = 0.5879\n",
        "X_valid, X_test, y_valid, y_test = train_test_split(X_rem,y_rem, test_size=0.5879)\n",
        "\n",
        "print(X_train.shape), print(y_train.shape)\n",
        "print(X_valid.shape), print(y_valid.shape)\n",
        "print(X_test.shape), print(y_test.shape)"
      ],
      "metadata": {
        "colab": {
          "base_uri": "https://localhost:8080/"
        },
        "id": "k4BO5FZlFx71",
        "outputId": "2c4a5426-a7a7-4d2d-af10-fa849739a47a"
      },
      "id": "k4BO5FZlFx71",
      "execution_count": 8,
      "outputs": [
        {
          "output_type": "stream",
          "name": "stdout",
          "text": [
            "(1000, 6)\n",
            "(1000,)\n",
            "(300, 6)\n",
            "(300,)\n",
            "(428, 6)\n",
            "(428,)\n"
          ]
        },
        {
          "output_type": "execute_result",
          "data": {
            "text/plain": [
              "(None, None)"
            ]
          },
          "metadata": {},
          "execution_count": 8
        }
      ]
    },
    {
      "cell_type": "code",
      "source": [
        "Ks = 10\n",
        "mean_acc = np.zeros((Ks-1))\n",
        "std_acc = np.zeros((Ks-1))\n",
        "ConfustionMx = [];\n",
        "for n in range(1,Ks):\n",
        "    \n",
        "    #Train Model and Predict  \n",
        "    neigh = KNeighborsClassifier(n_neighbors = n).fit(X_train,y_train)\n",
        "    yhat=neigh.predict(X_valid)\n",
        "    mean_acc[n-1] = metrics.accuracy_score(y_valid, yhat)\n",
        "\n",
        "    \n",
        "    std_acc[n-1]=np.std(yhat==y_valid)/np.sqrt(yhat.shape[0])\n",
        "\n",
        "mean_acc"
      ],
      "metadata": {
        "colab": {
          "base_uri": "https://localhost:8080/"
        },
        "id": "WzQsqsZhGH-W",
        "outputId": "a5586c72-c77b-478e-a447-f22f56b4e25e"
      },
      "id": "WzQsqsZhGH-W",
      "execution_count": 10,
      "outputs": [
        {
          "output_type": "execute_result",
          "data": {
            "text/plain": [
              "array([0.84333333, 0.79      , 0.88      , 0.87333333, 0.92666667,\n",
              "       0.91333333, 0.89666667, 0.88      , 0.89666667])"
            ]
          },
          "metadata": {},
          "execution_count": 10
        }
      ]
    },
    {
      "cell_type": "code",
      "source": [
        "plt.plot(range(1,Ks),mean_acc,'g')\n",
        "plt.fill_between(range(1,Ks),mean_acc - 1 * std_acc,mean_acc + 1 * std_acc, alpha=0.10)\n",
        "plt.legend(('Accuracy ', '+/- 3xstd'))\n",
        "plt.ylabel('Accuracy ')\n",
        "plt.xlabel('Number of Neignbours (K)')\n",
        "plt.tight_layout()\n",
        "plt.show()"
      ],
      "metadata": {
        "colab": {
          "base_uri": "https://localhost:8080/",
          "height": 297
        },
        "id": "DwzvAqL-GkyL",
        "outputId": "8dd73d6e-1499-4103-8ebe-f9bc91b53153"
      },
      "id": "DwzvAqL-GkyL",
      "execution_count": 11,
      "outputs": [
        {
          "output_type": "display_data",
          "data": {
            "text/plain": [
              "<Figure size 432x288 with 1 Axes>"
            ],
            "image/png": "[encoded data removed]"
          },
          "metadata": {
            "needs_background": "light"
          }
        }
      ]
    },
    {
      "cell_type": "code",
      "source": [
        "print( \"The best accuracy was with\", mean_acc.max(), \"with k=\", mean_acc.argmax()+1)"
      ],
      "metadata": {
        "colab": {
          "base_uri": "https://localhost:8080/"
        },
        "id": "jZkhHhAVGn7y",
        "outputId": "4a8dffc9-ffa5-4a6c-9718-087829ffc0fb"
      },
      "id": "jZkhHhAVGn7y",
      "execution_count": 289,
      "outputs": [
        {
          "output_type": "stream",
          "name": "stdout",
          "text": [
            "The best accuracy was with 0.8866666666666667 with k= 5\n"
          ]
        }
      ]
    }
  ],
  "metadata": {
    "kernelspec": {
      "display_name": "Python 3 (ipykernel)",
      "language": "python",
      "name": "python3"
    },
    "language_info": {
      "codemirror_mode": {
        "name": "ipython",
        "version": 3
      },
      "file_extension": ".py",
      "mimetype": "text/x-python",
      "name": "python",
      "nbconvert_exporter": "python",
      "pygments_lexer": "ipython3",
      "version": "3.9.7"
    },
    "colab": {
      "provenance": []
    }
  },
  "nbformat": 4,
  "nbformat_minor": 5
}