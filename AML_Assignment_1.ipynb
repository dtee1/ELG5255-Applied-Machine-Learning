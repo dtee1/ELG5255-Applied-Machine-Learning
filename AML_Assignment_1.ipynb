{
  "cells": [
    {
      "cell_type": "markdown",
      "id": "743584f5",
      "metadata": {
        "id": "743584f5"
      },
      "source": [
        "# Question 1(a) : Load the DUMD dataset and convert categorical class labels under the ”UNS” column to numerical values by using the LabelEncoder."
      ]
    },
    {
      "cell_type": "markdown",
      "id": "56f5319f",
      "metadata": {
        "id": "56f5319f"
      },
      "source": [
        "References:\n",
        "\n",
        "https://www.mygreatlearning.com/blog/label-encoding-in-python/ \n",
        "\n",
        "https://www.adamsmith.haus/python/answers/how-to-read-specific-column-from-csv-file-in-python#:~:text=Use%20pandas.,read%20from%20the%20CSV%20file."
      ]
    },
    {
      "cell_type": "code",
      "execution_count": null,
      "id": "0f55ee1f",
      "metadata": {
        "id": "0f55ee1f",
        "outputId": "95ba91ed-db81-437b-d0db-e402560e91af"
      },
      "outputs": [
        {
          "data": {
            "text/html": [
              "<div>\n",
              "<style scoped>\n",
              "    .dataframe tbody tr th:only-of-type {\n",
              "        vertical-align: middle;\n",
              "    }\n",
              "\n",
              "    .dataframe tbody tr th {\n",
              "        vertical-align: top;\n",
              "    }\n",
              "\n",
              "    .dataframe thead th {\n",
              "        text-align: right;\n",
              "    }\n",
              "</style>\n",
              "<table border=\"1\" class=\"dataframe\">\n",
              "  <thead>\n",
              "    <tr style=\"text-align: right;\">\n",
              "      <th></th>\n",
              "      <th>STG</th>\n",
              "      <th>SCG</th>\n",
              "      <th>STR</th>\n",
              "      <th>LPR</th>\n",
              "      <th>PEG</th>\n",
              "      <th>UNS</th>\n",
              "    </tr>\n",
              "  </thead>\n",
              "  <tbody>\n",
              "    <tr>\n",
              "      <th>0</th>\n",
              "      <td>0.00</td>\n",
              "      <td>0.00</td>\n",
              "      <td>0.00</td>\n",
              "      <td>0.00</td>\n",
              "      <td>0.00</td>\n",
              "      <td>Very Low</td>\n",
              "    </tr>\n",
              "    <tr>\n",
              "      <th>1</th>\n",
              "      <td>0.08</td>\n",
              "      <td>0.08</td>\n",
              "      <td>0.10</td>\n",
              "      <td>0.24</td>\n",
              "      <td>0.90</td>\n",
              "      <td>High</td>\n",
              "    </tr>\n",
              "    <tr>\n",
              "      <th>2</th>\n",
              "      <td>0.10</td>\n",
              "      <td>0.10</td>\n",
              "      <td>0.15</td>\n",
              "      <td>0.65</td>\n",
              "      <td>0.30</td>\n",
              "      <td>Medium</td>\n",
              "    </tr>\n",
              "    <tr>\n",
              "      <th>3</th>\n",
              "      <td>0.08</td>\n",
              "      <td>0.08</td>\n",
              "      <td>0.08</td>\n",
              "      <td>0.98</td>\n",
              "      <td>0.24</td>\n",
              "      <td>Low</td>\n",
              "    </tr>\n",
              "    <tr>\n",
              "      <th>4</th>\n",
              "      <td>0.09</td>\n",
              "      <td>0.15</td>\n",
              "      <td>0.40</td>\n",
              "      <td>0.10</td>\n",
              "      <td>0.66</td>\n",
              "      <td>Medium</td>\n",
              "    </tr>\n",
              "    <tr>\n",
              "      <th>...</th>\n",
              "      <td>...</td>\n",
              "      <td>...</td>\n",
              "      <td>...</td>\n",
              "      <td>...</td>\n",
              "      <td>...</td>\n",
              "      <td>...</td>\n",
              "    </tr>\n",
              "    <tr>\n",
              "      <th>318</th>\n",
              "      <td>0.90</td>\n",
              "      <td>0.78</td>\n",
              "      <td>0.62</td>\n",
              "      <td>0.32</td>\n",
              "      <td>0.89</td>\n",
              "      <td>High</td>\n",
              "    </tr>\n",
              "    <tr>\n",
              "      <th>319</th>\n",
              "      <td>0.85</td>\n",
              "      <td>0.82</td>\n",
              "      <td>0.66</td>\n",
              "      <td>0.83</td>\n",
              "      <td>0.83</td>\n",
              "      <td>High</td>\n",
              "    </tr>\n",
              "    <tr>\n",
              "      <th>320</th>\n",
              "      <td>0.56</td>\n",
              "      <td>0.60</td>\n",
              "      <td>0.77</td>\n",
              "      <td>0.13</td>\n",
              "      <td>0.32</td>\n",
              "      <td>Low</td>\n",
              "    </tr>\n",
              "    <tr>\n",
              "      <th>321</th>\n",
              "      <td>0.66</td>\n",
              "      <td>0.68</td>\n",
              "      <td>0.81</td>\n",
              "      <td>0.57</td>\n",
              "      <td>0.57</td>\n",
              "      <td>Medium</td>\n",
              "    </tr>\n",
              "    <tr>\n",
              "      <th>322</th>\n",
              "      <td>0.68</td>\n",
              "      <td>0.64</td>\n",
              "      <td>0.79</td>\n",
              "      <td>0.97</td>\n",
              "      <td>0.24</td>\n",
              "      <td>Medium</td>\n",
              "    </tr>\n",
              "  </tbody>\n",
              "</table>\n",
              "<p>323 rows × 6 columns</p>\n",
              "</div>"
            ],
            "text/plain": [
              "      STG   SCG   STR   LPR   PEG       UNS\n",
              "0    0.00  0.00  0.00  0.00  0.00  Very Low\n",
              "1    0.08  0.08  0.10  0.24  0.90      High\n",
              "2    0.10  0.10  0.15  0.65  0.30    Medium\n",
              "3    0.08  0.08  0.08  0.98  0.24       Low\n",
              "4    0.09  0.15  0.40  0.10  0.66    Medium\n",
              "..    ...   ...   ...   ...   ...       ...\n",
              "318  0.90  0.78  0.62  0.32  0.89      High\n",
              "319  0.85  0.82  0.66  0.83  0.83      High\n",
              "320  0.56  0.60  0.77  0.13  0.32       Low\n",
              "321  0.66  0.68  0.81  0.57  0.57    Medium\n",
              "322  0.68  0.64  0.79  0.97  0.24    Medium\n",
              "\n",
              "[323 rows x 6 columns]"
            ]
          },
          "execution_count": 1,
          "metadata": {},
          "output_type": "execute_result"
        }
      ],
      "source": [
        "import numpy as np\n",
        "import pandas as pd\n",
        "from sklearn.preprocessing import LabelEncoder\n",
        "\n",
        "data_train = pd.read_csv(\"DUMD_train.csv\")\n",
        "\n",
        "data_train"
      ]
    },
    {
      "cell_type": "code",
      "execution_count": null,
      "id": "a4ffbc9e",
      "metadata": {
        "id": "a4ffbc9e",
        "outputId": "c2051ee1-d862-465a-e7f2-1ed0f8f2eb73"
      },
      "outputs": [
        {
          "data": {
            "text/html": [
              "<div>\n",
              "<style scoped>\n",
              "    .dataframe tbody tr th:only-of-type {\n",
              "        vertical-align: middle;\n",
              "    }\n",
              "\n",
              "    .dataframe tbody tr th {\n",
              "        vertical-align: top;\n",
              "    }\n",
              "\n",
              "    .dataframe thead th {\n",
              "        text-align: right;\n",
              "    }\n",
              "</style>\n",
              "<table border=\"1\" class=\"dataframe\">\n",
              "  <thead>\n",
              "    <tr style=\"text-align: right;\">\n",
              "      <th></th>\n",
              "      <th>STG</th>\n",
              "      <th>SCG</th>\n",
              "      <th>STR</th>\n",
              "      <th>LPR</th>\n",
              "      <th>PEG</th>\n",
              "      <th>UNS</th>\n",
              "      <th>UNS_N</th>\n",
              "    </tr>\n",
              "  </thead>\n",
              "  <tbody>\n",
              "    <tr>\n",
              "      <th>0</th>\n",
              "      <td>0.00</td>\n",
              "      <td>0.00</td>\n",
              "      <td>0.00</td>\n",
              "      <td>0.00</td>\n",
              "      <td>0.00</td>\n",
              "      <td>Very Low</td>\n",
              "      <td>3</td>\n",
              "    </tr>\n",
              "    <tr>\n",
              "      <th>1</th>\n",
              "      <td>0.08</td>\n",
              "      <td>0.08</td>\n",
              "      <td>0.10</td>\n",
              "      <td>0.24</td>\n",
              "      <td>0.90</td>\n",
              "      <td>High</td>\n",
              "      <td>0</td>\n",
              "    </tr>\n",
              "    <tr>\n",
              "      <th>2</th>\n",
              "      <td>0.10</td>\n",
              "      <td>0.10</td>\n",
              "      <td>0.15</td>\n",
              "      <td>0.65</td>\n",
              "      <td>0.30</td>\n",
              "      <td>Medium</td>\n",
              "      <td>2</td>\n",
              "    </tr>\n",
              "    <tr>\n",
              "      <th>3</th>\n",
              "      <td>0.08</td>\n",
              "      <td>0.08</td>\n",
              "      <td>0.08</td>\n",
              "      <td>0.98</td>\n",
              "      <td>0.24</td>\n",
              "      <td>Low</td>\n",
              "      <td>1</td>\n",
              "    </tr>\n",
              "    <tr>\n",
              "      <th>4</th>\n",
              "      <td>0.09</td>\n",
              "      <td>0.15</td>\n",
              "      <td>0.40</td>\n",
              "      <td>0.10</td>\n",
              "      <td>0.66</td>\n",
              "      <td>Medium</td>\n",
              "      <td>2</td>\n",
              "    </tr>\n",
              "    <tr>\n",
              "      <th>...</th>\n",
              "      <td>...</td>\n",
              "      <td>...</td>\n",
              "      <td>...</td>\n",
              "      <td>...</td>\n",
              "      <td>...</td>\n",
              "      <td>...</td>\n",
              "      <td>...</td>\n",
              "    </tr>\n",
              "    <tr>\n",
              "      <th>318</th>\n",
              "      <td>0.90</td>\n",
              "      <td>0.78</td>\n",
              "      <td>0.62</td>\n",
              "      <td>0.32</td>\n",
              "      <td>0.89</td>\n",
              "      <td>High</td>\n",
              "      <td>0</td>\n",
              "    </tr>\n",
              "    <tr>\n",
              "      <th>319</th>\n",
              "      <td>0.85</td>\n",
              "      <td>0.82</td>\n",
              "      <td>0.66</td>\n",
              "      <td>0.83</td>\n",
              "      <td>0.83</td>\n",
              "      <td>High</td>\n",
              "      <td>0</td>\n",
              "    </tr>\n",
              "    <tr>\n",
              "      <th>320</th>\n",
              "      <td>0.56</td>\n",
              "      <td>0.60</td>\n",
              "      <td>0.77</td>\n",
              "      <td>0.13</td>\n",
              "      <td>0.32</td>\n",
              "      <td>Low</td>\n",
              "      <td>1</td>\n",
              "    </tr>\n",
              "    <tr>\n",
              "      <th>321</th>\n",
              "      <td>0.66</td>\n",
              "      <td>0.68</td>\n",
              "      <td>0.81</td>\n",
              "      <td>0.57</td>\n",
              "      <td>0.57</td>\n",
              "      <td>Medium</td>\n",
              "      <td>2</td>\n",
              "    </tr>\n",
              "    <tr>\n",
              "      <th>322</th>\n",
              "      <td>0.68</td>\n",
              "      <td>0.64</td>\n",
              "      <td>0.79</td>\n",
              "      <td>0.97</td>\n",
              "      <td>0.24</td>\n",
              "      <td>Medium</td>\n",
              "      <td>2</td>\n",
              "    </tr>\n",
              "  </tbody>\n",
              "</table>\n",
              "<p>323 rows × 7 columns</p>\n",
              "</div>"
            ],
            "text/plain": [
              "      STG   SCG   STR   LPR   PEG       UNS  UNS_N\n",
              "0    0.00  0.00  0.00  0.00  0.00  Very Low      3\n",
              "1    0.08  0.08  0.10  0.24  0.90      High      0\n",
              "2    0.10  0.10  0.15  0.65  0.30    Medium      2\n",
              "3    0.08  0.08  0.08  0.98  0.24       Low      1\n",
              "4    0.09  0.15  0.40  0.10  0.66    Medium      2\n",
              "..    ...   ...   ...   ...   ...       ...    ...\n",
              "318  0.90  0.78  0.62  0.32  0.89      High      0\n",
              "319  0.85  0.82  0.66  0.83  0.83      High      0\n",
              "320  0.56  0.60  0.77  0.13  0.32       Low      1\n",
              "321  0.66  0.68  0.81  0.57  0.57    Medium      2\n",
              "322  0.68  0.64  0.79  0.97  0.24    Medium      2\n",
              "\n",
              "[323 rows x 7 columns]"
            ]
          },
          "execution_count": 2,
          "metadata": {},
          "output_type": "execute_result"
        }
      ],
      "source": [
        "labelencoder = LabelEncoder()\n",
        "\n",
        "data_train[\"UNS_N\"] = labelencoder.fit_transform(data_train[\"UNS\"])\n",
        "\n",
        "data_train.to_csv(r'D:\\Applied Machine Learning\\DUMD_train_New.csv', index = False)\n",
        "\n",
        "data_train"
      ]
    },
    {
      "cell_type": "code",
      "execution_count": null,
      "id": "3a3053cc",
      "metadata": {
        "id": "3a3053cc",
        "outputId": "f2b6d0f4-8b21-4439-8a81-727090e3977a"
      },
      "outputs": [
        {
          "data": {
            "text/html": [
              "<div>\n",
              "<style scoped>\n",
              "    .dataframe tbody tr th:only-of-type {\n",
              "        vertical-align: middle;\n",
              "    }\n",
              "\n",
              "    .dataframe tbody tr th {\n",
              "        vertical-align: top;\n",
              "    }\n",
              "\n",
              "    .dataframe thead th {\n",
              "        text-align: right;\n",
              "    }\n",
              "</style>\n",
              "<table border=\"1\" class=\"dataframe\">\n",
              "  <thead>\n",
              "    <tr style=\"text-align: right;\">\n",
              "      <th></th>\n",
              "      <th>STG</th>\n",
              "      <th>SCG</th>\n",
              "      <th>STR</th>\n",
              "      <th>LPR</th>\n",
              "      <th>PEG</th>\n",
              "      <th>UNS</th>\n",
              "    </tr>\n",
              "  </thead>\n",
              "  <tbody>\n",
              "    <tr>\n",
              "      <th>0</th>\n",
              "      <td>0.420</td>\n",
              "      <td>0.290</td>\n",
              "      <td>0.140</td>\n",
              "      <td>0.03</td>\n",
              "      <td>0.68</td>\n",
              "      <td>Medium</td>\n",
              "    </tr>\n",
              "    <tr>\n",
              "      <th>1</th>\n",
              "      <td>0.100</td>\n",
              "      <td>0.100</td>\n",
              "      <td>0.520</td>\n",
              "      <td>0.78</td>\n",
              "      <td>0.34</td>\n",
              "      <td>Medium</td>\n",
              "    </tr>\n",
              "    <tr>\n",
              "      <th>2</th>\n",
              "      <td>0.510</td>\n",
              "      <td>0.255</td>\n",
              "      <td>0.550</td>\n",
              "      <td>0.17</td>\n",
              "      <td>0.64</td>\n",
              "      <td>Medium</td>\n",
              "    </tr>\n",
              "    <tr>\n",
              "      <th>3</th>\n",
              "      <td>0.250</td>\n",
              "      <td>0.540</td>\n",
              "      <td>0.310</td>\n",
              "      <td>0.25</td>\n",
              "      <td>0.08</td>\n",
              "      <td>Very Low</td>\n",
              "    </tr>\n",
              "    <tr>\n",
              "      <th>4</th>\n",
              "      <td>0.258</td>\n",
              "      <td>0.250</td>\n",
              "      <td>0.295</td>\n",
              "      <td>0.33</td>\n",
              "      <td>0.77</td>\n",
              "      <td>High</td>\n",
              "    </tr>\n",
              "    <tr>\n",
              "      <th>...</th>\n",
              "      <td>...</td>\n",
              "      <td>...</td>\n",
              "      <td>...</td>\n",
              "      <td>...</td>\n",
              "      <td>...</td>\n",
              "      <td>...</td>\n",
              "    </tr>\n",
              "    <tr>\n",
              "      <th>75</th>\n",
              "      <td>0.520</td>\n",
              "      <td>0.440</td>\n",
              "      <td>0.820</td>\n",
              "      <td>0.30</td>\n",
              "      <td>0.52</td>\n",
              "      <td>Medium</td>\n",
              "    </tr>\n",
              "    <tr>\n",
              "      <th>76</th>\n",
              "      <td>0.288</td>\n",
              "      <td>0.310</td>\n",
              "      <td>0.790</td>\n",
              "      <td>0.23</td>\n",
              "      <td>0.24</td>\n",
              "      <td>Low</td>\n",
              "    </tr>\n",
              "    <tr>\n",
              "      <th>77</th>\n",
              "      <td>0.260</td>\n",
              "      <td>0.260</td>\n",
              "      <td>0.310</td>\n",
              "      <td>0.26</td>\n",
              "      <td>0.13</td>\n",
              "      <td>Very Low</td>\n",
              "    </tr>\n",
              "    <tr>\n",
              "      <th>78</th>\n",
              "      <td>0.990</td>\n",
              "      <td>0.490</td>\n",
              "      <td>0.070</td>\n",
              "      <td>0.70</td>\n",
              "      <td>0.69</td>\n",
              "      <td>High</td>\n",
              "    </tr>\n",
              "    <tr>\n",
              "      <th>79</th>\n",
              "      <td>0.080</td>\n",
              "      <td>0.580</td>\n",
              "      <td>0.600</td>\n",
              "      <td>0.64</td>\n",
              "      <td>0.10</td>\n",
              "      <td>Low</td>\n",
              "    </tr>\n",
              "  </tbody>\n",
              "</table>\n",
              "<p>80 rows × 6 columns</p>\n",
              "</div>"
            ],
            "text/plain": [
              "      STG    SCG    STR   LPR   PEG       UNS\n",
              "0   0.420  0.290  0.140  0.03  0.68    Medium\n",
              "1   0.100  0.100  0.520  0.78  0.34    Medium\n",
              "2   0.510  0.255  0.550  0.17  0.64    Medium\n",
              "3   0.250  0.540  0.310  0.25  0.08  Very Low\n",
              "4   0.258  0.250  0.295  0.33  0.77      High\n",
              "..    ...    ...    ...   ...   ...       ...\n",
              "75  0.520  0.440  0.820  0.30  0.52    Medium\n",
              "76  0.288  0.310  0.790  0.23  0.24       Low\n",
              "77  0.260  0.260  0.310  0.26  0.13  Very Low\n",
              "78  0.990  0.490  0.070  0.70  0.69      High\n",
              "79  0.080  0.580  0.600  0.64  0.10       Low\n",
              "\n",
              "[80 rows x 6 columns]"
            ]
          },
          "execution_count": 4,
          "metadata": {},
          "output_type": "execute_result"
        }
      ],
      "source": [
        "data_test = pd.read_csv(\"DUMD_test.csv\")\n",
        "\n",
        "\n",
        "data_test"
      ]
    },
    {
      "cell_type": "code",
      "execution_count": null,
      "id": "bf2eb4c4",
      "metadata": {
        "id": "bf2eb4c4",
        "outputId": "57b070a4-ae95-47c2-8d86-8b33bf3f7455"
      },
      "outputs": [
        {
          "data": {
            "text/html": [
              "<div>\n",
              "<style scoped>\n",
              "    .dataframe tbody tr th:only-of-type {\n",
              "        vertical-align: middle;\n",
              "    }\n",
              "\n",
              "    .dataframe tbody tr th {\n",
              "        vertical-align: top;\n",
              "    }\n",
              "\n",
              "    .dataframe thead th {\n",
              "        text-align: right;\n",
              "    }\n",
              "</style>\n",
              "<table border=\"1\" class=\"dataframe\">\n",
              "  <thead>\n",
              "    <tr style=\"text-align: right;\">\n",
              "      <th></th>\n",
              "      <th>STG</th>\n",
              "      <th>SCG</th>\n",
              "      <th>STR</th>\n",
              "      <th>LPR</th>\n",
              "      <th>PEG</th>\n",
              "      <th>UNS</th>\n",
              "      <th>UNS_N</th>\n",
              "    </tr>\n",
              "  </thead>\n",
              "  <tbody>\n",
              "    <tr>\n",
              "      <th>0</th>\n",
              "      <td>0.420</td>\n",
              "      <td>0.290</td>\n",
              "      <td>0.140</td>\n",
              "      <td>0.03</td>\n",
              "      <td>0.68</td>\n",
              "      <td>Medium</td>\n",
              "      <td>2</td>\n",
              "    </tr>\n",
              "    <tr>\n",
              "      <th>1</th>\n",
              "      <td>0.100</td>\n",
              "      <td>0.100</td>\n",
              "      <td>0.520</td>\n",
              "      <td>0.78</td>\n",
              "      <td>0.34</td>\n",
              "      <td>Medium</td>\n",
              "      <td>2</td>\n",
              "    </tr>\n",
              "    <tr>\n",
              "      <th>2</th>\n",
              "      <td>0.510</td>\n",
              "      <td>0.255</td>\n",
              "      <td>0.550</td>\n",
              "      <td>0.17</td>\n",
              "      <td>0.64</td>\n",
              "      <td>Medium</td>\n",
              "      <td>2</td>\n",
              "    </tr>\n",
              "    <tr>\n",
              "      <th>3</th>\n",
              "      <td>0.250</td>\n",
              "      <td>0.540</td>\n",
              "      <td>0.310</td>\n",
              "      <td>0.25</td>\n",
              "      <td>0.08</td>\n",
              "      <td>Very Low</td>\n",
              "      <td>3</td>\n",
              "    </tr>\n",
              "    <tr>\n",
              "      <th>4</th>\n",
              "      <td>0.258</td>\n",
              "      <td>0.250</td>\n",
              "      <td>0.295</td>\n",
              "      <td>0.33</td>\n",
              "      <td>0.77</td>\n",
              "      <td>High</td>\n",
              "      <td>0</td>\n",
              "    </tr>\n",
              "    <tr>\n",
              "      <th>...</th>\n",
              "      <td>...</td>\n",
              "      <td>...</td>\n",
              "      <td>...</td>\n",
              "      <td>...</td>\n",
              "      <td>...</td>\n",
              "      <td>...</td>\n",
              "      <td>...</td>\n",
              "    </tr>\n",
              "    <tr>\n",
              "      <th>75</th>\n",
              "      <td>0.520</td>\n",
              "      <td>0.440</td>\n",
              "      <td>0.820</td>\n",
              "      <td>0.30</td>\n",
              "      <td>0.52</td>\n",
              "      <td>Medium</td>\n",
              "      <td>2</td>\n",
              "    </tr>\n",
              "    <tr>\n",
              "      <th>76</th>\n",
              "      <td>0.288</td>\n",
              "      <td>0.310</td>\n",
              "      <td>0.790</td>\n",
              "      <td>0.23</td>\n",
              "      <td>0.24</td>\n",
              "      <td>Low</td>\n",
              "      <td>1</td>\n",
              "    </tr>\n",
              "    <tr>\n",
              "      <th>77</th>\n",
              "      <td>0.260</td>\n",
              "      <td>0.260</td>\n",
              "      <td>0.310</td>\n",
              "      <td>0.26</td>\n",
              "      <td>0.13</td>\n",
              "      <td>Very Low</td>\n",
              "      <td>3</td>\n",
              "    </tr>\n",
              "    <tr>\n",
              "      <th>78</th>\n",
              "      <td>0.990</td>\n",
              "      <td>0.490</td>\n",
              "      <td>0.070</td>\n",
              "      <td>0.70</td>\n",
              "      <td>0.69</td>\n",
              "      <td>High</td>\n",
              "      <td>0</td>\n",
              "    </tr>\n",
              "    <tr>\n",
              "      <th>79</th>\n",
              "      <td>0.080</td>\n",
              "      <td>0.580</td>\n",
              "      <td>0.600</td>\n",
              "      <td>0.64</td>\n",
              "      <td>0.10</td>\n",
              "      <td>Low</td>\n",
              "      <td>1</td>\n",
              "    </tr>\n",
              "  </tbody>\n",
              "</table>\n",
              "<p>80 rows × 7 columns</p>\n",
              "</div>"
            ],
            "text/plain": [
              "      STG    SCG    STR   LPR   PEG       UNS  UNS_N\n",
              "0   0.420  0.290  0.140  0.03  0.68    Medium      2\n",
              "1   0.100  0.100  0.520  0.78  0.34    Medium      2\n",
              "2   0.510  0.255  0.550  0.17  0.64    Medium      2\n",
              "3   0.250  0.540  0.310  0.25  0.08  Very Low      3\n",
              "4   0.258  0.250  0.295  0.33  0.77      High      0\n",
              "..    ...    ...    ...   ...   ...       ...    ...\n",
              "75  0.520  0.440  0.820  0.30  0.52    Medium      2\n",
              "76  0.288  0.310  0.790  0.23  0.24       Low      1\n",
              "77  0.260  0.260  0.310  0.26  0.13  Very Low      3\n",
              "78  0.990  0.490  0.070  0.70  0.69      High      0\n",
              "79  0.080  0.580  0.600  0.64  0.10       Low      1\n",
              "\n",
              "[80 rows x 7 columns]"
            ]
          },
          "execution_count": 5,
          "metadata": {},
          "output_type": "execute_result"
        }
      ],
      "source": [
        "data_test[\"UNS_N\"] = labelencoder.fit_transform(data_test[\"UNS\"])\n",
        "\n",
        "data_test.to_csv(r'D:\\Applied Machine Learning\\DUMD_test_New.csv', index = False)\n",
        "\n",
        "data_test"
      ]
    },
    {
      "cell_type": "markdown",
      "id": "15df26e8",
      "metadata": {
        "id": "15df26e8"
      },
      "source": [
        "# Question 1(b) : Choose two features from DUMD dataset to apply SVM and Perceptron algorithms for classification. Plot the data by showing classes separately. Explain how and why you chose the two features?"
      ]
    },
    {
      "cell_type": "markdown",
      "id": "f3207057",
      "metadata": {
        "id": "f3207057"
      },
      "source": [
        "References:\n",
        "\n",
        "https://vitalflux.com/python-scatter-plot-different-classes/"
      ]
    },
    {
      "cell_type": "code",
      "execution_count": 2,
      "id": "451bd750",
      "metadata": {
        "colab": {
          "base_uri": "https://localhost:8080/",
          "height": 206
        },
        "id": "451bd750",
        "outputId": "c2dd48f3-62e5-4bd1-f509-a64a8031b19f"
      },
      "outputs": [
        {
          "output_type": "execute_result",
          "data": {
            "text/plain": [
              "    STG   SCG   STR   LPR   PEG       UNS  UNS_N\n",
              "0  0.00  0.00  0.00  0.00  0.00  Very Low      3\n",
              "1  0.08  0.08  0.10  0.24  0.90      High      0\n",
              "2  0.10  0.10  0.15  0.65  0.30    Medium      2\n",
              "3  0.08  0.08  0.08  0.98  0.24       Low      1\n",
              "4  0.09  0.15  0.40  0.10  0.66    Medium      2"
            ],
            "text/html": [
              "\n",
              "  <div id=\"df-02d9e6da-e789-4ccd-a713-54ec56d6e6ac\">\n",
              "    <div class=\"colab-df-container\">\n",
              "      <div>\n",
              "<style scoped>\n",
              "    .dataframe tbody tr th:only-of-type {\n",
              "        vertical-align: middle;\n",
              "    }\n",
              "\n",
              "    .dataframe tbody tr th {\n",
              "        vertical-align: top;\n",
              "    }\n",
              "\n",
              "    .dataframe thead th {\n",
              "        text-align: right;\n",
              "    }\n",
              "</style>\n",
              "<table border=\"1\" class=\"dataframe\">\n",
              "  <thead>\n",
              "    <tr style=\"text-align: right;\">\n",
              "      <th></th>\n",
              "      <th>STG</th>\n",
              "      <th>SCG</th>\n",
              "      <th>STR</th>\n",
              "      <th>LPR</th>\n",
              "      <th>PEG</th>\n",
              "      <th>UNS</th>\n",
              "      <th>UNS_N</th>\n",
              "    </tr>\n",
              "  </thead>\n",
              "  <tbody>\n",
              "    <tr>\n",
              "      <th>0</th>\n",
              "      <td>0.00</td>\n",
              "      <td>0.00</td>\n",
              "      <td>0.00</td>\n",
              "      <td>0.00</td>\n",
              "      <td>0.00</td>\n",
              "      <td>Very Low</td>\n",
              "      <td>3</td>\n",
              "    </tr>\n",
              "    <tr>\n",
              "      <th>1</th>\n",
              "      <td>0.08</td>\n",
              "      <td>0.08</td>\n",
              "      <td>0.10</td>\n",
              "      <td>0.24</td>\n",
              "      <td>0.90</td>\n",
              "      <td>High</td>\n",
              "      <td>0</td>\n",
              "    </tr>\n",
              "    <tr>\n",
              "      <th>2</th>\n",
              "      <td>0.10</td>\n",
              "      <td>0.10</td>\n",
              "      <td>0.15</td>\n",
              "      <td>0.65</td>\n",
              "      <td>0.30</td>\n",
              "      <td>Medium</td>\n",
              "      <td>2</td>\n",
              "    </tr>\n",
              "    <tr>\n",
              "      <th>3</th>\n",
              "      <td>0.08</td>\n",
              "      <td>0.08</td>\n",
              "      <td>0.08</td>\n",
              "      <td>0.98</td>\n",
              "      <td>0.24</td>\n",
              "      <td>Low</td>\n",
              "      <td>1</td>\n",
              "    </tr>\n",
              "    <tr>\n",
              "      <th>4</th>\n",
              "      <td>0.09</td>\n",
              "      <td>0.15</td>\n",
              "      <td>0.40</td>\n",
              "      <td>0.10</td>\n",
              "      <td>0.66</td>\n",
              "      <td>Medium</td>\n",
              "      <td>2</td>\n",
              "    </tr>\n",
              "  </tbody>\n",
              "</table>\n",
              "</div>\n",
              "      <button class=\"colab-df-convert\" onclick=\"convertToInteractive('df-02d9e6da-e789-4ccd-a713-54ec56d6e6ac')\"\n",
              "              title=\"Convert this dataframe to an interactive table.\"\n",
              "              style=\"display:none;\">\n",
              "        \n",
              "  <svg xmlns=\"http://www.w3.org/2000/svg\" height=\"24px\"viewBox=\"0 0 24 24\"\n",
              "       width=\"24px\">\n",
              "    <path d=\"M0 0h24v24H0V0z\" fill=\"none\"/>\n",
              "    <path d=\"M18.56 5.44l.94 2.06.94-2.06 2.06-.94-2.06-.94-.94-2.06-.94 2.06-2.06.94zm-11 1L8.5 8.5l.94-2.06 2.06-.94-2.06-.94L8.5 2.5l-.94 2.06-2.06.94zm10 10l.94 2.06.94-2.06 2.06-.94-2.06-.94-.94-2.06-.94 2.06-2.06.94z\"/><path d=\"M17.41 7.96l-1.37-1.37c-.4-.4-.92-.59-1.43-.59-.52 0-1.04.2-1.43.59L10.3 9.45l-7.72 7.72c-.78.78-.78 2.05 0 2.83L4 21.41c.39.39.9.59 1.41.59.51 0 1.02-.2 1.41-.59l7.78-7.78 2.81-2.81c.8-.78.8-2.07 0-2.86zM5.41 20L4 18.59l7.72-7.72 1.47 1.35L5.41 20z\"/>\n",
              "  </svg>\n",
              "      </button>\n",
              "      \n",
              "  <style>\n",
              "    .colab-df-container {\n",
              "      display:flex;\n",
              "      flex-wrap:wrap;\n",
              "      gap: 12px;\n",
              "    }\n",
              "\n",
              "    .colab-df-convert {\n",
              "      background-color: #E8F0FE;\n",
              "      border: none;\n",
              "      border-radius: 50%;\n",
              "      cursor: pointer;\n",
              "      display: none;\n",
              "      fill: #1967D2;\n",
              "      height: 32px;\n",
              "      padding: 0 0 0 0;\n",
              "      width: 32px;\n",
              "    }\n",
              "\n",
              "    .colab-df-convert:hover {\n",
              "      background-color: #E2EBFA;\n",
              "      box-shadow: 0px 1px 2px rgba(60, 64, 67, 0.3), 0px 1px 3px 1px rgba(60, 64, 67, 0.15);\n",
              "      fill: #174EA6;\n",
              "    }\n",
              "\n",
              "    [theme=dark] .colab-df-convert {\n",
              "      background-color: #3B4455;\n",
              "      fill: #D2E3FC;\n",
              "    }\n",
              "\n",
              "    [theme=dark] .colab-df-convert:hover {\n",
              "      background-color: #434B5C;\n",
              "      box-shadow: 0px 1px 3px 1px rgba(0, 0, 0, 0.15);\n",
              "      filter: drop-shadow(0px 1px 2px rgba(0, 0, 0, 0.3));\n",
              "      fill: #FFFFFF;\n",
              "    }\n",
              "  </style>\n",
              "\n",
              "      <script>\n",
              "        const buttonEl =\n",
              "          document.querySelector('#df-02d9e6da-e789-4ccd-a713-54ec56d6e6ac button.colab-df-convert');\n",
              "        buttonEl.style.display =\n",
              "          google.colab.kernel.accessAllowed ? 'block' : 'none';\n",
              "\n",
              "        async function convertToInteractive(key) {\n",
              "          const element = document.querySelector('#df-02d9e6da-e789-4ccd-a713-54ec56d6e6ac');\n",
              "          const dataTable =\n",
              "            await google.colab.kernel.invokeFunction('convertToInteractive',\n",
              "                                                     [key], {});\n",
              "          if (!dataTable) return;\n",
              "\n",
              "          const docLinkHtml = 'Like what you see? Visit the ' +\n",
              "            '<a target=\"_blank\" href=https://colab.research.google.com/notebooks/data_table.ipynb>data table notebook</a>'\n",
              "            + ' to learn more about interactive tables.';\n",
              "          element.innerHTML = '';\n",
              "          dataTable['output_type'] = 'display_data';\n",
              "          await google.colab.output.renderOutput(dataTable, element);\n",
              "          const docLink = document.createElement('div');\n",
              "          docLink.innerHTML = docLinkHtml;\n",
              "          element.appendChild(docLink);\n",
              "        }\n",
              "      </script>\n",
              "    </div>\n",
              "  </div>\n",
              "  "
            ]
          },
          "metadata": {},
          "execution_count": 2
        }
      ],
      "source": [
        "import pandas as pd\n",
        "import matplotlib.pyplot as plt\n",
        " \n",
        "data_plot = pd.read_csv('/content/DUMD_train_New.csv')\n",
        "data_plot.head()"
      ]
    },
    {
      "cell_type": "code",
      "execution_count": 3,
      "id": "b5d1086a",
      "metadata": {
        "scrolled": true,
        "colab": {
          "base_uri": "https://localhost:8080/",
          "height": 279
        },
        "id": "b5d1086a",
        "outputId": "93a4d3a4-b065-4791-88f1-6b93714c7a92"
      },
      "outputs": [
        {
          "output_type": "display_data",
          "data": {
            "text/plain": [
              "<Figure size 432x288 with 1 Axes>"
            ],
            "image/png": "[encoded data removed]"
          },
          "metadata": {
            "needs_background": "light"
          }
        }
      ],
      "source": [
        "plt.scatter(data_plot['LPR'][ data_plot.UNS_N == 0],\n",
        "            data_plot['PEG'][ data_plot.UNS_N == 0],\n",
        "           marker='D',\n",
        "           color='red',\n",
        "           label='High')\n",
        "plt.scatter(data_plot['LPR'][data_plot.UNS_N == 1],\n",
        "            data_plot['PEG'][data_plot.UNS_N == 1],\n",
        "           marker='o',\n",
        "           color='blue',\n",
        "           label='Low')\n",
        "plt.scatter(data_plot['LPR'][data_plot.UNS_N == 2],\n",
        "            data_plot['PEG'][data_plot.UNS_N == 2],\n",
        "           marker='o',\n",
        "           color='green',\n",
        "           label='Medium')\n",
        "plt.scatter(data_plot['LPR'][data_plot.UNS_N == 3],\n",
        "            data_plot['PEG'][data_plot.UNS_N == 3],\n",
        "           marker='o',\n",
        "           color='orange',\n",
        "           label='Very Low')\n",
        "plt.xlabel('LPR')\n",
        "plt.ylabel('PEG')\n",
        "plt.legend()\n",
        "plt.show()"
      ]
    },
    {
      "cell_type": "markdown",
      "id": "a670b9af",
      "metadata": {
        "id": "a670b9af"
      },
      "source": [
        "# Question 1(c): Classify testing data by using SVM and Perceptron classifiers. Provide accuracies, confusion matrix and decision boundaries for both classifier"
      ]
    },
    {
      "cell_type": "markdown",
      "id": "d229eb79",
      "metadata": {
        "id": "d229eb79"
      },
      "source": [
        "References:\n",
        "   \n",
        "https://pub.towardsai.net/support-vector-machine-svm-for-binary-and-multiclass-classification-hands-on-with-scikit-learn-29cdbe5cb90e\n"
      ]
    },
    {
      "cell_type": "code",
      "execution_count": 4,
      "id": "96cc90d8",
      "metadata": {
        "id": "96cc90d8"
      },
      "outputs": [],
      "source": [
        "import pandas as pd\n",
        "import numpy as np\n",
        "import matplotlib.pyplot as plt"
      ]
    },
    {
      "cell_type": "code",
      "execution_count": 5,
      "id": "239d27b5",
      "metadata": {
        "colab": {
          "base_uri": "https://localhost:8080/",
          "height": 206
        },
        "id": "239d27b5",
        "outputId": "7fa11228-7560-4030-d3a8-f4ff44a96cf6"
      },
      "outputs": [
        {
          "output_type": "execute_result",
          "data": {
            "text/plain": [
              "    STG   SCG   STR   LPR   PEG       UNS  UNS_N\n",
              "0  0.00  0.00  0.00  0.00  0.00  Very Low      3\n",
              "1  0.08  0.08  0.10  0.24  0.90      High      0\n",
              "2  0.10  0.10  0.15  0.65  0.30    Medium      2\n",
              "3  0.08  0.08  0.08  0.98  0.24       Low      1\n",
              "4  0.09  0.15  0.40  0.10  0.66    Medium      2"
            ],
            "text/html": [
              "\n",
              "  <div id=\"df-4b7daa90-0812-4527-b6b2-de865f0118a3\">\n",
              "    <div class=\"colab-df-container\">\n",
              "      <div>\n",
              "<style scoped>\n",
              "    .dataframe tbody tr th:only-of-type {\n",
              "        vertical-align: middle;\n",
              "    }\n",
              "\n",
              "    .dataframe tbody tr th {\n",
              "        vertical-align: top;\n",
              "    }\n",
              "\n",
              "    .dataframe thead th {\n",
              "        text-align: right;\n",
              "    }\n",
              "</style>\n",
              "<table border=\"1\" class=\"dataframe\">\n",
              "  <thead>\n",
              "    <tr style=\"text-align: right;\">\n",
              "      <th></th>\n",
              "      <th>STG</th>\n",
              "      <th>SCG</th>\n",
              "      <th>STR</th>\n",
              "      <th>LPR</th>\n",
              "      <th>PEG</th>\n",
              "      <th>UNS</th>\n",
              "      <th>UNS_N</th>\n",
              "    </tr>\n",
              "  </thead>\n",
              "  <tbody>\n",
              "    <tr>\n",
              "      <th>0</th>\n",
              "      <td>0.00</td>\n",
              "      <td>0.00</td>\n",
              "      <td>0.00</td>\n",
              "      <td>0.00</td>\n",
              "      <td>0.00</td>\n",
              "      <td>Very Low</td>\n",
              "      <td>3</td>\n",
              "    </tr>\n",
              "    <tr>\n",
              "      <th>1</th>\n",
              "      <td>0.08</td>\n",
              "      <td>0.08</td>\n",
              "      <td>0.10</td>\n",
              "      <td>0.24</td>\n",
              "      <td>0.90</td>\n",
              "      <td>High</td>\n",
              "      <td>0</td>\n",
              "    </tr>\n",
              "    <tr>\n",
              "      <th>2</th>\n",
              "      <td>0.10</td>\n",
              "      <td>0.10</td>\n",
              "      <td>0.15</td>\n",
              "      <td>0.65</td>\n",
              "      <td>0.30</td>\n",
              "      <td>Medium</td>\n",
              "      <td>2</td>\n",
              "    </tr>\n",
              "    <tr>\n",
              "      <th>3</th>\n",
              "      <td>0.08</td>\n",
              "      <td>0.08</td>\n",
              "      <td>0.08</td>\n",
              "      <td>0.98</td>\n",
              "      <td>0.24</td>\n",
              "      <td>Low</td>\n",
              "      <td>1</td>\n",
              "    </tr>\n",
              "    <tr>\n",
              "      <th>4</th>\n",
              "      <td>0.09</td>\n",
              "      <td>0.15</td>\n",
              "      <td>0.40</td>\n",
              "      <td>0.10</td>\n",
              "      <td>0.66</td>\n",
              "      <td>Medium</td>\n",
              "      <td>2</td>\n",
              "    </tr>\n",
              "  </tbody>\n",
              "</table>\n",
              "</div>\n",
              "      <button class=\"colab-df-convert\" onclick=\"convertToInteractive('df-4b7daa90-0812-4527-b6b2-de865f0118a3')\"\n",
              "              title=\"Convert this dataframe to an interactive table.\"\n",
              "              style=\"display:none;\">\n",
              "        \n",
              "  <svg xmlns=\"http://www.w3.org/2000/svg\" height=\"24px\"viewBox=\"0 0 24 24\"\n",
              "       width=\"24px\">\n",
              "    <path d=\"M0 0h24v24H0V0z\" fill=\"none\"/>\n",
              "    <path d=\"M18.56 5.44l.94 2.06.94-2.06 2.06-.94-2.06-.94-.94-2.06-.94 2.06-2.06.94zm-11 1L8.5 8.5l.94-2.06 2.06-.94-2.06-.94L8.5 2.5l-.94 2.06-2.06.94zm10 10l.94 2.06.94-2.06 2.06-.94-2.06-.94-.94-2.06-.94 2.06-2.06.94z\"/><path d=\"M17.41 7.96l-1.37-1.37c-.4-.4-.92-.59-1.43-.59-.52 0-1.04.2-1.43.59L10.3 9.45l-7.72 7.72c-.78.78-.78 2.05 0 2.83L4 21.41c.39.39.9.59 1.41.59.51 0 1.02-.2 1.41-.59l7.78-7.78 2.81-2.81c.8-.78.8-2.07 0-2.86zM5.41 20L4 18.59l7.72-7.72 1.47 1.35L5.41 20z\"/>\n",
              "  </svg>\n",
              "      </button>\n",
              "      \n",
              "  <style>\n",
              "    .colab-df-container {\n",
              "      display:flex;\n",
              "      flex-wrap:wrap;\n",
              "      gap: 12px;\n",
              "    }\n",
              "\n",
              "    .colab-df-convert {\n",
              "      background-color: #E8F0FE;\n",
              "      border: none;\n",
              "      border-radius: 50%;\n",
              "      cursor: pointer;\n",
              "      display: none;\n",
              "      fill: #1967D2;\n",
              "      height: 32px;\n",
              "      padding: 0 0 0 0;\n",
              "      width: 32px;\n",
              "    }\n",
              "\n",
              "    .colab-df-convert:hover {\n",
              "      background-color: #E2EBFA;\n",
              "      box-shadow: 0px 1px 2px rgba(60, 64, 67, 0.3), 0px 1px 3px 1px rgba(60, 64, 67, 0.15);\n",
              "      fill: #174EA6;\n",
              "    }\n",
              "\n",
              "    [theme=dark] .colab-df-convert {\n",
              "      background-color: #3B4455;\n",
              "      fill: #D2E3FC;\n",
              "    }\n",
              "\n",
              "    [theme=dark] .colab-df-convert:hover {\n",
              "      background-color: #434B5C;\n",
              "      box-shadow: 0px 1px 3px 1px rgba(0, 0, 0, 0.15);\n",
              "      filter: drop-shadow(0px 1px 2px rgba(0, 0, 0, 0.3));\n",
              "      fill: #FFFFFF;\n",
              "    }\n",
              "  </style>\n",
              "\n",
              "      <script>\n",
              "        const buttonEl =\n",
              "          document.querySelector('#df-4b7daa90-0812-4527-b6b2-de865f0118a3 button.colab-df-convert');\n",
              "        buttonEl.style.display =\n",
              "          google.colab.kernel.accessAllowed ? 'block' : 'none';\n",
              "\n",
              "        async function convertToInteractive(key) {\n",
              "          const element = document.querySelector('#df-4b7daa90-0812-4527-b6b2-de865f0118a3');\n",
              "          const dataTable =\n",
              "            await google.colab.kernel.invokeFunction('convertToInteractive',\n",
              "                                                     [key], {});\n",
              "          if (!dataTable) return;\n",
              "\n",
              "          const docLinkHtml = 'Like what you see? Visit the ' +\n",
              "            '<a target=\"_blank\" href=https://colab.research.google.com/notebooks/data_table.ipynb>data table notebook</a>'\n",
              "            + ' to learn more about interactive tables.';\n",
              "          element.innerHTML = '';\n",
              "          dataTable['output_type'] = 'display_data';\n",
              "          await google.colab.output.renderOutput(dataTable, element);\n",
              "          const docLink = document.createElement('div');\n",
              "          docLink.innerHTML = docLinkHtml;\n",
              "          element.appendChild(docLink);\n",
              "        }\n",
              "      </script>\n",
              "    </div>\n",
              "  </div>\n",
              "  "
            ]
          },
          "metadata": {},
          "execution_count": 5
        }
      ],
      "source": [
        "svm_train_data = pd.read_csv(\"/content/DUMD_train_New.csv\")\n",
        "svm_train_data.head()"
      ]
    },
    {
      "cell_type": "code",
      "execution_count": 6,
      "id": "cc759005",
      "metadata": {
        "colab": {
          "base_uri": "https://localhost:8080/",
          "height": 206
        },
        "id": "cc759005",
        "outputId": "5b2b8e99-db6f-4b52-8b35-fc289babbf69"
      },
      "outputs": [
        {
          "output_type": "execute_result",
          "data": {
            "text/plain": [
              "     STG    SCG    STR   LPR   PEG       UNS  UNS_N\n",
              "0  0.420  0.290  0.140  0.03  0.68    Medium      2\n",
              "1  0.100  0.100  0.520  0.78  0.34    Medium      2\n",
              "2  0.510  0.255  0.550  0.17  0.64    Medium      2\n",
              "3  0.250  0.540  0.310  0.25  0.08  Very Low      3\n",
              "4  0.258  0.250  0.295  0.33  0.77      High      0"
            ],
            "text/html": [
              "\n",
              "  <div id=\"df-1e2788d3-1da2-47a5-b7dc-e548059435e8\">\n",
              "    <div class=\"colab-df-container\">\n",
              "      <div>\n",
              "<style scoped>\n",
              "    .dataframe tbody tr th:only-of-type {\n",
              "        vertical-align: middle;\n",
              "    }\n",
              "\n",
              "    .dataframe tbody tr th {\n",
              "        vertical-align: top;\n",
              "    }\n",
              "\n",
              "    .dataframe thead th {\n",
              "        text-align: right;\n",
              "    }\n",
              "</style>\n",
              "<table border=\"1\" class=\"dataframe\">\n",
              "  <thead>\n",
              "    <tr style=\"text-align: right;\">\n",
              "      <th></th>\n",
              "      <th>STG</th>\n",
              "      <th>SCG</th>\n",
              "      <th>STR</th>\n",
              "      <th>LPR</th>\n",
              "      <th>PEG</th>\n",
              "      <th>UNS</th>\n",
              "      <th>UNS_N</th>\n",
              "    </tr>\n",
              "  </thead>\n",
              "  <tbody>\n",
              "    <tr>\n",
              "      <th>0</th>\n",
              "      <td>0.420</td>\n",
              "      <td>0.290</td>\n",
              "      <td>0.140</td>\n",
              "      <td>0.03</td>\n",
              "      <td>0.68</td>\n",
              "      <td>Medium</td>\n",
              "      <td>2</td>\n",
              "    </tr>\n",
              "    <tr>\n",
              "      <th>1</th>\n",
              "      <td>0.100</td>\n",
              "      <td>0.100</td>\n",
              "      <td>0.520</td>\n",
              "      <td>0.78</td>\n",
              "      <td>0.34</td>\n",
              "      <td>Medium</td>\n",
              "      <td>2</td>\n",
              "    </tr>\n",
              "    <tr>\n",
              "      <th>2</th>\n",
              "      <td>0.510</td>\n",
              "      <td>0.255</td>\n",
              "      <td>0.550</td>\n",
              "      <td>0.17</td>\n",
              "      <td>0.64</td>\n",
              "      <td>Medium</td>\n",
              "      <td>2</td>\n",
              "    </tr>\n",
              "    <tr>\n",
              "      <th>3</th>\n",
              "      <td>0.250</td>\n",
              "      <td>0.540</td>\n",
              "      <td>0.310</td>\n",
              "      <td>0.25</td>\n",
              "      <td>0.08</td>\n",
              "      <td>Very Low</td>\n",
              "      <td>3</td>\n",
              "    </tr>\n",
              "    <tr>\n",
              "      <th>4</th>\n",
              "      <td>0.258</td>\n",
              "      <td>0.250</td>\n",
              "      <td>0.295</td>\n",
              "      <td>0.33</td>\n",
              "      <td>0.77</td>\n",
              "      <td>High</td>\n",
              "      <td>0</td>\n",
              "    </tr>\n",
              "  </tbody>\n",
              "</table>\n",
              "</div>\n",
              "      <button class=\"colab-df-convert\" onclick=\"convertToInteractive('df-1e2788d3-1da2-47a5-b7dc-e548059435e8')\"\n",
              "              title=\"Convert this dataframe to an interactive table.\"\n",
              "              style=\"display:none;\">\n",
              "        \n",
              "  <svg xmlns=\"http://www.w3.org/2000/svg\" height=\"24px\"viewBox=\"0 0 24 24\"\n",
              "       width=\"24px\">\n",
              "    <path d=\"M0 0h24v24H0V0z\" fill=\"none\"/>\n",
              "    <path d=\"M18.56 5.44l.94 2.06.94-2.06 2.06-.94-2.06-.94-.94-2.06-.94 2.06-2.06.94zm-11 1L8.5 8.5l.94-2.06 2.06-.94-2.06-.94L8.5 2.5l-.94 2.06-2.06.94zm10 10l.94 2.06.94-2.06 2.06-.94-2.06-.94-.94-2.06-.94 2.06-2.06.94z\"/><path d=\"M17.41 7.96l-1.37-1.37c-.4-.4-.92-.59-1.43-.59-.52 0-1.04.2-1.43.59L10.3 9.45l-7.72 7.72c-.78.78-.78 2.05 0 2.83L4 21.41c.39.39.9.59 1.41.59.51 0 1.02-.2 1.41-.59l7.78-7.78 2.81-2.81c.8-.78.8-2.07 0-2.86zM5.41 20L4 18.59l7.72-7.72 1.47 1.35L5.41 20z\"/>\n",
              "  </svg>\n",
              "      </button>\n",
              "      \n",
              "  <style>\n",
              "    .colab-df-container {\n",
              "      display:flex;\n",
              "      flex-wrap:wrap;\n",
              "      gap: 12px;\n",
              "    }\n",
              "\n",
              "    .colab-df-convert {\n",
              "      background-color: #E8F0FE;\n",
              "      border: none;\n",
              "      border-radius: 50%;\n",
              "      cursor: pointer;\n",
              "      display: none;\n",
              "      fill: #1967D2;\n",
              "      height: 32px;\n",
              "      padding: 0 0 0 0;\n",
              "      width: 32px;\n",
              "    }\n",
              "\n",
              "    .colab-df-convert:hover {\n",
              "      background-color: #E2EBFA;\n",
              "      box-shadow: 0px 1px 2px rgba(60, 64, 67, 0.3), 0px 1px 3px 1px rgba(60, 64, 67, 0.15);\n",
              "      fill: #174EA6;\n",
              "    }\n",
              "\n",
              "    [theme=dark] .colab-df-convert {\n",
              "      background-color: #3B4455;\n",
              "      fill: #D2E3FC;\n",
              "    }\n",
              "\n",
              "    [theme=dark] .colab-df-convert:hover {\n",
              "      background-color: #434B5C;\n",
              "      box-shadow: 0px 1px 3px 1px rgba(0, 0, 0, 0.15);\n",
              "      filter: drop-shadow(0px 1px 2px rgba(0, 0, 0, 0.3));\n",
              "      fill: #FFFFFF;\n",
              "    }\n",
              "  </style>\n",
              "\n",
              "      <script>\n",
              "        const buttonEl =\n",
              "          document.querySelector('#df-1e2788d3-1da2-47a5-b7dc-e548059435e8 button.colab-df-convert');\n",
              "        buttonEl.style.display =\n",
              "          google.colab.kernel.accessAllowed ? 'block' : 'none';\n",
              "\n",
              "        async function convertToInteractive(key) {\n",
              "          const element = document.querySelector('#df-1e2788d3-1da2-47a5-b7dc-e548059435e8');\n",
              "          const dataTable =\n",
              "            await google.colab.kernel.invokeFunction('convertToInteractive',\n",
              "                                                     [key], {});\n",
              "          if (!dataTable) return;\n",
              "\n",
              "          const docLinkHtml = 'Like what you see? Visit the ' +\n",
              "            '<a target=\"_blank\" href=https://colab.research.google.com/notebooks/data_table.ipynb>data table notebook</a>'\n",
              "            + ' to learn more about interactive tables.';\n",
              "          element.innerHTML = '';\n",
              "          dataTable['output_type'] = 'display_data';\n",
              "          await google.colab.output.renderOutput(dataTable, element);\n",
              "          const docLink = document.createElement('div');\n",
              "          docLink.innerHTML = docLinkHtml;\n",
              "          element.appendChild(docLink);\n",
              "        }\n",
              "      </script>\n",
              "    </div>\n",
              "  </div>\n",
              "  "
            ]
          },
          "metadata": {},
          "execution_count": 6
        }
      ],
      "source": [
        "svm_test_data = pd.read_csv(\"/content/DUMD_test_New.csv\")\n",
        "svm_test_data.head()"
      ]
    },
    {
      "cell_type": "code",
      "execution_count": 7,
      "id": "5e0a2b25",
      "metadata": {
        "colab": {
          "base_uri": "https://localhost:8080/"
        },
        "id": "5e0a2b25",
        "outputId": "77b50665-d508-4490-fbd9-2133cab5e0b3"
      },
      "outputs": [
        {
          "output_type": "execute_result",
          "data": {
            "text/plain": [
              "1    103\n",
              "2    100\n",
              "0     81\n",
              "3     39\n",
              "Name: UNS_N, dtype: int64"
            ]
          },
          "metadata": {},
          "execution_count": 7
        }
      ],
      "source": [
        "svm_train_data['UNS_N'].value_counts()"
      ]
    },
    {
      "cell_type": "code",
      "execution_count": 8,
      "id": "be7114fd",
      "metadata": {
        "id": "be7114fd"
      },
      "outputs": [],
      "source": [
        "high_df = svm_train_data[svm_train_data['UNS_N']==0][0:200]\n",
        "low_df = svm_train_data[svm_train_data['UNS_N']==1][0:200]\n",
        "medium_df = svm_train_data[svm_train_data['UNS_N']==2][0:200]\n",
        "verylow_df = svm_train_data[svm_train_data['UNS_N']==3][0:200]"
      ]
    },
    {
      "cell_type": "code",
      "execution_count": 9,
      "id": "f9cc2d35",
      "metadata": {
        "colab": {
          "base_uri": "https://localhost:8080/",
          "height": 297
        },
        "id": "f9cc2d35",
        "outputId": "a9b52a4a-1be0-49b3-b5f1-6396e76123a4"
      },
      "outputs": [
        {
          "output_type": "execute_result",
          "data": {
            "text/plain": [
              "<matplotlib.axes._subplots.AxesSubplot at 0x7fe33234bfd0>"
            ]
          },
          "metadata": {},
          "execution_count": 9
        },
        {
          "output_type": "display_data",
          "data": {
            "text/plain": [
              "<Figure size 432x288 with 1 Axes>"
            ],
            "image/png": "[encoded data removed]"
          },
          "metadata": {
            "needs_background": "light"
          }
        }
      ],
      "source": [
        "axes = high_df.plot(kind='scatter', x = 'LPR', y = 'PEG', color='red', label='high')\n",
        "low_df.plot(kind='scatter', x = 'LPR', y = 'PEG', color='green', label='low', ax = axes)\n",
        "medium_df.plot(kind='scatter', x = 'LPR', y = 'PEG', color='yellow', label='medium', ax = axes)\n",
        "verylow_df.plot(kind='scatter', x = 'LPR', y = 'PEG', color='blue', label='verylow', ax = axes)"
      ]
    },
    {
      "cell_type": "code",
      "execution_count": 10,
      "id": "acb36058",
      "metadata": {
        "id": "acb36058"
      },
      "outputs": [],
      "source": [
        "feature_df_train = svm_train_data[['LPR', 'PEG']]\n",
        "\n",
        "svm_train_x = np.array(feature_df_train)\n",
        "svm_train_y = np.array(svm_train_data['UNS_N'])\n",
        "\n",
        "feature_df_test = svm_test_data[['LPR', 'PEG']]\n",
        "\n",
        "svm_test_x = np.array(feature_df_test)\n",
        "svm_test_y = np.array(svm_test_data['UNS_N'])"
      ]
    },
    {
      "cell_type": "code",
      "execution_count": 11,
      "id": "b4445e02",
      "metadata": {
        "colab": {
          "base_uri": "https://localhost:8080/"
        },
        "id": "b4445e02",
        "outputId": "7f2fef2b-ec5a-4308-e938-6f58e60474fc"
      },
      "outputs": [
        {
          "output_type": "stream",
          "name": "stdout",
          "text": [
            "0.9625\n"
          ]
        }
      ],
      "source": [
        "from sklearn import svm\n",
        "\n",
        "classifier = svm.SVC(kernel='linear', C=10)\n",
        "classifier.fit(svm_train_x, svm_train_y)\n",
        "svm_y_predict = classifier.predict(svm_test_x)\n",
        "print(classifier.score(svm_test_x, svm_test_y))"
      ]
    },
    {
      "cell_type": "code",
      "execution_count": 12,
      "id": "552d6351",
      "metadata": {
        "colab": {
          "base_uri": "https://localhost:8080/",
          "height": 567
        },
        "id": "552d6351",
        "outputId": "a9035462-00a6-4498-d75c-a4b4ba0eba85"
      },
      "outputs": [
        {
          "output_type": "stream",
          "name": "stdout",
          "text": [
            "              precision    recall  f1-score   support\n",
            "\n",
            "           0       1.00      1.00      1.00        21\n",
            "           1       0.90      1.00      0.95        26\n",
            "           2       1.00      1.00      1.00        22\n",
            "           3       1.00      0.73      0.84        11\n",
            "\n",
            "    accuracy                           0.96        80\n",
            "   macro avg       0.97      0.93      0.95        80\n",
            "weighted avg       0.97      0.96      0.96        80\n",
            "\n",
            "[[21  0  0  0]\n",
            " [ 0 26  0  0]\n",
            " [ 0  0 22  0]\n",
            " [ 0  3  0  8]]\n"
          ]
        },
        {
          "output_type": "display_data",
          "data": {
            "text/plain": [
              "<Figure size 432x288 with 2 Axes>"
            ],
            "image/png": "[encoded data removed]"
          },
          "metadata": {
            "needs_background": "light"
          }
        }
      ],
      "source": [
        "from sklearn.metrics import classification_report, ConfusionMatrixDisplay, accuracy_score, confusion_matrix\n",
        "import seaborn as sns # for plotting.\n",
        "\n",
        "print(classification_report(svm_test_y, svm_y_predict))\n",
        "print(confusion_matrix(svm_test_y, svm_y_predict))\n",
        "\n",
        "ax= plt.subplot()\n",
        "# predict_results = model.predict(normed_test_data)\n",
        "\n",
        "cm = confusion_matrix(svm_test_y, svm_y_predict)\n",
        "\n",
        "sns.heatmap(cm, annot=True, ax = ax); #annot=True to annotate cells\n",
        "\n",
        "# labels, title and ticks\n",
        "ax.set_xlabel('Predicted labels');ax.set_ylabel('True labels'); \n",
        "ax.set_title('Confusion Matrix'); \n",
        "# ax.xaxis.set_ticklabels(['Positive', 'Negative']); ax.yaxis.set_ticklabels(['Positive', 'Negative']);"
      ]
    },
    {
      "cell_type": "code",
      "execution_count": 13,
      "id": "2e77a287",
      "metadata": {
        "colab": {
          "base_uri": "https://localhost:8080/"
        },
        "id": "2e77a287",
        "outputId": "427e4304-4bd0-42bc-a1ca-69f4d6c115c1"
      },
      "outputs": [
        {
          "output_type": "stream",
          "name": "stdout",
          "text": [
            "Accuracy of model: 96.25%\n"
          ]
        }
      ],
      "source": [
        "def getAccuracy(model, x, y):\n",
        "    return model.score(x,y)*100\n",
        "\n",
        "print('Accuracy of model: {:.2f}%'.format(getAccuracy(classifier, svm_test_x, svm_test_y)))"
      ]
    },
    {
      "cell_type": "code",
      "execution_count": 23,
      "id": "6635b569",
      "metadata": {
        "colab": {
          "base_uri": "https://localhost:8080/",
          "height": 339
        },
        "id": "6635b569",
        "outputId": "0f3b5191-b43c-43a8-f6a9-4b408fca96ff"
      },
      "outputs": [
        {
          "output_type": "stream",
          "name": "stderr",
          "text": [
            "/usr/local/lib/python3.7/dist-packages/mlxtend/plotting/decision_regions.py:244: MatplotlibDeprecationWarning: Passing unsupported keyword arguments to axis() will raise a TypeError in 3.3.\n",
            "  ax.axis(xmin=xx.min(), xmax=xx.max(), y_min=yy.min(), y_max=yy.max())\n"
          ]
        },
        {
          "output_type": "execute_result",
          "data": {
            "text/plain": [
              "<matplotlib.axes._subplots.AxesSubplot at 0x7fe321bce210>"
            ]
          },
          "metadata": {},
          "execution_count": 23
        },
        {
          "output_type": "display_data",
          "data": {
            "text/plain": [
              "<Figure size 432x288 with 1 Axes>"
            ],
            "image/png": "[encoded data removed]"
          },
          "metadata": {
            "needs_background": "light"
          }
        }
      ],
      "source": [
        "from mlxtend.plotting import plot_decision_regions\n",
        "plot_decision_regions(svm_test_x, svm_test_y, classifier)"
      ]
    },
    {
      "cell_type": "code",
      "execution_count": 29,
      "id": "59a8252d",
      "metadata": {
        "colab": {
          "base_uri": "https://localhost:8080/"
        },
        "id": "59a8252d",
        "outputId": "8880fb38-b1a8-4306-d25f-87ccfccc75e9"
      },
      "outputs": [
        {
          "output_type": "stream",
          "name": "stdout",
          "text": [
            "0.7375\n"
          ]
        }
      ],
      "source": [
        "from sklearn.linear_model import Perceptron\n",
        "p = Perceptron(random_state=1)\n",
        "p.fit(svm_train_x, svm_train_y)\n",
        "\n",
        "per_y_predict = p.predict(svm_test_x)\n",
        "print(p.score(svm_test_x, svm_test_y))"
      ]
    },
    {
      "cell_type": "code",
      "source": [
        "print(classification_report(svm_test_y, per_y_predict))\n",
        "print(confusion_matrix(svm_test_y, per_y_predict))\n",
        "\n",
        "axp = plt.subplot()\n",
        "# predict_results = model.predict(normed_test_data)\n",
        "\n",
        "cm = confusion_matrix(svm_test_y, per_y_predict)\n",
        "\n",
        "sns.heatmap(cm, annot=True, ax = axp); #annot=True to annotate cells\n",
        "\n",
        "# labels, title and ticks\n",
        "axp.set_xlabel('Predicted labels');axp.set_ylabel('True labels'); \n",
        "axp.set_title('Confusion Matrix Perceptron'); \n",
        "# ax.xaxis.set_ticklabels(['Positive', 'Negative']); ax.yaxis.set_ticklabels(['Positive', 'Negative']);"
      ],
      "metadata": {
        "colab": {
          "base_uri": "https://localhost:8080/",
          "height": 567
        },
        "id": "4Qnc0KOT_nB6",
        "outputId": "e4f2a723-6d1f-4808-a4ba-784ce47d0f49"
      },
      "id": "4Qnc0KOT_nB6",
      "execution_count": 30,
      "outputs": [
        {
          "output_type": "stream",
          "name": "stdout",
          "text": [
            "              precision    recall  f1-score   support\n",
            "\n",
            "           0       0.84      1.00      0.91        21\n",
            "           1       0.71      0.58      0.64        26\n",
            "           2       0.80      0.55      0.65        22\n",
            "           3       0.58      1.00      0.73        11\n",
            "\n",
            "    accuracy                           0.74        80\n",
            "   macro avg       0.73      0.78      0.73        80\n",
            "weighted avg       0.75      0.74      0.73        80\n",
            "\n",
            "[[21  0  0  0]\n",
            " [ 0 15  3  8]\n",
            " [ 4  6 12  0]\n",
            " [ 0  0  0 11]]\n"
          ]
        },
        {
          "output_type": "display_data",
          "data": {
            "text/plain": [
              "<Figure size 432x288 with 2 Axes>"
            ],
            "image/png": "[encoded data removed]"
          },
          "metadata": {
            "needs_background": "light"
          }
        }
      ]
    },
    {
      "cell_type": "code",
      "source": [
        "print('Accuracy of model: {:.2f}%'.format(getAccuracy(p, svm_test_x, svm_test_y)))"
      ],
      "metadata": {
        "colab": {
          "base_uri": "https://localhost:8080/"
        },
        "id": "qie1d0U8_oG1",
        "outputId": "f6bce3c0-6c8d-4b5a-84b3-af05a372673a"
      },
      "id": "qie1d0U8_oG1",
      "execution_count": 31,
      "outputs": [
        {
          "output_type": "stream",
          "name": "stdout",
          "text": [
            "Accuracy of model: 73.75%\n"
          ]
        }
      ]
    },
    {
      "cell_type": "code",
      "source": [
        "from mlxtend.plotting import plot_decision_regions\n",
        "plot_decision_regions(svm_test_x, svm_test_y, p)"
      ],
      "metadata": {
        "colab": {
          "base_uri": "https://localhost:8080/",
          "height": 339
        },
        "id": "hfCVoMZf_vyo",
        "outputId": "20042351-dda0-4781-bad3-65e3319517b2"
      },
      "id": "hfCVoMZf_vyo",
      "execution_count": 32,
      "outputs": [
        {
          "output_type": "stream",
          "name": "stderr",
          "text": [
            "/usr/local/lib/python3.7/dist-packages/mlxtend/plotting/decision_regions.py:244: MatplotlibDeprecationWarning: Passing unsupported keyword arguments to axis() will raise a TypeError in 3.3.\n",
            "  ax.axis(xmin=xx.min(), xmax=xx.max(), y_min=yy.min(), y_max=yy.max())\n"
          ]
        },
        {
          "output_type": "execute_result",
          "data": {
            "text/plain": [
              "<matplotlib.axes._subplots.AxesSubplot at 0x7fe3218f5510>"
            ]
          },
          "metadata": {},
          "execution_count": 32
        },
        {
          "output_type": "display_data",
          "data": {
            "text/plain": [
              "<Figure size 432x288 with 1 Axes>"
            ],
            "image/png": "[encoded data removed]"
          },
          "metadata": {
            "needs_background": "light"
          }
        }
      ]
    }
  ],
  "metadata": {
    "kernelspec": {
      "display_name": "Python 3 (ipykernel)",
      "language": "python",
      "name": "python3"
    },
    "language_info": {
      "codemirror_mode": {
        "name": "ipython",
        "version": 3
      },
      "file_extension": ".py",
      "mimetype": "text/x-python",
      "name": "python",
      "nbconvert_exporter": "python",
      "pygments_lexer": "ipython3",
      "version": "3.9.7"
    },
    "colab": {
      "provenance": []
    }
  },
  "nbformat": 4,
  "nbformat_minor": 5
}