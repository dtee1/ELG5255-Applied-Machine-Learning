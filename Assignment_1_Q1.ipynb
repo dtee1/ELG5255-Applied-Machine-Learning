{
  "nbformat": 4,
  "nbformat_minor": 0,
  "metadata": {
    "colab": {
      "provenance": [],
      "collapsed_sections": [],
      "authorship_tag": "ABX9TyOfm5oql+wTTucv+fmGa/f5",
      "include_colab_link": true
    },
    "kernelspec": {
      "name": "python3",
      "display_name": "Python 3"
    },
    "language_info": {
      "name": "python"
    }
  },
  "cells": [
    {
      "cell_type": "markdown",
      "metadata": {
        "id": "view-in-github",
        "colab_type": "text"
      },
      "source": [
        "<a href=\"https://colab.research.google.com/github/dtee1/ELG5255-Applied-Machine-Learning/blob/main/Assignment_1_Q1.ipynb\" target=\"_parent\"><img src=\"https://colab.research.google.com/assets/colab-badge.svg\" alt=\"Open In Colab\"/></a>"
      ]
    },
    {
      "cell_type": "code",
      "execution_count": 1,
      "metadata": {
        "id": "_CCKJQ7xBwFl"
      },
      "outputs": [],
      "source": [
        "import pandas as pd\n",
        "import numpy as np\n",
        "import matplotlib.pyplot as plt\n",
        "from sklearn.preprocessing import LabelEncoder\n",
        "from sklearn import svm, datasets\n",
        "from sklearn.linear_model import Perceptron\n",
        "from sklearn.metrics import classification_report, ConfusionMatrixDisplay, accuracy_score, confusion_matrix\n",
        "from mlxtend.plotting import plot_decision_regions\n",
        "import seaborn as sns\n",
        "from sklearn.preprocessing import MultiLabelBinarizer\n",
        "import warnings"
      ]
    },
    {
      "cell_type": "code",
      "source": [
        "# Load the DUMD test and train dataset \n",
        "def loadDataset(): \n",
        "  dumd_test = pd.read_csv(\"DUMD_test.csv\")\n",
        "  dumd_train = pd.read_csv(\"DUMD_train.csv\")\n",
        "  return dumd_test, dumd_train"
      ],
      "metadata": {
        "id": "dAUBckdHK74T"
      },
      "execution_count": 2,
      "outputs": []
    },
    {
      "cell_type": "code",
      "source": [
        "# This function prepares the train and test dataset\n",
        "# Function input features specifies the features from the dataset to be returned \n",
        "# Categorical encoding is performed on the 'UNS' column using the following relation: 0 = high, 1 = medium, 2 = low, 3 = very low\n",
        "\n",
        "# Todo: Add input validation for features \n",
        "def produceDataset(features):\n",
        "\n",
        "  data_test, data_train = loadDataset()\n",
        "  labelEncoder = LabelEncoder()\n",
        "  data_train['UNS_N'] = labelEncoder.fit_transform(data_train['UNS'])\n",
        "  data_test['UNS_N'] = labelEncoder.fit_transform(data_test['UNS'])\n",
        "  X_test = data_test[features]\n",
        "  X_train = data_train[features]\n",
        "  y_test = data_test.UNS_N\n",
        "  y_train = data_train.UNS_N\n",
        "\n",
        "  return X_train, X_test, y_train, y_test, data_train"
      ],
      "metadata": {
        "id": "Hj-PdlhOK4Wc"
      },
      "execution_count": 3,
      "outputs": []
    },
    {
      "cell_type": "code",
      "source": [
        "# Plot the dataset using input features supplied to the function \n",
        "def plotData(data, feat_i, feat_j):\n",
        "  \n",
        "  plt.scatter(data[feat_i][data.UNS_N == 0], data[feat_j][data.UNS_N == 0], c='r', marker='o', label='High')\n",
        "  plt.scatter(data[feat_i][data.UNS_N == 1], data[feat_j][data.UNS_N == 1], c='b', marker='*', label='Medium')\n",
        "  plt.scatter(data[feat_i][data.UNS_N == 2], data[feat_j][data.UNS_N == 2], c='g', marker='+', label='Low')\n",
        "  plt.scatter(data[feat_i][data.UNS_N == 3], data[feat_j][data.UNS_N == 3], c='y', marker='d', label='Very low')\n",
        "  \n",
        "  Title = \"DUMD Dataset with 4 classes\"\n",
        "  plt.title(Title)\n",
        "  plt.xlabel('LPR')\n",
        "  plt.ylabel('PEG')\n",
        "  plt.legend(bbox_to_anchor =(1.25, 1))"
      ],
      "metadata": {
        "id": "CPXgSa76aeUR"
      },
      "execution_count": 4,
      "outputs": []
    },
    {
      "cell_type": "code",
      "source": [
        "def plotRegions(model, X):\n",
        "  x_min, x_max = X[:, 0].min() - 1, X[:, 0].max() + 1\n",
        "  y_min, y_max = X[:, 1].min() - 1, X[:, 1].max() + 1\n",
        "  XX, YY = np.meshgrid(np.arange(x_min, x_max, 0.01), np.arange(y_min, y_max, 0.01))\n",
        "\n",
        "  z = model.predict(np.c_[XX.ravel(), YY.ravel()])\n",
        "  ZZ = z.reshape(XX.shape)\n",
        "  plt.contourf(XX, YY, ZZ, alpha=0.2)"
      ],
      "metadata": {
        "id": "o9AC9AoDYMgl"
      },
      "execution_count": 5,
      "outputs": []
    },
    {
      "cell_type": "code",
      "source": [
        "def getAccuracy(model, x, y):\n",
        "    return model.score(x,y)*100"
      ],
      "metadata": {
        "id": "JughTuxM6CiL"
      },
      "execution_count": 6,
      "outputs": []
    },
    {
      "cell_type": "code",
      "source": [
        "# this function can be used to plot the decision boundary Copied from prof\n",
        "def plotDecisionBoundary( X, y, model, title=''):\n",
        "    plt.close('all')\n",
        "    plt.figure()\n",
        "    cm = plt.cm.Set1\n",
        "    x_min, x_max = X[:, 0].min() - .5, X[:, 0].max() + .5\n",
        "    y_min, y_max = X[:, 1].min() - .5, X[:, 1].max() + .5\n",
        "    h = 0.02\n",
        "    xx, yy = np.meshgrid(np.arange(x_min, x_max, h),\n",
        "                         np.arange(y_min, y_max, h))\n",
        "    Z = model.predict(np.c_[xx.ravel(), yy.ravel()])\n",
        "    Z = Z.reshape(xx.shape)\n",
        "    plt.contourf(xx, yy, Z, cmap=cm, alpha=.8)\n",
        "    plt.scatter(\n",
        "        X[:, 0],\n",
        "        X[:, 1],\n",
        "        c=y,\n",
        "        cmap=cm,\n",
        "        edgecolors='k',\n",
        "        alpha=1,\n",
        "    )\n",
        "    plt.title(title)"
      ],
      "metadata": {
        "id": "CTV_Pu026nP0"
      },
      "execution_count": 7,
      "outputs": []
    },
    {
      "cell_type": "code",
      "source": [
        "def main():\n",
        "\n",
        "  features = ['LPR','PEG']\n",
        "  categories = [0,1,2,3]\n",
        "  X_train, X_test, y_train, y_test, data_train = produceDataset(features)\n",
        "\n",
        "  model_svg = svm.SVC(kernel='linear', decision_function_shape='ovo', C=100)\n",
        "  model_svg.fit(X_train, y_train)\n",
        "\n",
        "  y_true_svg, y_pred_svg = y_test, model_svg.predict(X_test)\n",
        "\n",
        "  print('Accuracy of model_svg: {:.2f}%'.format(getAccuracy(model_svg, X_train, y_train)))\n",
        "\n",
        "  print('\\nConfusion Matrix using SVM:\\n')\n",
        "  print(confusion_matrix(y_test, y_pred_svg))\n",
        "  ConfusionMatrixDisplay.from_estimator(model_svg, X_test, y_pred_svg)\n",
        "  plt.show()\n",
        "  X_numpy = np.array(X_train)\n",
        "  y_numpy = np.array(y_train)\n",
        "\n",
        "\n",
        "  plotData(data_train, features[0], features[1])\n",
        "  #plot_decision_regions(X_numpy, y_numpy, model_svg)\n",
        "\n",
        "if __name__ == '__main__':\n",
        "    main()"
      ],
      "metadata": {
        "colab": {
          "base_uri": "https://localhost:8080/",
          "height": 700
        },
        "id": "faYvqV2ZLX4L",
        "outputId": "8484a8d3-244a-4970-f2d7-dc68a708728f"
      },
      "execution_count": 9,
      "outputs": [
        {
          "output_type": "stream",
          "name": "stdout",
          "text": [
            "Accuracy of model_svg: 96.28%\n",
            "\n",
            "Confusion Matrix using SVM:\n",
            "\n",
            "[[21  0  0  0]\n",
            " [ 0 26  0  0]\n",
            " [ 0  0 22  0]\n",
            " [ 0  0  0 11]]\n"
          ]
        },
        {
          "output_type": "display_data",
          "data": {
            "text/plain": [
              "<Figure size 432x288 with 2 Axes>"
            ],
            "image/png": "[encoded data removed]"
          },
          "metadata": {
            "needs_background": "light"
          }
        },
        {
          "output_type": "display_data",
          "data": {
            "text/plain": [
              "<Figure size 432x288 with 1 Axes>"
            ],
            "image/png": "[encoded data removed]"
          },
          "metadata": {
            "needs_background": "light"
          }
        }
      ]
    },
    {
      "cell_type": "code",
      "source": [
        "def main():\n",
        "  warnings.simplefilter('ignore')\n",
        "  features = ['LPR','PEG']\n",
        "  categories = [0,1,2,3]\n",
        "  X_train, X_test, y_train, y_test, data_train = produceDataset(features)\n",
        "\n",
        "  # Using Perceptron \n",
        "  model_percep = Perceptron(random_state=1)\n",
        "  model_percep.fit(X_train, y_train)\n",
        "\n",
        "  y_true_percep, y_pred_percep = y_test, model_percep.predict(X_test)\n",
        "  print('Accuracy of model_svg: {:.2f}%'.format(getAccuracy(model_percep, X_test, y_test)))\n",
        "\n",
        "  conf = confusion_matrix(y_test, y_pred_percep)\n",
        "  print('\\nConfusion Matrix using Perceptron:\\n')\n",
        "  print(conf)\n",
        "  sns.heatmap(conf, annot=True)\n",
        "  plt.title('Confusion Matrix')\n",
        "  plt.xlabel('Predicted values')\n",
        "  plt.ylabel('Actual Values')\n",
        "  plt.show()\n",
        "  X_numpy = np.array(X_train)\n",
        "  y_numpy = np.array(y_train)\n",
        "\n",
        "  plot_decision_regions(X_numpy, y_numpy, model_percep)\n",
        "\n",
        "if __name__ == '__main__':\n",
        "    main()"
      ],
      "metadata": {
        "colab": {
          "base_uri": "https://localhost:8080/",
          "height": 686
        },
        "id": "gw4gE6Rb2php",
        "outputId": "0e157a59-cbe7-4680-8bc6-6622558a6a99"
      },
      "execution_count": 12,
      "outputs": [
        {
          "output_type": "stream",
          "name": "stdout",
          "text": [
            "Accuracy of model_svg: 73.75%\n",
            "\n",
            "Confusion Matrix using Perceptron:\n",
            "\n",
            "[[21  0  0  0]\n",
            " [ 0 15  3  8]\n",
            " [ 4  6 12  0]\n",
            " [ 0  0  0 11]]\n"
          ]
        },
        {
          "output_type": "display_data",
          "data": {
            "text/plain": [
              "<Figure size 432x288 with 2 Axes>"
            ],
            "image/png": "[encoded data removed]"
          },
          "metadata": {
            "needs_background": "light"
          }
        },
        {
          "output_type": "display_data",
          "data": {
            "text/plain": [
              "<Figure size 432x288 with 1 Axes>"
            ],
            "image/png": "[encoded data removed]"
          },
          "metadata": {
            "needs_background": "light"
          }
        }
      ]
    },
    {
      "cell_type": "markdown",
      "source": [
        "Question **2** "
      ],
      "metadata": {
        "id": "5wAvWZuAEH11"
      }
    },
    {
      "cell_type": "code",
      "source": [
        "def main():\n",
        "  warnings.simplefilter('ignore')\n",
        "  features = ['LPR','PEG']\n",
        "  categories = [0,1,2,3]\n",
        "  X_train, X_test, y_train, y_test, data_train = produceDataset(features)\n",
        "  \n",
        "  X_train = np.array(X_train)\n",
        "  X_test = np.array(X_test)\n",
        "  \n",
        "  y_test = np.array(y_test)\n",
        "  y_test = y_test.reshape((-1,1))\n",
        "  \n",
        "  y_train = np.array(y_train)\n",
        "  y_train = y_train.reshape((-1,1))\n",
        "\n",
        "\n",
        "  mlb = MultiLabelBinarizer()\n",
        "  yNew = mlb.fit_transform(y_train)\n",
        "\n",
        "  y0 = yNew[:,0]\n",
        "  y1 = yNew[:,1] \n",
        "  y2 = yNew[:,2] \n",
        "  y3 = yNew[:,3]\n",
        "\n",
        "  yNew_test = mlb.fit_transform(y_test)\n",
        "\n",
        "  y0_test = yNew_test[:,0]\n",
        "  y1_test = yNew_test[:,1] \n",
        "  y2_test = yNew_test[:,2] \n",
        "  y3_test = yNew_test[:,3]\n",
        "\n",
        "  # print(\"y0\\n\", y0)\n",
        "  clf_0 = svm.SVC(kernel='rbf', probability=True)\n",
        "  clf_0.fit(X_train, y0)\n",
        "  print('Accuracy of Model: {:.2f}%'.format(getAccuracy(clf_0, X_test, y0_test)))\n",
        "  yb0_pred = clf_0.predict_proba(X_test)[:,1].reshape(-1,1)\n",
        "  \n",
        "  #Decision Boundary\n",
        "  plot_decision_regions(X_test, y0_test, clf_0)\n",
        "  plt.xlabel('LPR')\n",
        "  plt.ylabel('PEG')\n",
        "  plt.title('Decision Boundary for Class = High')\n",
        "  plt.show()\n",
        "\n",
        "  clf_1 = svm.SVC(kernel='rbf', probability=True)\n",
        "  clf_1.fit(X_train, y1)\n",
        "  print('Accuracy of Model: {:.2f}%'.format(getAccuracy(clf_1, X_test, y1_test)))\n",
        "  yb1_pred = clf_1.predict_proba(X_test)[:,1].reshape(-1,1)\n",
        "\n",
        "  #Decision Boundary\n",
        "  plot_decision_regions(X_test, y1_test, clf_1)\n",
        "  plt.xlabel('LPR')\n",
        "  plt.ylabel('PEG')\n",
        "  plt.title('Decision Boundary for Class = Low')\n",
        "  plt.show()\n",
        "\n",
        "  clf_2 = svm.SVC(kernel='rbf', probability=True)\n",
        "  clf_2.fit(X_train, y2)\n",
        "  print('Accuracy of clf_1: {:.2f}%'.format(getAccuracy(clf_2, X_test, y2_test)))\n",
        "  yb2_pred = clf_2.predict_proba(X_test)[:,1].reshape(-1,1)\n",
        "  \n",
        "  #Decision Boundary\n",
        "  plot_decision_regions(X_test, y2_test, clf_2)\n",
        "  plt.xlabel('LPR')\n",
        "  plt.ylabel('PEG')\n",
        "  plt.title('Decision Boundary for Class = Medium')\n",
        "  plt.show()\n",
        "\n",
        "  clf_3 = svm.SVC(kernel='rbf', probability=True)\n",
        "  clf_3.fit(X_train, y3)\n",
        "  print('Accuracy of Model: {:.2f}%'.format(getAccuracy(clf_3, X_test, y3_test)))\n",
        "  yb3_pred = clf_3.predict_proba(X_test)[:,1].reshape(-1,1)\n",
        " \n",
        "  #Decision Boundary\n",
        "  plot_decision_regions(X_test, y2_test, clf_3)\n",
        "  plt.xlabel('LPR')\n",
        "  plt.ylabel('PEG')\n",
        "  plt.title('Decision Boundary for Class = Very Low')\n",
        "  plt.show()\n",
        "\n",
        "  yb_all = np.hstack((yb0_pred, yb1_pred, yb2_pred, yb3_pred))\n",
        "  m = mlb.classes_[np.argmax(yb_all, axis=1)]\n",
        "  m = m.astype(str).astype(int)\n",
        "\n",
        "  print(classification_report(y_test, m))\n",
        "  # print(confusion_matrix(svm_test_y, svm_y_predict))\n",
        "\n",
        "  ax_ovr = plt.subplot()\n",
        "  # predict_results = model.predict(normed_test_data)\n",
        "\n",
        "  cm_ovr = confusion_matrix(y_test, m)\n",
        "\n",
        "  sns.heatmap(cm_ovr, annot=True, ax = ax_ovr); #annot=True to annotate cells\n",
        "\n",
        "  # labels, title and ticks\n",
        "  ax_ovr.set_xlabel('Predicted labels');ax_ovr.set_ylabel('True labels'); \n",
        "  ax_ovr.set_title('Confusion Matrix');\n",
        "  plt.show() \n",
        "\n",
        "  axis = plot_decision_regions(X_test, m, clf_0, legend=1)\n",
        "  plot_decision_regions(X_test, m, clf_1, ax = axis, legend=0)\n",
        "  plot_decision_regions(X_test, m, clf_2, ax = axis, legend=0)\n",
        "  plot_decision_regions(X_test, m, clf_3, ax = axis, legend=0)\n",
        "  plt.xlabel('LPR')\n",
        "  plt.ylabel('PEG')\n",
        "  plt.title('Aggregate Decision Boundary')\n",
        "  plt.show()\n",
        "\n",
        "if __name__ == '__main__':\n",
        "    main()"
      ],
      "metadata": {
        "id": "dSbZHxk2EF8t"
      },
      "execution_count": null,
      "outputs": []
    },
    {
      "cell_type": "code",
      "source": [],
      "metadata": {
        "id": "90CKyCAjuf4f"
      },
      "execution_count": null,
      "outputs": []
    },
    {
      "cell_type": "markdown",
      "source": [
        "# Question 3(a):"
      ],
      "metadata": {
        "id": "Dk04FgLUu78B"
      }
    },
    {
      "cell_type": "code",
      "source": [
        "# libraries\n",
        "import numpy as np # used for handling numbers\n",
        "import pandas as pd # used for handling the dataset\n",
        "from sklearn.impute import SimpleImputer # used for handling missing data\n",
        "from sklearn.preprocessing import LabelEncoder, OneHotEncoder # used for encoding categorical data\n",
        "from sklearn.model_selection import train_test_split # used for splitting training and testing data\n",
        "from sklearn.preprocessing import StandardScaler # used for feature scaling"
      ],
      "metadata": {
        "id": "3cY2u9iP5Z4g"
      },
      "execution_count": null,
      "outputs": []
    },
    {
      "cell_type": "code",
      "source": [
        "knn_data = pd.read_csv(\"/content/car_evaluation_new.csv\")\n",
        "\n",
        "knn_data.head()"
      ],
      "metadata": {
        "id": "qbKwdaUt7TDL"
      },
      "execution_count": null,
      "outputs": []
    },
    {
      "cell_type": "code",
      "source": [
        "feature_df = knn_data[['buying price', 'maintenance cost','number of doors', 'number of persons','lug_boot', 'safety']]\n",
        "\n",
        "knn_x = np.array(feature_df)\n",
        "knn_y = np.array(knn_data['class'])"
      ],
      "metadata": {
        "id": "GV1vSG0T8GcG"
      },
      "execution_count": null,
      "outputs": []
    },
    {
      "cell_type": "code",
      "source": [
        "# We want to split the data in 57.87:17.36:24.77 for train:valid:test dataset\n",
        "train_size=0.5788\n",
        "\n",
        "X = knn_data.drop(columns = ['class']).copy()\n",
        "y = knn_data['class']\n",
        "\n",
        "# In the first step we will split the data in training and remaining dataset\n",
        "X_train, X_rem, y_train, y_rem = train_test_split(X,y, train_size=0.5788)\n",
        "\n",
        "# Now since we want the valid and test size to be 17.36:24.77. \n",
        "# we have to define valid_size=0.4121 (that is 41.21% of remaining data)\n",
        "test_size = 0.5879\n",
        "X_valid, X_test, y_valid, y_test = train_test_split(X_rem,y_rem, test_size=0.5879)\n",
        "\n",
        "print(X_train.shape), print(y_train.shape)\n",
        "print(X_valid.shape), print(y_valid.shape)\n",
        "print(X_test.shape), print(y_test.shape)"
      ],
      "metadata": {
        "id": "c01pcuHd-fqT"
      },
      "execution_count": null,
      "outputs": []
    },
    {
      "cell_type": "code",
      "source": [],
      "metadata": {
        "id": "uToTPrjwu-u-"
      },
      "execution_count": null,
      "outputs": []
    },
    {
      "cell_type": "markdown",
      "source": [
        "# Question 3(b):"
      ],
      "metadata": {
        "id": "0fl9-tI9AG6V"
      }
    },
    {
      "cell_type": "code",
      "source": [
        "knn_data.info()"
      ],
      "metadata": {
        "id": "-x8xV-NXAIbB"
      },
      "execution_count": null,
      "outputs": []
    },
    {
      "cell_type": "code",
      "source": [
        "labelencoder = LabelEncoder()\n",
        "\n",
        "knn_data['buying price'] = labelencoder.fit_transform(knn_data['buying price'])\n",
        "knn_data['maintenance cost'] = labelencoder.fit_transform(knn_data['maintenance cost'])\n",
        "knn_data['number of doors'] = labelencoder.fit_transform(knn_data['number of doors'])\n",
        "knn_data['lug_boot'] = labelencoder.fit_transform(knn_data['lug_boot'])\n",
        "knn_data['safety'] = labelencoder.fit_transform(knn_data['safety'])\n",
        "knn_data['class'] = labelencoder.fit_transform(knn_data['class'])\n",
        "\n",
        "knn_data.to_csv(r'Car_Evaluation_New.csv', index = False)\n",
        "knn_data_new = pd.read_csv(\"/content/Car_Evaluation_data.csv\")\n",
        "knn_data_new.info()"
      ],
      "metadata": {
        "id": "gdRIiySwALqL"
      },
      "execution_count": null,
      "outputs": []
    },
    {
      "cell_type": "markdown",
      "source": [
        "# Question 3(b):"
      ],
      "metadata": {
        "id": "BqoHVQ5zvNm0"
      }
    },
    {
      "cell_type": "code",
      "source": [
        "knn_data.info()"
      ],
      "metadata": {
        "id": "cCD-zDEuvNm1"
      },
      "execution_count": null,
      "outputs": []
    },
    {
      "cell_type": "code",
      "source": [
        "labelencoder = LabelEncoder()\n",
        "\n",
        "knn_data['buying price'] = labelencoder.fit_transform(knn_data['buying price'])\n",
        "knn_data['maintenance cost'] = labelencoder.fit_transform(knn_data['maintenance cost'])\n",
        "knn_data['number of doors'] = labelencoder.fit_transform(knn_data['number of doors'])\n",
        "knn_data['lug_boot'] = labelencoder.fit_transform(knn_data['lug_boot'])\n",
        "knn_data['safety'] = labelencoder.fit_transform(knn_data['safety'])\n",
        "knn_data['class'] = labelencoder.fit_transform(knn_data['class'])\n",
        "\n",
        "knn_data.to_csv(r'Car_Evaluation_New.csv', index = False)\n",
        "knn_data_new = pd.read_csv(\"/content/Car_Evaluation_data.csv\")\n",
        "knn_data_new.info()"
      ],
      "metadata": {
        "id": "Y10oL5CuvNm1"
      },
      "execution_count": null,
      "outputs": []
    },
    {
      "cell_type": "code",
      "source": [],
      "metadata": {
        "id": "nmEO19XyvPBE"
      },
      "execution_count": null,
      "outputs": []
    },
    {
      "cell_type": "markdown",
      "source": [
        "# Question 3(c):"
      ],
      "metadata": {
        "id": "vuBtlGHHHZdU"
      }
    },
    {
      "cell_type": "code",
      "source": [
        "import itertools\n",
        "import numpy as np\n",
        "import matplotlib.pyplot as plt\n",
        "from matplotlib.ticker import NullFormatter\n",
        "import pandas as pd\n",
        "import numpy as np\n",
        "import matplotlib.ticker as ticker\n",
        "from sklearn import preprocessing\n",
        "from sklearn import datasets, neighbors\n",
        "from sklearn.model_selection import train_test_split\n",
        "from mlxtend.plotting import plot_decision_regions\n",
        "from sklearn.neighbors import KNeighborsClassifier\n",
        "from sklearn import metrics\n",
        "%matplotlib inline"
      ],
      "metadata": {
        "id": "rJnUNJSD_wd7"
      },
      "execution_count": null,
      "outputs": []
    },
    {
      "cell_type": "code",
      "source": [
        "knn_data_new = pd.read_csv(\"/content/Car_Evaluation_data.csv\")\n",
        "knn_data_new.info()"
      ],
      "metadata": {
        "id": "eUCzk8HkDMBM"
      },
      "execution_count": null,
      "outputs": []
    },
    {
      "cell_type": "code",
      "source": [
        "feature_df_new = knn_data_new[['buying price', 'maintenance cost','number of doors', 'number of persons','lug_boot', 'safety']]\n",
        "\n",
        "knn_x_new = np.array(feature_df_new)\n",
        "knn_y_new = np.array(knn_data_new['class'])"
      ],
      "metadata": {
        "id": "Rgc7H7hTDL_I"
      },
      "execution_count": null,
      "outputs": []
    },
    {
      "cell_type": "code",
      "source": [
        "# We want to split the data in 57.87:17.36:24.77 for train:valid:test dataset\n",
        "train_size=0.5788\n",
        "\n",
        "X_new = knn_data_new.drop(columns = ['class']).copy()\n",
        "y_new = knn_data_new['class']\n",
        "\n",
        "# In the first step we will split the data in training and remaining dataset\n",
        "X_train, X_rem, y_train, y_rem = train_test_split(X_new,y_new, train_size=0.5788)\n",
        "\n",
        "# Now since we want the valid and test size to be 17.36:24.77. \n",
        "# we have to define valid_size=0.4121 (that is 41.21% of remaining data)\n",
        "test_size = 0.5879\n",
        "X_valid, X_test, y_valid, y_test = train_test_split(X_rem,y_rem, test_size=0.5879)\n",
        "\n",
        "print(X_train.shape), print(y_train.shape)\n",
        "print(X_valid.shape), print(y_valid.shape)\n",
        "print(X_test.shape), print(y_test.shape)"
      ],
      "metadata": {
        "id": "0drMBsosDYo-"
      },
      "execution_count": null,
      "outputs": []
    },
    {
      "cell_type": "code",
      "source": [
        "samples = [0.1,0.2,0.3,0.4,0.5,0.6,0.7,0.8,0.9]\n",
        "mean_acc_valid = np.zeros((10))\n",
        "std_acc_valid = np.zeros((10))\n",
        "mean_acc_test = np.zeros((10))\n",
        "std_acc_test = np.zeros((10))\n",
        "ConfustionMx = [];\n",
        "for n in range(0,len(samples)):\n",
        "    \n",
        "    #Train Model and Predict  \n",
        "    x = X_train\n",
        "    y = y_train\n",
        "    X_train_loop, X_rem, y_train_loop, y_rem = train_test_split(x,y, train_size=samples[n])\n",
        "    neigh = KNeighborsClassifier(n_neighbors = 2).fit(X_train_loop,y_train_loop)\n",
        "    yhat_valid=neigh.predict(X_valid)\n",
        "    mean_acc_valid[n] = metrics.accuracy_score(y_valid, yhat_valid)\n",
        "    std_acc_valid[n]=np.std(yhat_valid==y_valid)/np.sqrt(yhat_valid.shape[0])\n",
        "\n",
        "    yhat_test=neigh.predict(X_test)\n",
        "    mean_acc_test[n] = metrics.accuracy_score(y_test, yhat_test)\n",
        "    std_acc_test[n]=np.std(yhat_test==y_test)/np.sqrt(yhat_test.shape[0])\n",
        "\n",
        "neigh = KNeighborsClassifier(n_neighbors = 2).fit(X_train,y_train)\n",
        "yhat_valid=neigh.predict(X_valid)\n",
        "mean_acc_valid[9] = metrics.accuracy_score(y_valid, yhat_valid)\n",
        "std_acc_valid[9]=np.std(yhat_valid==y_valid)/np.sqrt(yhat_valid.shape[0])\n",
        "\n",
        "yhat_test=neigh.predict(X_test)\n",
        "mean_acc_test[9] = metrics.accuracy_score(y_test, yhat_test)\n",
        "std_acc_test[9]=np.std(yhat_test==y_test)/np.sqrt(yhat_test.shape[0])\n"
      ],
      "metadata": {
        "id": "5Uf72GCm7eYP"
      },
      "execution_count": null,
      "outputs": []
    },
    {
      "cell_type": "code",
      "source": [
        "plt.plot(range(0,10),mean_acc_test,'b', label = 'Test')\n",
        "plt.plot(range(0,10),mean_acc_valid,'r', label = 'Valid')\n",
        "plt.fill_between(range(0,10),mean_acc_test - 1 * std_acc_test,mean_acc_test + 1 * std_acc_test, alpha=0.10)\n",
        "plt.fill_between(range(0,10),mean_acc_valid - 1 * std_acc_valid,mean_acc_valid + 1 * std_acc_valid, alpha=0.10)\n",
        "plt.legend()\n",
        "plt.ylabel('Accuracy ')\n",
        "plt.xlabel('Number of Samples in Percentage (%)')\n",
        "plt.title(\"Varying Portion of Sampling Data\")\n",
        "plt.show()"
      ],
      "metadata": {
        "id": "pzhMH7mlG3Wp"
      },
      "execution_count": null,
      "outputs": []
    },
    {
      "cell_type": "code",
      "source": [],
      "metadata": {
        "id": "YCoFU6jrvXri"
      },
      "execution_count": null,
      "outputs": []
    },
    {
      "cell_type": "markdown",
      "source": [
        "# Question 3(d):"
      ],
      "metadata": {
        "id": "R0yHRYHfDfJr"
      }
    },
    {
      "cell_type": "code",
      "source": [
        "import itertools\n",
        "import numpy as np\n",
        "import matplotlib.pyplot as plt\n",
        "from matplotlib.ticker import NullFormatter\n",
        "import pandas as pd\n",
        "import numpy as np\n",
        "import matplotlib.ticker as ticker\n",
        "from sklearn import preprocessing\n",
        "from sklearn import datasets, neighbors\n",
        "from sklearn.model_selection import train_test_split\n",
        "from mlxtend.plotting import plot_decision_regions\n",
        "from sklearn.neighbors import KNeighborsClassifier\n",
        "from sklearn import metrics\n",
        "%matplotlib inline"
      ],
      "metadata": {
        "id": "z4kWKmlpGPo1"
      },
      "execution_count": null,
      "outputs": []
    },
    {
      "cell_type": "code",
      "source": [
        "Ks = 10\n",
        "mean_acc = np.zeros((Ks-1))\n",
        "std_acc = np.zeros((Ks-1))\n",
        "ConfustionMx = [];\n",
        "for n in range(1,Ks):\n",
        "    \n",
        "    #Train Model and Predict  \n",
        "    neigh = KNeighborsClassifier(n_neighbors = n).fit(X_train,y_train)\n",
        "    yhat=neigh.predict(X_valid)\n",
        "    mean_acc[n-1] = metrics.accuracy_score(y_valid, yhat)\n",
        "\n",
        "    \n",
        "    std_acc[n-1]=np.std(yhat==y_valid)/np.sqrt(yhat.shape[0])\n",
        "\n",
        "mean_acc"
      ],
      "metadata": {
        "id": "WzQsqsZhGH-W"
      },
      "execution_count": null,
      "outputs": []
    },
    {
      "cell_type": "code",
      "source": [
        "plt.plot(range(1,Ks),mean_acc,'g')\n",
        "plt.fill_between(range(1,Ks),mean_acc - 1 * std_acc,mean_acc + 1 * std_acc, alpha=0.10)\n",
        "plt.legend(('Accuracy ', '+/- 3xstd'))\n",
        "plt.ylabel('Accuracy ')\n",
        "plt.xlabel('Number of Neignbours (K)')\n",
        "plt.title(\"Varying K values\")\n",
        "plt.tight_layout()\n",
        "plt.show()"
      ],
      "metadata": {
        "id": "DwzvAqL-GkyL"
      },
      "execution_count": null,
      "outputs": []
    },
    {
      "cell_type": "code",
      "source": [
        "print( \"The best accuracy was with\", mean_acc.max(), \"with k=\", mean_acc.argmax()+1)"
      ],
      "metadata": {
        "id": "jZkhHhAVGn7y"
      },
      "execution_count": null,
      "outputs": []
    }
  ]
}